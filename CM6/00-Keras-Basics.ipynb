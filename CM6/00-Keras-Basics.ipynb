{
 "cells": [
  {
   "cell_type": "markdown",
   "metadata": {},
   "source": [
    "# Notions de base sur Keras\n",
    "\n",
    "Nous allons utiliser Keras avec un backend TensorFlow pour effectuer nos opérations d'apprentissage profond.\n",
    "\n",
    "Cela signifie que nous devons nous familiariser avec certains principes fondamentaux de Keras !\n",
    "\n",
    "## Imports"
   ]
  },
  {
   "cell_type": "code",
   "execution_count": 1,
   "metadata": {},
   "outputs": [],
   "source": [
    "import numpy as np"
   ]
  },
  {
   "cell_type": "markdown",
   "metadata": {},
   "source": [
    "## Dataset\n",
    "\n",
    "Nous utiliserons le célèbre Iris dataset.\n",
    "_____\n",
    "Plus d'informations sur le jeu de données :\n",
    "https://en.wikipedia.org/wiki/Iris_flower_data_set\n",
    "\n",
    "## Lecture de l'ensemble de données"
   ]
  },
  {
   "cell_type": "code",
   "execution_count": 2,
   "metadata": {},
   "outputs": [],
   "source": [
    "from sklearn.datasets import load_iris"
   ]
  },
  {
   "cell_type": "code",
   "execution_count": 3,
   "metadata": {},
   "outputs": [],
   "source": [
    "iris = load_iris()"
   ]
  },
  {
   "cell_type": "code",
   "execution_count": 4,
   "metadata": {},
   "outputs": [
    {
     "data": {
      "text/plain": [
       "sklearn.utils._bunch.Bunch"
      ]
     },
     "execution_count": 4,
     "metadata": {},
     "output_type": "execute_result"
    }
   ],
   "source": [
    "type(iris)"
   ]
  },
  {
   "cell_type": "code",
   "execution_count": 5,
   "metadata": {},
   "outputs": [
    {
     "name": "stdout",
     "output_type": "stream",
     "text": [
      ".. _iris_dataset:\n",
      "\n",
      "Iris plants dataset\n",
      "--------------------\n",
      "\n",
      "**Data Set Characteristics:**\n",
      "\n",
      "    :Number of Instances: 150 (50 in each of three classes)\n",
      "    :Number of Attributes: 4 numeric, predictive attributes and the class\n",
      "    :Attribute Information:\n",
      "        - sepal length in cm\n",
      "        - sepal width in cm\n",
      "        - petal length in cm\n",
      "        - petal width in cm\n",
      "        - class:\n",
      "                - Iris-Setosa\n",
      "                - Iris-Versicolour\n",
      "                - Iris-Virginica\n",
      "                \n",
      "    :Summary Statistics:\n",
      "\n",
      "    ============== ==== ==== ======= ===== ====================\n",
      "                    Min  Max   Mean    SD   Class Correlation\n",
      "    ============== ==== ==== ======= ===== ====================\n",
      "    sepal length:   4.3  7.9   5.84   0.83    0.7826\n",
      "    sepal width:    2.0  4.4   3.05   0.43   -0.4194\n",
      "    petal length:   1.0  6.9   3.76   1.76    0.9490  (high!)\n",
      "    petal width:    0.1  2.5   1.20   0.76    0.9565  (high!)\n",
      "    ============== ==== ==== ======= ===== ====================\n",
      "\n",
      "    :Missing Attribute Values: None\n",
      "    :Class Distribution: 33.3% for each of 3 classes.\n",
      "    :Creator: R.A. Fisher\n",
      "    :Donor: Michael Marshall (MARSHALL%PLU@io.arc.nasa.gov)\n",
      "    :Date: July, 1988\n",
      "\n",
      "The famous Iris database, first used by Sir R.A. Fisher. The dataset is taken\n",
      "from Fisher's paper. Note that it's the same as in R, but not as in the UCI\n",
      "Machine Learning Repository, which has two wrong data points.\n",
      "\n",
      "This is perhaps the best known database to be found in the\n",
      "pattern recognition literature.  Fisher's paper is a classic in the field and\n",
      "is referenced frequently to this day.  (See Duda & Hart, for example.)  The\n",
      "data set contains 3 classes of 50 instances each, where each class refers to a\n",
      "type of iris plant.  One class is linearly separable from the other 2; the\n",
      "latter are NOT linearly separable from each other.\n",
      "\n",
      ".. topic:: References\n",
      "\n",
      "   - Fisher, R.A. \"The use of multiple measurements in taxonomic problems\"\n",
      "     Annual Eugenics, 7, Part II, 179-188 (1936); also in \"Contributions to\n",
      "     Mathematical Statistics\" (John Wiley, NY, 1950).\n",
      "   - Duda, R.O., & Hart, P.E. (1973) Pattern Classification and Scene Analysis.\n",
      "     (Q327.D83) John Wiley & Sons.  ISBN 0-471-22361-1.  See page 218.\n",
      "   - Dasarathy, B.V. (1980) \"Nosing Around the Neighborhood: A New System\n",
      "     Structure and Classification Rule for Recognition in Partially Exposed\n",
      "     Environments\".  IEEE Transactions on Pattern Analysis and Machine\n",
      "     Intelligence, Vol. PAMI-2, No. 1, 67-71.\n",
      "   - Gates, G.W. (1972) \"The Reduced Nearest Neighbor Rule\".  IEEE Transactions\n",
      "     on Information Theory, May 1972, 431-433.\n",
      "   - See also: 1988 MLC Proceedings, 54-64.  Cheeseman et al\"s AUTOCLASS II\n",
      "     conceptual clustering system finds 3 classes in the data.\n",
      "   - Many, many more ...\n"
     ]
    }
   ],
   "source": [
    "print(iris.DESCR)"
   ]
  },
  {
   "cell_type": "code",
   "execution_count": 6,
   "metadata": {},
   "outputs": [],
   "source": [
    "X = iris.data"
   ]
  },
  {
   "cell_type": "code",
   "execution_count": 7,
   "metadata": {},
   "outputs": [
    {
     "data": {
      "text/plain": [
       "array([[5.1, 3.5, 1.4, 0.2],\n",
       "       [4.9, 3. , 1.4, 0.2],\n",
       "       [4.7, 3.2, 1.3, 0.2],\n",
       "       [4.6, 3.1, 1.5, 0.2],\n",
       "       [5. , 3.6, 1.4, 0.2],\n",
       "       [5.4, 3.9, 1.7, 0.4],\n",
       "       [4.6, 3.4, 1.4, 0.3],\n",
       "       [5. , 3.4, 1.5, 0.2],\n",
       "       [4.4, 2.9, 1.4, 0.2],\n",
       "       [4.9, 3.1, 1.5, 0.1],\n",
       "       [5.4, 3.7, 1.5, 0.2],\n",
       "       [4.8, 3.4, 1.6, 0.2],\n",
       "       [4.8, 3. , 1.4, 0.1],\n",
       "       [4.3, 3. , 1.1, 0.1],\n",
       "       [5.8, 4. , 1.2, 0.2],\n",
       "       [5.7, 4.4, 1.5, 0.4],\n",
       "       [5.4, 3.9, 1.3, 0.4],\n",
       "       [5.1, 3.5, 1.4, 0.3],\n",
       "       [5.7, 3.8, 1.7, 0.3],\n",
       "       [5.1, 3.8, 1.5, 0.3],\n",
       "       [5.4, 3.4, 1.7, 0.2],\n",
       "       [5.1, 3.7, 1.5, 0.4],\n",
       "       [4.6, 3.6, 1. , 0.2],\n",
       "       [5.1, 3.3, 1.7, 0.5],\n",
       "       [4.8, 3.4, 1.9, 0.2],\n",
       "       [5. , 3. , 1.6, 0.2],\n",
       "       [5. , 3.4, 1.6, 0.4],\n",
       "       [5.2, 3.5, 1.5, 0.2],\n",
       "       [5.2, 3.4, 1.4, 0.2],\n",
       "       [4.7, 3.2, 1.6, 0.2],\n",
       "       [4.8, 3.1, 1.6, 0.2],\n",
       "       [5.4, 3.4, 1.5, 0.4],\n",
       "       [5.2, 4.1, 1.5, 0.1],\n",
       "       [5.5, 4.2, 1.4, 0.2],\n",
       "       [4.9, 3.1, 1.5, 0.2],\n",
       "       [5. , 3.2, 1.2, 0.2],\n",
       "       [5.5, 3.5, 1.3, 0.2],\n",
       "       [4.9, 3.6, 1.4, 0.1],\n",
       "       [4.4, 3. , 1.3, 0.2],\n",
       "       [5.1, 3.4, 1.5, 0.2],\n",
       "       [5. , 3.5, 1.3, 0.3],\n",
       "       [4.5, 2.3, 1.3, 0.3],\n",
       "       [4.4, 3.2, 1.3, 0.2],\n",
       "       [5. , 3.5, 1.6, 0.6],\n",
       "       [5.1, 3.8, 1.9, 0.4],\n",
       "       [4.8, 3. , 1.4, 0.3],\n",
       "       [5.1, 3.8, 1.6, 0.2],\n",
       "       [4.6, 3.2, 1.4, 0.2],\n",
       "       [5.3, 3.7, 1.5, 0.2],\n",
       "       [5. , 3.3, 1.4, 0.2],\n",
       "       [7. , 3.2, 4.7, 1.4],\n",
       "       [6.4, 3.2, 4.5, 1.5],\n",
       "       [6.9, 3.1, 4.9, 1.5],\n",
       "       [5.5, 2.3, 4. , 1.3],\n",
       "       [6.5, 2.8, 4.6, 1.5],\n",
       "       [5.7, 2.8, 4.5, 1.3],\n",
       "       [6.3, 3.3, 4.7, 1.6],\n",
       "       [4.9, 2.4, 3.3, 1. ],\n",
       "       [6.6, 2.9, 4.6, 1.3],\n",
       "       [5.2, 2.7, 3.9, 1.4],\n",
       "       [5. , 2. , 3.5, 1. ],\n",
       "       [5.9, 3. , 4.2, 1.5],\n",
       "       [6. , 2.2, 4. , 1. ],\n",
       "       [6.1, 2.9, 4.7, 1.4],\n",
       "       [5.6, 2.9, 3.6, 1.3],\n",
       "       [6.7, 3.1, 4.4, 1.4],\n",
       "       [5.6, 3. , 4.5, 1.5],\n",
       "       [5.8, 2.7, 4.1, 1. ],\n",
       "       [6.2, 2.2, 4.5, 1.5],\n",
       "       [5.6, 2.5, 3.9, 1.1],\n",
       "       [5.9, 3.2, 4.8, 1.8],\n",
       "       [6.1, 2.8, 4. , 1.3],\n",
       "       [6.3, 2.5, 4.9, 1.5],\n",
       "       [6.1, 2.8, 4.7, 1.2],\n",
       "       [6.4, 2.9, 4.3, 1.3],\n",
       "       [6.6, 3. , 4.4, 1.4],\n",
       "       [6.8, 2.8, 4.8, 1.4],\n",
       "       [6.7, 3. , 5. , 1.7],\n",
       "       [6. , 2.9, 4.5, 1.5],\n",
       "       [5.7, 2.6, 3.5, 1. ],\n",
       "       [5.5, 2.4, 3.8, 1.1],\n",
       "       [5.5, 2.4, 3.7, 1. ],\n",
       "       [5.8, 2.7, 3.9, 1.2],\n",
       "       [6. , 2.7, 5.1, 1.6],\n",
       "       [5.4, 3. , 4.5, 1.5],\n",
       "       [6. , 3.4, 4.5, 1.6],\n",
       "       [6.7, 3.1, 4.7, 1.5],\n",
       "       [6.3, 2.3, 4.4, 1.3],\n",
       "       [5.6, 3. , 4.1, 1.3],\n",
       "       [5.5, 2.5, 4. , 1.3],\n",
       "       [5.5, 2.6, 4.4, 1.2],\n",
       "       [6.1, 3. , 4.6, 1.4],\n",
       "       [5.8, 2.6, 4. , 1.2],\n",
       "       [5. , 2.3, 3.3, 1. ],\n",
       "       [5.6, 2.7, 4.2, 1.3],\n",
       "       [5.7, 3. , 4.2, 1.2],\n",
       "       [5.7, 2.9, 4.2, 1.3],\n",
       "       [6.2, 2.9, 4.3, 1.3],\n",
       "       [5.1, 2.5, 3. , 1.1],\n",
       "       [5.7, 2.8, 4.1, 1.3],\n",
       "       [6.3, 3.3, 6. , 2.5],\n",
       "       [5.8, 2.7, 5.1, 1.9],\n",
       "       [7.1, 3. , 5.9, 2.1],\n",
       "       [6.3, 2.9, 5.6, 1.8],\n",
       "       [6.5, 3. , 5.8, 2.2],\n",
       "       [7.6, 3. , 6.6, 2.1],\n",
       "       [4.9, 2.5, 4.5, 1.7],\n",
       "       [7.3, 2.9, 6.3, 1.8],\n",
       "       [6.7, 2.5, 5.8, 1.8],\n",
       "       [7.2, 3.6, 6.1, 2.5],\n",
       "       [6.5, 3.2, 5.1, 2. ],\n",
       "       [6.4, 2.7, 5.3, 1.9],\n",
       "       [6.8, 3. , 5.5, 2.1],\n",
       "       [5.7, 2.5, 5. , 2. ],\n",
       "       [5.8, 2.8, 5.1, 2.4],\n",
       "       [6.4, 3.2, 5.3, 2.3],\n",
       "       [6.5, 3. , 5.5, 1.8],\n",
       "       [7.7, 3.8, 6.7, 2.2],\n",
       "       [7.7, 2.6, 6.9, 2.3],\n",
       "       [6. , 2.2, 5. , 1.5],\n",
       "       [6.9, 3.2, 5.7, 2.3],\n",
       "       [5.6, 2.8, 4.9, 2. ],\n",
       "       [7.7, 2.8, 6.7, 2. ],\n",
       "       [6.3, 2.7, 4.9, 1.8],\n",
       "       [6.7, 3.3, 5.7, 2.1],\n",
       "       [7.2, 3.2, 6. , 1.8],\n",
       "       [6.2, 2.8, 4.8, 1.8],\n",
       "       [6.1, 3. , 4.9, 1.8],\n",
       "       [6.4, 2.8, 5.6, 2.1],\n",
       "       [7.2, 3. , 5.8, 1.6],\n",
       "       [7.4, 2.8, 6.1, 1.9],\n",
       "       [7.9, 3.8, 6.4, 2. ],\n",
       "       [6.4, 2.8, 5.6, 2.2],\n",
       "       [6.3, 2.8, 5.1, 1.5],\n",
       "       [6.1, 2.6, 5.6, 1.4],\n",
       "       [7.7, 3. , 6.1, 2.3],\n",
       "       [6.3, 3.4, 5.6, 2.4],\n",
       "       [6.4, 3.1, 5.5, 1.8],\n",
       "       [6. , 3. , 4.8, 1.8],\n",
       "       [6.9, 3.1, 5.4, 2.1],\n",
       "       [6.7, 3.1, 5.6, 2.4],\n",
       "       [6.9, 3.1, 5.1, 2.3],\n",
       "       [5.8, 2.7, 5.1, 1.9],\n",
       "       [6.8, 3.2, 5.9, 2.3],\n",
       "       [6.7, 3.3, 5.7, 2.5],\n",
       "       [6.7, 3. , 5.2, 2.3],\n",
       "       [6.3, 2.5, 5. , 1.9],\n",
       "       [6.5, 3. , 5.2, 2. ],\n",
       "       [6.2, 3.4, 5.4, 2.3],\n",
       "       [5.9, 3. , 5.1, 1.8]])"
      ]
     },
     "execution_count": 7,
     "metadata": {},
     "output_type": "execute_result"
    }
   ],
   "source": [
    "X"
   ]
  },
  {
   "cell_type": "code",
   "execution_count": 8,
   "metadata": {},
   "outputs": [],
   "source": [
    "y = iris.target"
   ]
  },
  {
   "cell_type": "code",
   "execution_count": 9,
   "metadata": {},
   "outputs": [
    {
     "data": {
      "text/plain": [
       "array([0, 0, 0, 0, 0, 0, 0, 0, 0, 0, 0, 0, 0, 0, 0, 0, 0, 0, 0, 0, 0, 0,\n",
       "       0, 0, 0, 0, 0, 0, 0, 0, 0, 0, 0, 0, 0, 0, 0, 0, 0, 0, 0, 0, 0, 0,\n",
       "       0, 0, 0, 0, 0, 0, 1, 1, 1, 1, 1, 1, 1, 1, 1, 1, 1, 1, 1, 1, 1, 1,\n",
       "       1, 1, 1, 1, 1, 1, 1, 1, 1, 1, 1, 1, 1, 1, 1, 1, 1, 1, 1, 1, 1, 1,\n",
       "       1, 1, 1, 1, 1, 1, 1, 1, 1, 1, 1, 1, 2, 2, 2, 2, 2, 2, 2, 2, 2, 2,\n",
       "       2, 2, 2, 2, 2, 2, 2, 2, 2, 2, 2, 2, 2, 2, 2, 2, 2, 2, 2, 2, 2, 2,\n",
       "       2, 2, 2, 2, 2, 2, 2, 2, 2, 2, 2, 2, 2, 2, 2, 2, 2, 2])"
      ]
     },
     "execution_count": 9,
     "metadata": {},
     "output_type": "execute_result"
    }
   ],
   "source": [
    "y"
   ]
  },
  {
   "cell_type": "code",
   "execution_count": 10,
   "metadata": {},
   "outputs": [],
   "source": [
    "from keras.utils import to_categorical"
   ]
  },
  {
   "cell_type": "code",
   "execution_count": 11,
   "metadata": {},
   "outputs": [],
   "source": [
    "y = to_categorical(y)"
   ]
  },
  {
   "cell_type": "code",
   "execution_count": 12,
   "metadata": {},
   "outputs": [
    {
     "data": {
      "text/plain": [
       "(150, 3)"
      ]
     },
     "execution_count": 12,
     "metadata": {},
     "output_type": "execute_result"
    }
   ],
   "source": [
    "y.shape"
   ]
  },
  {
   "cell_type": "code",
   "execution_count": 13,
   "metadata": {},
   "outputs": [
    {
     "data": {
      "text/plain": [
       "array([[1., 0., 0.],\n",
       "       [1., 0., 0.],\n",
       "       [1., 0., 0.],\n",
       "       [1., 0., 0.],\n",
       "       [1., 0., 0.],\n",
       "       [1., 0., 0.],\n",
       "       [1., 0., 0.],\n",
       "       [1., 0., 0.],\n",
       "       [1., 0., 0.],\n",
       "       [1., 0., 0.],\n",
       "       [1., 0., 0.],\n",
       "       [1., 0., 0.],\n",
       "       [1., 0., 0.],\n",
       "       [1., 0., 0.],\n",
       "       [1., 0., 0.],\n",
       "       [1., 0., 0.],\n",
       "       [1., 0., 0.],\n",
       "       [1., 0., 0.],\n",
       "       [1., 0., 0.],\n",
       "       [1., 0., 0.],\n",
       "       [1., 0., 0.],\n",
       "       [1., 0., 0.],\n",
       "       [1., 0., 0.],\n",
       "       [1., 0., 0.],\n",
       "       [1., 0., 0.],\n",
       "       [1., 0., 0.],\n",
       "       [1., 0., 0.],\n",
       "       [1., 0., 0.],\n",
       "       [1., 0., 0.],\n",
       "       [1., 0., 0.],\n",
       "       [1., 0., 0.],\n",
       "       [1., 0., 0.],\n",
       "       [1., 0., 0.],\n",
       "       [1., 0., 0.],\n",
       "       [1., 0., 0.],\n",
       "       [1., 0., 0.],\n",
       "       [1., 0., 0.],\n",
       "       [1., 0., 0.],\n",
       "       [1., 0., 0.],\n",
       "       [1., 0., 0.],\n",
       "       [1., 0., 0.],\n",
       "       [1., 0., 0.],\n",
       "       [1., 0., 0.],\n",
       "       [1., 0., 0.],\n",
       "       [1., 0., 0.],\n",
       "       [1., 0., 0.],\n",
       "       [1., 0., 0.],\n",
       "       [1., 0., 0.],\n",
       "       [1., 0., 0.],\n",
       "       [1., 0., 0.],\n",
       "       [0., 1., 0.],\n",
       "       [0., 1., 0.],\n",
       "       [0., 1., 0.],\n",
       "       [0., 1., 0.],\n",
       "       [0., 1., 0.],\n",
       "       [0., 1., 0.],\n",
       "       [0., 1., 0.],\n",
       "       [0., 1., 0.],\n",
       "       [0., 1., 0.],\n",
       "       [0., 1., 0.],\n",
       "       [0., 1., 0.],\n",
       "       [0., 1., 0.],\n",
       "       [0., 1., 0.],\n",
       "       [0., 1., 0.],\n",
       "       [0., 1., 0.],\n",
       "       [0., 1., 0.],\n",
       "       [0., 1., 0.],\n",
       "       [0., 1., 0.],\n",
       "       [0., 1., 0.],\n",
       "       [0., 1., 0.],\n",
       "       [0., 1., 0.],\n",
       "       [0., 1., 0.],\n",
       "       [0., 1., 0.],\n",
       "       [0., 1., 0.],\n",
       "       [0., 1., 0.],\n",
       "       [0., 1., 0.],\n",
       "       [0., 1., 0.],\n",
       "       [0., 1., 0.],\n",
       "       [0., 1., 0.],\n",
       "       [0., 1., 0.],\n",
       "       [0., 1., 0.],\n",
       "       [0., 1., 0.],\n",
       "       [0., 1., 0.],\n",
       "       [0., 1., 0.],\n",
       "       [0., 1., 0.],\n",
       "       [0., 1., 0.],\n",
       "       [0., 1., 0.],\n",
       "       [0., 1., 0.],\n",
       "       [0., 1., 0.],\n",
       "       [0., 1., 0.],\n",
       "       [0., 1., 0.],\n",
       "       [0., 1., 0.],\n",
       "       [0., 1., 0.],\n",
       "       [0., 1., 0.],\n",
       "       [0., 1., 0.],\n",
       "       [0., 1., 0.],\n",
       "       [0., 1., 0.],\n",
       "       [0., 1., 0.],\n",
       "       [0., 1., 0.],\n",
       "       [0., 1., 0.],\n",
       "       [0., 0., 1.],\n",
       "       [0., 0., 1.],\n",
       "       [0., 0., 1.],\n",
       "       [0., 0., 1.],\n",
       "       [0., 0., 1.],\n",
       "       [0., 0., 1.],\n",
       "       [0., 0., 1.],\n",
       "       [0., 0., 1.],\n",
       "       [0., 0., 1.],\n",
       "       [0., 0., 1.],\n",
       "       [0., 0., 1.],\n",
       "       [0., 0., 1.],\n",
       "       [0., 0., 1.],\n",
       "       [0., 0., 1.],\n",
       "       [0., 0., 1.],\n",
       "       [0., 0., 1.],\n",
       "       [0., 0., 1.],\n",
       "       [0., 0., 1.],\n",
       "       [0., 0., 1.],\n",
       "       [0., 0., 1.],\n",
       "       [0., 0., 1.],\n",
       "       [0., 0., 1.],\n",
       "       [0., 0., 1.],\n",
       "       [0., 0., 1.],\n",
       "       [0., 0., 1.],\n",
       "       [0., 0., 1.],\n",
       "       [0., 0., 1.],\n",
       "       [0., 0., 1.],\n",
       "       [0., 0., 1.],\n",
       "       [0., 0., 1.],\n",
       "       [0., 0., 1.],\n",
       "       [0., 0., 1.],\n",
       "       [0., 0., 1.],\n",
       "       [0., 0., 1.],\n",
       "       [0., 0., 1.],\n",
       "       [0., 0., 1.],\n",
       "       [0., 0., 1.],\n",
       "       [0., 0., 1.],\n",
       "       [0., 0., 1.],\n",
       "       [0., 0., 1.],\n",
       "       [0., 0., 1.],\n",
       "       [0., 0., 1.],\n",
       "       [0., 0., 1.],\n",
       "       [0., 0., 1.],\n",
       "       [0., 0., 1.],\n",
       "       [0., 0., 1.],\n",
       "       [0., 0., 1.],\n",
       "       [0., 0., 1.],\n",
       "       [0., 0., 1.],\n",
       "       [0., 0., 1.]], dtype=float32)"
      ]
     },
     "execution_count": 13,
     "metadata": {},
     "output_type": "execute_result"
    }
   ],
   "source": [
    "y"
   ]
  },
  {
   "cell_type": "markdown",
   "metadata": {},
   "source": [
    "## Diviser les données en Training and Test set\n",
    "\n",
    "Il est temps de diviser les données en un ensemble d'entrainement/test. Gardez à l'esprit que les gens aiment parfois diviser les données en trois parties, entrainement/test/validation. Nous allons garder les choses simples pour l'instant. "
   ]
  },
  {
   "cell_type": "code",
   "execution_count": 14,
   "metadata": {},
   "outputs": [],
   "source": [
    "from sklearn.model_selection import train_test_split"
   ]
  },
  {
   "cell_type": "code",
   "execution_count": 15,
   "metadata": {},
   "outputs": [],
   "source": [
    "X_train, X_test, y_train, y_test = train_test_split(X, y, test_size=0.33, random_state=42)"
   ]
  },
  {
   "cell_type": "code",
   "execution_count": 16,
   "metadata": {},
   "outputs": [
    {
     "data": {
      "text/plain": [
       "array([[5.7, 2.9, 4.2, 1.3],\n",
       "       [7.6, 3. , 6.6, 2.1],\n",
       "       [5.6, 3. , 4.5, 1.5],\n",
       "       [5.1, 3.5, 1.4, 0.2],\n",
       "       [7.7, 2.8, 6.7, 2. ],\n",
       "       [5.8, 2.7, 4.1, 1. ],\n",
       "       [5.2, 3.4, 1.4, 0.2],\n",
       "       [5. , 3.5, 1.3, 0.3],\n",
       "       [5.1, 3.8, 1.9, 0.4],\n",
       "       [5. , 2. , 3.5, 1. ],\n",
       "       [6.3, 2.7, 4.9, 1.8],\n",
       "       [4.8, 3.4, 1.9, 0.2],\n",
       "       [5. , 3. , 1.6, 0.2],\n",
       "       [5.1, 3.3, 1.7, 0.5],\n",
       "       [5.6, 2.7, 4.2, 1.3],\n",
       "       [5.1, 3.4, 1.5, 0.2],\n",
       "       [5.7, 3. , 4.2, 1.2],\n",
       "       [7.7, 3.8, 6.7, 2.2],\n",
       "       [4.6, 3.2, 1.4, 0.2],\n",
       "       [6.2, 2.9, 4.3, 1.3],\n",
       "       [5.7, 2.5, 5. , 2. ],\n",
       "       [5.5, 4.2, 1.4, 0.2],\n",
       "       [6. , 3. , 4.8, 1.8],\n",
       "       [5.8, 2.7, 5.1, 1.9],\n",
       "       [6. , 2.2, 4. , 1. ],\n",
       "       [5.4, 3. , 4.5, 1.5],\n",
       "       [6.2, 3.4, 5.4, 2.3],\n",
       "       [5.5, 2.3, 4. , 1.3],\n",
       "       [5.4, 3.9, 1.7, 0.4],\n",
       "       [5. , 2.3, 3.3, 1. ],\n",
       "       [6.4, 2.7, 5.3, 1.9],\n",
       "       [5. , 3.3, 1.4, 0.2],\n",
       "       [5. , 3.2, 1.2, 0.2],\n",
       "       [5.5, 2.4, 3.8, 1.1],\n",
       "       [6.7, 3. , 5. , 1.7],\n",
       "       [4.9, 3.1, 1.5, 0.2],\n",
       "       [5.8, 2.8, 5.1, 2.4],\n",
       "       [5. , 3.4, 1.5, 0.2],\n",
       "       [5. , 3.5, 1.6, 0.6],\n",
       "       [5.9, 3.2, 4.8, 1.8],\n",
       "       [5.1, 2.5, 3. , 1.1],\n",
       "       [6.9, 3.2, 5.7, 2.3],\n",
       "       [6. , 2.7, 5.1, 1.6],\n",
       "       [6.1, 2.6, 5.6, 1.4],\n",
       "       [7.7, 3. , 6.1, 2.3],\n",
       "       [5.5, 2.5, 4. , 1.3],\n",
       "       [4.4, 2.9, 1.4, 0.2],\n",
       "       [4.3, 3. , 1.1, 0.1],\n",
       "       [6. , 2.2, 5. , 1.5],\n",
       "       [7.2, 3.2, 6. , 1.8],\n",
       "       [4.6, 3.1, 1.5, 0.2],\n",
       "       [5.1, 3.5, 1.4, 0.3],\n",
       "       [4.4, 3. , 1.3, 0.2],\n",
       "       [6.3, 2.5, 4.9, 1.5],\n",
       "       [6.3, 3.4, 5.6, 2.4],\n",
       "       [4.6, 3.4, 1.4, 0.3],\n",
       "       [6.8, 3. , 5.5, 2.1],\n",
       "       [6.3, 3.3, 6. , 2.5],\n",
       "       [4.7, 3.2, 1.3, 0.2],\n",
       "       [6.1, 2.9, 4.7, 1.4],\n",
       "       [6.5, 2.8, 4.6, 1.5],\n",
       "       [6.2, 2.8, 4.8, 1.8],\n",
       "       [7. , 3.2, 4.7, 1.4],\n",
       "       [6.4, 3.2, 5.3, 2.3],\n",
       "       [5.1, 3.8, 1.6, 0.2],\n",
       "       [6.9, 3.1, 5.4, 2.1],\n",
       "       [5.9, 3. , 4.2, 1.5],\n",
       "       [6.5, 3. , 5.2, 2. ],\n",
       "       [5.7, 2.6, 3.5, 1. ],\n",
       "       [5.2, 2.7, 3.9, 1.4],\n",
       "       [6.1, 3. , 4.6, 1.4],\n",
       "       [4.5, 2.3, 1.3, 0.3],\n",
       "       [6.6, 2.9, 4.6, 1.3],\n",
       "       [5.5, 2.6, 4.4, 1.2],\n",
       "       [5.3, 3.7, 1.5, 0.2],\n",
       "       [5.6, 3. , 4.1, 1.3],\n",
       "       [7.3, 2.9, 6.3, 1.8],\n",
       "       [6.7, 3.3, 5.7, 2.1],\n",
       "       [5.1, 3.7, 1.5, 0.4],\n",
       "       [4.9, 2.4, 3.3, 1. ],\n",
       "       [6.7, 3.3, 5.7, 2.5],\n",
       "       [7.2, 3. , 5.8, 1.6],\n",
       "       [4.9, 3.6, 1.4, 0.1],\n",
       "       [6.7, 3.1, 5.6, 2.4],\n",
       "       [4.9, 3. , 1.4, 0.2],\n",
       "       [6.9, 3.1, 4.9, 1.5],\n",
       "       [7.4, 2.8, 6.1, 1.9],\n",
       "       [6.3, 2.9, 5.6, 1.8],\n",
       "       [5.7, 2.8, 4.1, 1.3],\n",
       "       [6.5, 3. , 5.5, 1.8],\n",
       "       [6.3, 2.3, 4.4, 1.3],\n",
       "       [6.4, 2.9, 4.3, 1.3],\n",
       "       [5.6, 2.8, 4.9, 2. ],\n",
       "       [5.9, 3. , 5.1, 1.8],\n",
       "       [5.4, 3.4, 1.7, 0.2],\n",
       "       [6.1, 2.8, 4. , 1.3],\n",
       "       [4.9, 2.5, 4.5, 1.7],\n",
       "       [5.8, 4. , 1.2, 0.2],\n",
       "       [5.8, 2.6, 4. , 1.2],\n",
       "       [7.1, 3. , 5.9, 2.1]])"
      ]
     },
     "execution_count": 16,
     "metadata": {},
     "output_type": "execute_result"
    }
   ],
   "source": [
    "X_train"
   ]
  },
  {
   "cell_type": "code",
   "execution_count": 17,
   "metadata": {},
   "outputs": [
    {
     "data": {
      "text/plain": [
       "array([[6.1, 2.8, 4.7, 1.2],\n",
       "       [5.7, 3.8, 1.7, 0.3],\n",
       "       [7.7, 2.6, 6.9, 2.3],\n",
       "       [6. , 2.9, 4.5, 1.5],\n",
       "       [6.8, 2.8, 4.8, 1.4],\n",
       "       [5.4, 3.4, 1.5, 0.4],\n",
       "       [5.6, 2.9, 3.6, 1.3],\n",
       "       [6.9, 3.1, 5.1, 2.3],\n",
       "       [6.2, 2.2, 4.5, 1.5],\n",
       "       [5.8, 2.7, 3.9, 1.2],\n",
       "       [6.5, 3.2, 5.1, 2. ],\n",
       "       [4.8, 3. , 1.4, 0.1],\n",
       "       [5.5, 3.5, 1.3, 0.2],\n",
       "       [4.9, 3.1, 1.5, 0.1],\n",
       "       [5.1, 3.8, 1.5, 0.3],\n",
       "       [6.3, 3.3, 4.7, 1.6],\n",
       "       [6.5, 3. , 5.8, 2.2],\n",
       "       [5.6, 2.5, 3.9, 1.1],\n",
       "       [5.7, 2.8, 4.5, 1.3],\n",
       "       [6.4, 2.8, 5.6, 2.2],\n",
       "       [4.7, 3.2, 1.6, 0.2],\n",
       "       [6.1, 3. , 4.9, 1.8],\n",
       "       [5. , 3.4, 1.6, 0.4],\n",
       "       [6.4, 2.8, 5.6, 2.1],\n",
       "       [7.9, 3.8, 6.4, 2. ],\n",
       "       [6.7, 3. , 5.2, 2.3],\n",
       "       [6.7, 2.5, 5.8, 1.8],\n",
       "       [6.8, 3.2, 5.9, 2.3],\n",
       "       [4.8, 3. , 1.4, 0.3],\n",
       "       [4.8, 3.1, 1.6, 0.2],\n",
       "       [4.6, 3.6, 1. , 0.2],\n",
       "       [5.7, 4.4, 1.5, 0.4],\n",
       "       [6.7, 3.1, 4.4, 1.4],\n",
       "       [4.8, 3.4, 1.6, 0.2],\n",
       "       [4.4, 3.2, 1.3, 0.2],\n",
       "       [6.3, 2.5, 5. , 1.9],\n",
       "       [6.4, 3.2, 4.5, 1.5],\n",
       "       [5.2, 3.5, 1.5, 0.2],\n",
       "       [5. , 3.6, 1.4, 0.2],\n",
       "       [5.2, 4.1, 1.5, 0.1],\n",
       "       [5.8, 2.7, 5.1, 1.9],\n",
       "       [6. , 3.4, 4.5, 1.6],\n",
       "       [6.7, 3.1, 4.7, 1.5],\n",
       "       [5.4, 3.9, 1.3, 0.4],\n",
       "       [5.4, 3.7, 1.5, 0.2],\n",
       "       [5.5, 2.4, 3.7, 1. ],\n",
       "       [6.3, 2.8, 5.1, 1.5],\n",
       "       [6.4, 3.1, 5.5, 1.8],\n",
       "       [6.6, 3. , 4.4, 1.4],\n",
       "       [7.2, 3.6, 6.1, 2.5]])"
      ]
     },
     "execution_count": 17,
     "metadata": {},
     "output_type": "execute_result"
    }
   ],
   "source": [
    "X_test"
   ]
  },
  {
   "cell_type": "code",
   "execution_count": 18,
   "metadata": {},
   "outputs": [
    {
     "data": {
      "text/plain": [
       "array([[0., 1., 0.],\n",
       "       [0., 0., 1.],\n",
       "       [0., 1., 0.],\n",
       "       [1., 0., 0.],\n",
       "       [0., 0., 1.],\n",
       "       [0., 1., 0.],\n",
       "       [1., 0., 0.],\n",
       "       [1., 0., 0.],\n",
       "       [1., 0., 0.],\n",
       "       [0., 1., 0.],\n",
       "       [0., 0., 1.],\n",
       "       [1., 0., 0.],\n",
       "       [1., 0., 0.],\n",
       "       [1., 0., 0.],\n",
       "       [0., 1., 0.],\n",
       "       [1., 0., 0.],\n",
       "       [0., 1., 0.],\n",
       "       [0., 0., 1.],\n",
       "       [1., 0., 0.],\n",
       "       [0., 1., 0.],\n",
       "       [0., 0., 1.],\n",
       "       [1., 0., 0.],\n",
       "       [0., 0., 1.],\n",
       "       [0., 0., 1.],\n",
       "       [0., 1., 0.],\n",
       "       [0., 1., 0.],\n",
       "       [0., 0., 1.],\n",
       "       [0., 1., 0.],\n",
       "       [1., 0., 0.],\n",
       "       [0., 1., 0.],\n",
       "       [0., 0., 1.],\n",
       "       [1., 0., 0.],\n",
       "       [1., 0., 0.],\n",
       "       [0., 1., 0.],\n",
       "       [0., 1., 0.],\n",
       "       [1., 0., 0.],\n",
       "       [0., 0., 1.],\n",
       "       [1., 0., 0.],\n",
       "       [1., 0., 0.],\n",
       "       [0., 1., 0.],\n",
       "       [0., 1., 0.],\n",
       "       [0., 0., 1.],\n",
       "       [0., 1., 0.],\n",
       "       [0., 0., 1.],\n",
       "       [0., 0., 1.],\n",
       "       [0., 1., 0.],\n",
       "       [1., 0., 0.],\n",
       "       [1., 0., 0.],\n",
       "       [0., 0., 1.],\n",
       "       [0., 0., 1.],\n",
       "       [1., 0., 0.],\n",
       "       [1., 0., 0.],\n",
       "       [1., 0., 0.],\n",
       "       [0., 1., 0.],\n",
       "       [0., 0., 1.],\n",
       "       [1., 0., 0.],\n",
       "       [0., 0., 1.],\n",
       "       [0., 0., 1.],\n",
       "       [1., 0., 0.],\n",
       "       [0., 1., 0.],\n",
       "       [0., 1., 0.],\n",
       "       [0., 0., 1.],\n",
       "       [0., 1., 0.],\n",
       "       [0., 0., 1.],\n",
       "       [1., 0., 0.],\n",
       "       [0., 0., 1.],\n",
       "       [0., 1., 0.],\n",
       "       [0., 0., 1.],\n",
       "       [0., 1., 0.],\n",
       "       [0., 1., 0.],\n",
       "       [0., 1., 0.],\n",
       "       [1., 0., 0.],\n",
       "       [0., 1., 0.],\n",
       "       [0., 1., 0.],\n",
       "       [1., 0., 0.],\n",
       "       [0., 1., 0.],\n",
       "       [0., 0., 1.],\n",
       "       [0., 0., 1.],\n",
       "       [1., 0., 0.],\n",
       "       [0., 1., 0.],\n",
       "       [0., 0., 1.],\n",
       "       [0., 0., 1.],\n",
       "       [1., 0., 0.],\n",
       "       [0., 0., 1.],\n",
       "       [1., 0., 0.],\n",
       "       [0., 1., 0.],\n",
       "       [0., 0., 1.],\n",
       "       [0., 0., 1.],\n",
       "       [0., 1., 0.],\n",
       "       [0., 0., 1.],\n",
       "       [0., 1., 0.],\n",
       "       [0., 1., 0.],\n",
       "       [0., 0., 1.],\n",
       "       [0., 0., 1.],\n",
       "       [1., 0., 0.],\n",
       "       [0., 1., 0.],\n",
       "       [0., 0., 1.],\n",
       "       [1., 0., 0.],\n",
       "       [0., 1., 0.],\n",
       "       [0., 0., 1.]], dtype=float32)"
      ]
     },
     "execution_count": 18,
     "metadata": {},
     "output_type": "execute_result"
    }
   ],
   "source": [
    "y_train"
   ]
  },
  {
   "cell_type": "code",
   "execution_count": 19,
   "metadata": {},
   "outputs": [
    {
     "data": {
      "text/plain": [
       "array([[0., 1., 0.],\n",
       "       [1., 0., 0.],\n",
       "       [0., 0., 1.],\n",
       "       [0., 1., 0.],\n",
       "       [0., 1., 0.],\n",
       "       [1., 0., 0.],\n",
       "       [0., 1., 0.],\n",
       "       [0., 0., 1.],\n",
       "       [0., 1., 0.],\n",
       "       [0., 1., 0.],\n",
       "       [0., 0., 1.],\n",
       "       [1., 0., 0.],\n",
       "       [1., 0., 0.],\n",
       "       [1., 0., 0.],\n",
       "       [1., 0., 0.],\n",
       "       [0., 1., 0.],\n",
       "       [0., 0., 1.],\n",
       "       [0., 1., 0.],\n",
       "       [0., 1., 0.],\n",
       "       [0., 0., 1.],\n",
       "       [1., 0., 0.],\n",
       "       [0., 0., 1.],\n",
       "       [1., 0., 0.],\n",
       "       [0., 0., 1.],\n",
       "       [0., 0., 1.],\n",
       "       [0., 0., 1.],\n",
       "       [0., 0., 1.],\n",
       "       [0., 0., 1.],\n",
       "       [1., 0., 0.],\n",
       "       [1., 0., 0.],\n",
       "       [1., 0., 0.],\n",
       "       [1., 0., 0.],\n",
       "       [0., 1., 0.],\n",
       "       [1., 0., 0.],\n",
       "       [1., 0., 0.],\n",
       "       [0., 0., 1.],\n",
       "       [0., 1., 0.],\n",
       "       [1., 0., 0.],\n",
       "       [1., 0., 0.],\n",
       "       [1., 0., 0.],\n",
       "       [0., 0., 1.],\n",
       "       [0., 1., 0.],\n",
       "       [0., 1., 0.],\n",
       "       [1., 0., 0.],\n",
       "       [1., 0., 0.],\n",
       "       [0., 1., 0.],\n",
       "       [0., 0., 1.],\n",
       "       [0., 0., 1.],\n",
       "       [0., 1., 0.],\n",
       "       [0., 0., 1.]], dtype=float32)"
      ]
     },
     "execution_count": 19,
     "metadata": {},
     "output_type": "execute_result"
    }
   ],
   "source": [
    "y_test"
   ]
  },
  {
   "cell_type": "markdown",
   "metadata": {},
   "source": [
    "## Standardizing the Data\n",
    "\n",
    "En règle générale, lorsque vous utilisez des réseaux neuronaux, vous obtiendrez de meilleures performances en normalisant les données. La normalisation consiste simplement à normaliser les valeurs pour qu'elles soient toutes comprises dans une certaine plage, comme 0-1, ou -1 à 1.\n",
    "\n",
    "La bibliothèque scikit learn fournit également une fonction intéressante pour cela.\n",
    "\n",
    "http://scikit-learn.org/stable/modules/generated/sklearn.preprocessing.MinMaxScaler.html"
   ]
  },
  {
   "cell_type": "code",
   "execution_count": 20,
   "metadata": {},
   "outputs": [],
   "source": [
    "from sklearn.preprocessing import MinMaxScaler"
   ]
  },
  {
   "cell_type": "code",
   "execution_count": 21,
   "metadata": {},
   "outputs": [],
   "source": [
    "scaler_object = MinMaxScaler()"
   ]
  },
  {
   "cell_type": "code",
   "execution_count": 22,
   "metadata": {},
   "outputs": [
    {
     "data": {
      "text/html": [
       "<style>#sk-container-id-1 {color: black;background-color: white;}#sk-container-id-1 pre{padding: 0;}#sk-container-id-1 div.sk-toggleable {background-color: white;}#sk-container-id-1 label.sk-toggleable__label {cursor: pointer;display: block;width: 100%;margin-bottom: 0;padding: 0.3em;box-sizing: border-box;text-align: center;}#sk-container-id-1 label.sk-toggleable__label-arrow:before {content: \"▸\";float: left;margin-right: 0.25em;color: #696969;}#sk-container-id-1 label.sk-toggleable__label-arrow:hover:before {color: black;}#sk-container-id-1 div.sk-estimator:hover label.sk-toggleable__label-arrow:before {color: black;}#sk-container-id-1 div.sk-toggleable__content {max-height: 0;max-width: 0;overflow: hidden;text-align: left;background-color: #f0f8ff;}#sk-container-id-1 div.sk-toggleable__content pre {margin: 0.2em;color: black;border-radius: 0.25em;background-color: #f0f8ff;}#sk-container-id-1 input.sk-toggleable__control:checked~div.sk-toggleable__content {max-height: 200px;max-width: 100%;overflow: auto;}#sk-container-id-1 input.sk-toggleable__control:checked~label.sk-toggleable__label-arrow:before {content: \"▾\";}#sk-container-id-1 div.sk-estimator input.sk-toggleable__control:checked~label.sk-toggleable__label {background-color: #d4ebff;}#sk-container-id-1 div.sk-label input.sk-toggleable__control:checked~label.sk-toggleable__label {background-color: #d4ebff;}#sk-container-id-1 input.sk-hidden--visually {border: 0;clip: rect(1px 1px 1px 1px);clip: rect(1px, 1px, 1px, 1px);height: 1px;margin: -1px;overflow: hidden;padding: 0;position: absolute;width: 1px;}#sk-container-id-1 div.sk-estimator {font-family: monospace;background-color: #f0f8ff;border: 1px dotted black;border-radius: 0.25em;box-sizing: border-box;margin-bottom: 0.5em;}#sk-container-id-1 div.sk-estimator:hover {background-color: #d4ebff;}#sk-container-id-1 div.sk-parallel-item::after {content: \"\";width: 100%;border-bottom: 1px solid gray;flex-grow: 1;}#sk-container-id-1 div.sk-label:hover label.sk-toggleable__label {background-color: #d4ebff;}#sk-container-id-1 div.sk-serial::before {content: \"\";position: absolute;border-left: 1px solid gray;box-sizing: border-box;top: 0;bottom: 0;left: 50%;z-index: 0;}#sk-container-id-1 div.sk-serial {display: flex;flex-direction: column;align-items: center;background-color: white;padding-right: 0.2em;padding-left: 0.2em;position: relative;}#sk-container-id-1 div.sk-item {position: relative;z-index: 1;}#sk-container-id-1 div.sk-parallel {display: flex;align-items: stretch;justify-content: center;background-color: white;position: relative;}#sk-container-id-1 div.sk-item::before, #sk-container-id-1 div.sk-parallel-item::before {content: \"\";position: absolute;border-left: 1px solid gray;box-sizing: border-box;top: 0;bottom: 0;left: 50%;z-index: -1;}#sk-container-id-1 div.sk-parallel-item {display: flex;flex-direction: column;z-index: 1;position: relative;background-color: white;}#sk-container-id-1 div.sk-parallel-item:first-child::after {align-self: flex-end;width: 50%;}#sk-container-id-1 div.sk-parallel-item:last-child::after {align-self: flex-start;width: 50%;}#sk-container-id-1 div.sk-parallel-item:only-child::after {width: 0;}#sk-container-id-1 div.sk-dashed-wrapped {border: 1px dashed gray;margin: 0 0.4em 0.5em 0.4em;box-sizing: border-box;padding-bottom: 0.4em;background-color: white;}#sk-container-id-1 div.sk-label label {font-family: monospace;font-weight: bold;display: inline-block;line-height: 1.2em;}#sk-container-id-1 div.sk-label-container {text-align: center;}#sk-container-id-1 div.sk-container {/* jupyter's `normalize.less` sets `[hidden] { display: none; }` but bootstrap.min.css set `[hidden] { display: none !important; }` so we also need the `!important` here to be able to override the default hidden behavior on the sphinx rendered scikit-learn.org. See: https://github.com/scikit-learn/scikit-learn/issues/21755 */display: inline-block !important;position: relative;}#sk-container-id-1 div.sk-text-repr-fallback {display: none;}</style><div id=\"sk-container-id-1\" class=\"sk-top-container\"><div class=\"sk-text-repr-fallback\"><pre>MinMaxScaler()</pre><b>In a Jupyter environment, please rerun this cell to show the HTML representation or trust the notebook. <br />On GitHub, the HTML representation is unable to render, please try loading this page with nbviewer.org.</b></div><div class=\"sk-container\" hidden><div class=\"sk-item\"><div class=\"sk-estimator sk-toggleable\"><input class=\"sk-toggleable__control sk-hidden--visually\" id=\"sk-estimator-id-1\" type=\"checkbox\" checked><label for=\"sk-estimator-id-1\" class=\"sk-toggleable__label sk-toggleable__label-arrow\">MinMaxScaler</label><div class=\"sk-toggleable__content\"><pre>MinMaxScaler()</pre></div></div></div></div></div>"
      ],
      "text/plain": [
       "MinMaxScaler()"
      ]
     },
     "execution_count": 22,
     "metadata": {},
     "output_type": "execute_result"
    }
   ],
   "source": [
    "scaler_object.fit(X_train)"
   ]
  },
  {
   "cell_type": "code",
   "execution_count": 23,
   "metadata": {},
   "outputs": [],
   "source": [
    "scaled_X_train = scaler_object.transform(X_train)"
   ]
  },
  {
   "cell_type": "code",
   "execution_count": 24,
   "metadata": {},
   "outputs": [],
   "source": [
    "scaled_X_test = scaler_object.transform(X_test)"
   ]
  },
  {
   "cell_type": "markdown",
   "metadata": {},
   "source": [
    "Ok, maintenant nous avons les données mises à l'échelle !"
   ]
  },
  {
   "cell_type": "code",
   "execution_count": 25,
   "metadata": {},
   "outputs": [
    {
     "data": {
      "text/plain": [
       "7.7"
      ]
     },
     "execution_count": 25,
     "metadata": {},
     "output_type": "execute_result"
    }
   ],
   "source": [
    "X_train.max()"
   ]
  },
  {
   "cell_type": "code",
   "execution_count": 26,
   "metadata": {},
   "outputs": [
    {
     "data": {
      "text/plain": [
       "1.0"
      ]
     },
     "execution_count": 26,
     "metadata": {},
     "output_type": "execute_result"
    }
   ],
   "source": [
    "scaled_X_train.max()"
   ]
  },
  {
   "cell_type": "code",
   "execution_count": 27,
   "metadata": {},
   "outputs": [
    {
     "data": {
      "text/plain": [
       "array([[5.7, 2.9, 4.2, 1.3],\n",
       "       [7.6, 3. , 6.6, 2.1],\n",
       "       [5.6, 3. , 4.5, 1.5],\n",
       "       [5.1, 3.5, 1.4, 0.2],\n",
       "       [7.7, 2.8, 6.7, 2. ],\n",
       "       [5.8, 2.7, 4.1, 1. ],\n",
       "       [5.2, 3.4, 1.4, 0.2],\n",
       "       [5. , 3.5, 1.3, 0.3],\n",
       "       [5.1, 3.8, 1.9, 0.4],\n",
       "       [5. , 2. , 3.5, 1. ],\n",
       "       [6.3, 2.7, 4.9, 1.8],\n",
       "       [4.8, 3.4, 1.9, 0.2],\n",
       "       [5. , 3. , 1.6, 0.2],\n",
       "       [5.1, 3.3, 1.7, 0.5],\n",
       "       [5.6, 2.7, 4.2, 1.3],\n",
       "       [5.1, 3.4, 1.5, 0.2],\n",
       "       [5.7, 3. , 4.2, 1.2],\n",
       "       [7.7, 3.8, 6.7, 2.2],\n",
       "       [4.6, 3.2, 1.4, 0.2],\n",
       "       [6.2, 2.9, 4.3, 1.3],\n",
       "       [5.7, 2.5, 5. , 2. ],\n",
       "       [5.5, 4.2, 1.4, 0.2],\n",
       "       [6. , 3. , 4.8, 1.8],\n",
       "       [5.8, 2.7, 5.1, 1.9],\n",
       "       [6. , 2.2, 4. , 1. ],\n",
       "       [5.4, 3. , 4.5, 1.5],\n",
       "       [6.2, 3.4, 5.4, 2.3],\n",
       "       [5.5, 2.3, 4. , 1.3],\n",
       "       [5.4, 3.9, 1.7, 0.4],\n",
       "       [5. , 2.3, 3.3, 1. ],\n",
       "       [6.4, 2.7, 5.3, 1.9],\n",
       "       [5. , 3.3, 1.4, 0.2],\n",
       "       [5. , 3.2, 1.2, 0.2],\n",
       "       [5.5, 2.4, 3.8, 1.1],\n",
       "       [6.7, 3. , 5. , 1.7],\n",
       "       [4.9, 3.1, 1.5, 0.2],\n",
       "       [5.8, 2.8, 5.1, 2.4],\n",
       "       [5. , 3.4, 1.5, 0.2],\n",
       "       [5. , 3.5, 1.6, 0.6],\n",
       "       [5.9, 3.2, 4.8, 1.8],\n",
       "       [5.1, 2.5, 3. , 1.1],\n",
       "       [6.9, 3.2, 5.7, 2.3],\n",
       "       [6. , 2.7, 5.1, 1.6],\n",
       "       [6.1, 2.6, 5.6, 1.4],\n",
       "       [7.7, 3. , 6.1, 2.3],\n",
       "       [5.5, 2.5, 4. , 1.3],\n",
       "       [4.4, 2.9, 1.4, 0.2],\n",
       "       [4.3, 3. , 1.1, 0.1],\n",
       "       [6. , 2.2, 5. , 1.5],\n",
       "       [7.2, 3.2, 6. , 1.8],\n",
       "       [4.6, 3.1, 1.5, 0.2],\n",
       "       [5.1, 3.5, 1.4, 0.3],\n",
       "       [4.4, 3. , 1.3, 0.2],\n",
       "       [6.3, 2.5, 4.9, 1.5],\n",
       "       [6.3, 3.4, 5.6, 2.4],\n",
       "       [4.6, 3.4, 1.4, 0.3],\n",
       "       [6.8, 3. , 5.5, 2.1],\n",
       "       [6.3, 3.3, 6. , 2.5],\n",
       "       [4.7, 3.2, 1.3, 0.2],\n",
       "       [6.1, 2.9, 4.7, 1.4],\n",
       "       [6.5, 2.8, 4.6, 1.5],\n",
       "       [6.2, 2.8, 4.8, 1.8],\n",
       "       [7. , 3.2, 4.7, 1.4],\n",
       "       [6.4, 3.2, 5.3, 2.3],\n",
       "       [5.1, 3.8, 1.6, 0.2],\n",
       "       [6.9, 3.1, 5.4, 2.1],\n",
       "       [5.9, 3. , 4.2, 1.5],\n",
       "       [6.5, 3. , 5.2, 2. ],\n",
       "       [5.7, 2.6, 3.5, 1. ],\n",
       "       [5.2, 2.7, 3.9, 1.4],\n",
       "       [6.1, 3. , 4.6, 1.4],\n",
       "       [4.5, 2.3, 1.3, 0.3],\n",
       "       [6.6, 2.9, 4.6, 1.3],\n",
       "       [5.5, 2.6, 4.4, 1.2],\n",
       "       [5.3, 3.7, 1.5, 0.2],\n",
       "       [5.6, 3. , 4.1, 1.3],\n",
       "       [7.3, 2.9, 6.3, 1.8],\n",
       "       [6.7, 3.3, 5.7, 2.1],\n",
       "       [5.1, 3.7, 1.5, 0.4],\n",
       "       [4.9, 2.4, 3.3, 1. ],\n",
       "       [6.7, 3.3, 5.7, 2.5],\n",
       "       [7.2, 3. , 5.8, 1.6],\n",
       "       [4.9, 3.6, 1.4, 0.1],\n",
       "       [6.7, 3.1, 5.6, 2.4],\n",
       "       [4.9, 3. , 1.4, 0.2],\n",
       "       [6.9, 3.1, 4.9, 1.5],\n",
       "       [7.4, 2.8, 6.1, 1.9],\n",
       "       [6.3, 2.9, 5.6, 1.8],\n",
       "       [5.7, 2.8, 4.1, 1.3],\n",
       "       [6.5, 3. , 5.5, 1.8],\n",
       "       [6.3, 2.3, 4.4, 1.3],\n",
       "       [6.4, 2.9, 4.3, 1.3],\n",
       "       [5.6, 2.8, 4.9, 2. ],\n",
       "       [5.9, 3. , 5.1, 1.8],\n",
       "       [5.4, 3.4, 1.7, 0.2],\n",
       "       [6.1, 2.8, 4. , 1.3],\n",
       "       [4.9, 2.5, 4.5, 1.7],\n",
       "       [5.8, 4. , 1.2, 0.2],\n",
       "       [5.8, 2.6, 4. , 1.2],\n",
       "       [7.1, 3. , 5.9, 2.1]])"
      ]
     },
     "execution_count": 27,
     "metadata": {},
     "output_type": "execute_result"
    }
   ],
   "source": [
    "X_train"
   ]
  },
  {
   "cell_type": "code",
   "execution_count": 28,
   "metadata": {},
   "outputs": [
    {
     "data": {
      "text/plain": [
       "array([[0.41176471, 0.40909091, 0.55357143, 0.5       ],\n",
       "       [0.97058824, 0.45454545, 0.98214286, 0.83333333],\n",
       "       [0.38235294, 0.45454545, 0.60714286, 0.58333333],\n",
       "       [0.23529412, 0.68181818, 0.05357143, 0.04166667],\n",
       "       [1.        , 0.36363636, 1.        , 0.79166667],\n",
       "       [0.44117647, 0.31818182, 0.53571429, 0.375     ],\n",
       "       [0.26470588, 0.63636364, 0.05357143, 0.04166667],\n",
       "       [0.20588235, 0.68181818, 0.03571429, 0.08333333],\n",
       "       [0.23529412, 0.81818182, 0.14285714, 0.125     ],\n",
       "       [0.20588235, 0.        , 0.42857143, 0.375     ],\n",
       "       [0.58823529, 0.31818182, 0.67857143, 0.70833333],\n",
       "       [0.14705882, 0.63636364, 0.14285714, 0.04166667],\n",
       "       [0.20588235, 0.45454545, 0.08928571, 0.04166667],\n",
       "       [0.23529412, 0.59090909, 0.10714286, 0.16666667],\n",
       "       [0.38235294, 0.31818182, 0.55357143, 0.5       ],\n",
       "       [0.23529412, 0.63636364, 0.07142857, 0.04166667],\n",
       "       [0.41176471, 0.45454545, 0.55357143, 0.45833333],\n",
       "       [1.        , 0.81818182, 1.        , 0.875     ],\n",
       "       [0.08823529, 0.54545455, 0.05357143, 0.04166667],\n",
       "       [0.55882353, 0.40909091, 0.57142857, 0.5       ],\n",
       "       [0.41176471, 0.22727273, 0.69642857, 0.79166667],\n",
       "       [0.35294118, 1.        , 0.05357143, 0.04166667],\n",
       "       [0.5       , 0.45454545, 0.66071429, 0.70833333],\n",
       "       [0.44117647, 0.31818182, 0.71428571, 0.75      ],\n",
       "       [0.5       , 0.09090909, 0.51785714, 0.375     ],\n",
       "       [0.32352941, 0.45454545, 0.60714286, 0.58333333],\n",
       "       [0.55882353, 0.63636364, 0.76785714, 0.91666667],\n",
       "       [0.35294118, 0.13636364, 0.51785714, 0.5       ],\n",
       "       [0.32352941, 0.86363636, 0.10714286, 0.125     ],\n",
       "       [0.20588235, 0.13636364, 0.39285714, 0.375     ],\n",
       "       [0.61764706, 0.31818182, 0.75      , 0.75      ],\n",
       "       [0.20588235, 0.59090909, 0.05357143, 0.04166667],\n",
       "       [0.20588235, 0.54545455, 0.01785714, 0.04166667],\n",
       "       [0.35294118, 0.18181818, 0.48214286, 0.41666667],\n",
       "       [0.70588235, 0.45454545, 0.69642857, 0.66666667],\n",
       "       [0.17647059, 0.5       , 0.07142857, 0.04166667],\n",
       "       [0.44117647, 0.36363636, 0.71428571, 0.95833333],\n",
       "       [0.20588235, 0.63636364, 0.07142857, 0.04166667],\n",
       "       [0.20588235, 0.68181818, 0.08928571, 0.20833333],\n",
       "       [0.47058824, 0.54545455, 0.66071429, 0.70833333],\n",
       "       [0.23529412, 0.22727273, 0.33928571, 0.41666667],\n",
       "       [0.76470588, 0.54545455, 0.82142857, 0.91666667],\n",
       "       [0.5       , 0.31818182, 0.71428571, 0.625     ],\n",
       "       [0.52941176, 0.27272727, 0.80357143, 0.54166667],\n",
       "       [1.        , 0.45454545, 0.89285714, 0.91666667],\n",
       "       [0.35294118, 0.22727273, 0.51785714, 0.5       ],\n",
       "       [0.02941176, 0.40909091, 0.05357143, 0.04166667],\n",
       "       [0.        , 0.45454545, 0.        , 0.        ],\n",
       "       [0.5       , 0.09090909, 0.69642857, 0.58333333],\n",
       "       [0.85294118, 0.54545455, 0.875     , 0.70833333],\n",
       "       [0.08823529, 0.5       , 0.07142857, 0.04166667],\n",
       "       [0.23529412, 0.68181818, 0.05357143, 0.08333333],\n",
       "       [0.02941176, 0.45454545, 0.03571429, 0.04166667],\n",
       "       [0.58823529, 0.22727273, 0.67857143, 0.58333333],\n",
       "       [0.58823529, 0.63636364, 0.80357143, 0.95833333],\n",
       "       [0.08823529, 0.63636364, 0.05357143, 0.08333333],\n",
       "       [0.73529412, 0.45454545, 0.78571429, 0.83333333],\n",
       "       [0.58823529, 0.59090909, 0.875     , 1.        ],\n",
       "       [0.11764706, 0.54545455, 0.03571429, 0.04166667],\n",
       "       [0.52941176, 0.40909091, 0.64285714, 0.54166667],\n",
       "       [0.64705882, 0.36363636, 0.625     , 0.58333333],\n",
       "       [0.55882353, 0.36363636, 0.66071429, 0.70833333],\n",
       "       [0.79411765, 0.54545455, 0.64285714, 0.54166667],\n",
       "       [0.61764706, 0.54545455, 0.75      , 0.91666667],\n",
       "       [0.23529412, 0.81818182, 0.08928571, 0.04166667],\n",
       "       [0.76470588, 0.5       , 0.76785714, 0.83333333],\n",
       "       [0.47058824, 0.45454545, 0.55357143, 0.58333333],\n",
       "       [0.64705882, 0.45454545, 0.73214286, 0.79166667],\n",
       "       [0.41176471, 0.27272727, 0.42857143, 0.375     ],\n",
       "       [0.26470588, 0.31818182, 0.5       , 0.54166667],\n",
       "       [0.52941176, 0.45454545, 0.625     , 0.54166667],\n",
       "       [0.05882353, 0.13636364, 0.03571429, 0.08333333],\n",
       "       [0.67647059, 0.40909091, 0.625     , 0.5       ],\n",
       "       [0.35294118, 0.27272727, 0.58928571, 0.45833333],\n",
       "       [0.29411765, 0.77272727, 0.07142857, 0.04166667],\n",
       "       [0.38235294, 0.45454545, 0.53571429, 0.5       ],\n",
       "       [0.88235294, 0.40909091, 0.92857143, 0.70833333],\n",
       "       [0.70588235, 0.59090909, 0.82142857, 0.83333333],\n",
       "       [0.23529412, 0.77272727, 0.07142857, 0.125     ],\n",
       "       [0.17647059, 0.18181818, 0.39285714, 0.375     ],\n",
       "       [0.70588235, 0.59090909, 0.82142857, 1.        ],\n",
       "       [0.85294118, 0.45454545, 0.83928571, 0.625     ],\n",
       "       [0.17647059, 0.72727273, 0.05357143, 0.        ],\n",
       "       [0.70588235, 0.5       , 0.80357143, 0.95833333],\n",
       "       [0.17647059, 0.45454545, 0.05357143, 0.04166667],\n",
       "       [0.76470588, 0.5       , 0.67857143, 0.58333333],\n",
       "       [0.91176471, 0.36363636, 0.89285714, 0.75      ],\n",
       "       [0.58823529, 0.40909091, 0.80357143, 0.70833333],\n",
       "       [0.41176471, 0.36363636, 0.53571429, 0.5       ],\n",
       "       [0.64705882, 0.45454545, 0.78571429, 0.70833333],\n",
       "       [0.58823529, 0.13636364, 0.58928571, 0.5       ],\n",
       "       [0.61764706, 0.40909091, 0.57142857, 0.5       ],\n",
       "       [0.38235294, 0.36363636, 0.67857143, 0.79166667],\n",
       "       [0.47058824, 0.45454545, 0.71428571, 0.70833333],\n",
       "       [0.32352941, 0.63636364, 0.10714286, 0.04166667],\n",
       "       [0.52941176, 0.36363636, 0.51785714, 0.5       ],\n",
       "       [0.17647059, 0.22727273, 0.60714286, 0.66666667],\n",
       "       [0.44117647, 0.90909091, 0.01785714, 0.04166667],\n",
       "       [0.44117647, 0.27272727, 0.51785714, 0.45833333],\n",
       "       [0.82352941, 0.45454545, 0.85714286, 0.83333333]])"
      ]
     },
     "execution_count": 28,
     "metadata": {},
     "output_type": "execute_result"
    }
   ],
   "source": [
    "scaled_X_train"
   ]
  },
  {
   "cell_type": "markdown",
   "metadata": {},
   "source": [
    "## Construction du réseau avec Keras\n",
    "\n",
    "Construisons un réseau neuronal simple !"
   ]
  },
  {
   "cell_type": "code",
   "execution_count": 29,
   "metadata": {},
   "outputs": [],
   "source": [
    "from keras.models import Sequential\n",
    "from keras.layers import Dense"
   ]
  },
  {
   "cell_type": "code",
   "execution_count": 30,
   "metadata": {},
   "outputs": [],
   "source": [
    "model = Sequential()\n",
    "model.add(Dense(8, input_dim=4, activation='relu'))\n",
    "model.add(Dense(8, input_dim=4, activation='relu'))\n",
    "model.add(Dense(3, activation='softmax'))\n",
    "model.compile(loss='categorical_crossentropy', optimizer='adam', metrics=['accuracy'])"
   ]
  },
  {
   "cell_type": "code",
   "execution_count": 31,
   "metadata": {},
   "outputs": [
    {
     "name": "stdout",
     "output_type": "stream",
     "text": [
      "Model: \"sequential\"\n",
      "_________________________________________________________________\n",
      " Layer (type)                Output Shape              Param #   \n",
      "=================================================================\n",
      " dense (Dense)               (None, 8)                 40        \n",
      "                                                                 \n",
      " dense_1 (Dense)             (None, 8)                 72        \n",
      "                                                                 \n",
      " dense_2 (Dense)             (None, 3)                 27        \n",
      "                                                                 \n",
      "=================================================================\n",
      "Total params: 139\n",
      "Trainable params: 139\n",
      "Non-trainable params: 0\n",
      "_________________________________________________________________\n"
     ]
    }
   ],
   "source": [
    "model.summary()"
   ]
  },
  {
   "cell_type": "markdown",
   "metadata": {},
   "source": [
    "## Entrainer (Fit) le Modèle"
   ]
  },
  {
   "cell_type": "code",
   "execution_count": 32,
   "metadata": {},
   "outputs": [
    {
     "name": "stdout",
     "output_type": "stream",
     "text": [
      "Epoch 1/150\n"
     ]
    },
    {
     "name": "stdout",
     "output_type": "stream",
     "text": [
      "4/4 - 0s - loss: 1.0505 - accuracy: 0.3500 - 494ms/epoch - 123ms/step\n",
      "Epoch 2/150\n",
      "4/4 - 0s - loss: 1.0430 - accuracy: 0.3400 - 5ms/epoch - 1ms/step\n",
      "Epoch 3/150\n",
      "4/4 - 0s - loss: 1.0358 - accuracy: 0.3500 - 5ms/epoch - 1ms/step\n",
      "Epoch 4/150\n",
      "4/4 - 0s - loss: 1.0275 - accuracy: 0.3500 - 4ms/epoch - 1000us/step\n",
      "Epoch 5/150\n",
      "4/4 - 0s - loss: 1.0204 - accuracy: 0.3400 - 3ms/epoch - 750us/step\n",
      "Epoch 6/150\n",
      "4/4 - 0s - loss: 1.0124 - accuracy: 0.3400 - 4ms/epoch - 1ms/step\n",
      "Epoch 7/150\n",
      "4/4 - 0s - loss: 1.0053 - accuracy: 0.3400 - 5ms/epoch - 1ms/step\n",
      "Epoch 8/150\n",
      "4/4 - 0s - loss: 0.9989 - accuracy: 0.3400 - 4ms/epoch - 1ms/step\n",
      "Epoch 9/150\n",
      "4/4 - 0s - loss: 0.9923 - accuracy: 0.3400 - 5ms/epoch - 1ms/step\n",
      "Epoch 10/150\n",
      "4/4 - 0s - loss: 0.9856 - accuracy: 0.3400 - 3ms/epoch - 750us/step\n",
      "Epoch 11/150\n",
      "4/4 - 0s - loss: 0.9793 - accuracy: 0.3400 - 3ms/epoch - 750us/step\n",
      "Epoch 12/150\n",
      "4/4 - 0s - loss: 0.9728 - accuracy: 0.3400 - 4ms/epoch - 1ms/step\n",
      "Epoch 13/150\n",
      "4/4 - 0s - loss: 0.9667 - accuracy: 0.3400 - 5ms/epoch - 1ms/step\n",
      "Epoch 14/150\n",
      "4/4 - 0s - loss: 0.9608 - accuracy: 0.3400 - 5ms/epoch - 1ms/step\n",
      "Epoch 15/150\n",
      "4/4 - 0s - loss: 0.9553 - accuracy: 0.3400 - 4ms/epoch - 1ms/step\n",
      "Epoch 16/150\n",
      "4/4 - 0s - loss: 0.9498 - accuracy: 0.3400 - 5ms/epoch - 1ms/step\n",
      "Epoch 17/150\n",
      "4/4 - 0s - loss: 0.9445 - accuracy: 0.3400 - 4ms/epoch - 1ms/step\n",
      "Epoch 18/150\n",
      "4/4 - 0s - loss: 0.9388 - accuracy: 0.3400 - 4ms/epoch - 1ms/step\n",
      "Epoch 19/150\n",
      "4/4 - 0s - loss: 0.9332 - accuracy: 0.3400 - 4ms/epoch - 1ms/step\n",
      "Epoch 20/150\n",
      "4/4 - 0s - loss: 0.9273 - accuracy: 0.3400 - 5ms/epoch - 1ms/step\n",
      "Epoch 21/150\n",
      "4/4 - 0s - loss: 0.9218 - accuracy: 0.3400 - 5ms/epoch - 1ms/step\n",
      "Epoch 22/150\n",
      "4/4 - 0s - loss: 0.9163 - accuracy: 0.3400 - 4ms/epoch - 1000us/step\n",
      "Epoch 23/150\n",
      "4/4 - 0s - loss: 0.9104 - accuracy: 0.3400 - 4ms/epoch - 1ms/step\n",
      "Epoch 24/150\n",
      "4/4 - 0s - loss: 0.9049 - accuracy: 0.3400 - 4ms/epoch - 1ms/step\n",
      "Epoch 25/150\n",
      "4/4 - 0s - loss: 0.8995 - accuracy: 0.3900 - 4ms/epoch - 1ms/step\n",
      "Epoch 26/150\n",
      "4/4 - 0s - loss: 0.8950 - accuracy: 0.5100 - 4ms/epoch - 1ms/step\n",
      "Epoch 27/150\n",
      "4/4 - 0s - loss: 0.8895 - accuracy: 0.5600 - 4ms/epoch - 1ms/step\n",
      "Epoch 28/150\n",
      "4/4 - 0s - loss: 0.8847 - accuracy: 0.5700 - 4ms/epoch - 876us/step\n",
      "Epoch 29/150\n",
      "4/4 - 0s - loss: 0.8800 - accuracy: 0.5900 - 4ms/epoch - 1000us/step\n",
      "Epoch 30/150\n",
      "4/4 - 0s - loss: 0.8745 - accuracy: 0.5900 - 4ms/epoch - 1ms/step\n",
      "Epoch 31/150\n",
      "4/4 - 0s - loss: 0.8689 - accuracy: 0.5900 - 4ms/epoch - 1ms/step\n",
      "Epoch 32/150\n",
      "4/4 - 0s - loss: 0.8635 - accuracy: 0.5900 - 5ms/epoch - 1ms/step\n",
      "Epoch 33/150\n",
      "4/4 - 0s - loss: 0.8577 - accuracy: 0.5900 - 5ms/epoch - 1ms/step\n",
      "Epoch 34/150\n",
      "4/4 - 0s - loss: 0.8521 - accuracy: 0.5900 - 5ms/epoch - 1ms/step\n",
      "Epoch 35/150\n",
      "4/4 - 0s - loss: 0.8467 - accuracy: 0.5900 - 4ms/epoch - 1ms/step\n",
      "Epoch 36/150\n",
      "4/4 - 0s - loss: 0.8419 - accuracy: 0.5900 - 4ms/epoch - 1ms/step\n",
      "Epoch 37/150\n",
      "4/4 - 0s - loss: 0.8373 - accuracy: 0.5900 - 5ms/epoch - 1ms/step\n",
      "Epoch 38/150\n",
      "4/4 - 0s - loss: 0.8325 - accuracy: 0.6000 - 5ms/epoch - 1ms/step\n",
      "Epoch 39/150\n",
      "4/4 - 0s - loss: 0.8276 - accuracy: 0.6000 - 4ms/epoch - 1ms/step\n",
      "Epoch 40/150\n",
      "4/4 - 0s - loss: 0.8230 - accuracy: 0.6000 - 5ms/epoch - 1ms/step\n",
      "Epoch 41/150\n",
      "4/4 - 0s - loss: 0.8183 - accuracy: 0.6000 - 5ms/epoch - 1ms/step\n",
      "Epoch 42/150\n",
      "4/4 - 0s - loss: 0.8140 - accuracy: 0.6200 - 4ms/epoch - 1ms/step\n",
      "Epoch 43/150\n",
      "4/4 - 0s - loss: 0.8095 - accuracy: 0.6200 - 3ms/epoch - 752us/step\n",
      "Epoch 44/150\n",
      "4/4 - 0s - loss: 0.8052 - accuracy: 0.6200 - 4ms/epoch - 999us/step\n",
      "Epoch 45/150\n",
      "4/4 - 0s - loss: 0.8011 - accuracy: 0.6200 - 4ms/epoch - 1ms/step\n",
      "Epoch 46/150\n",
      "4/4 - 0s - loss: 0.7968 - accuracy: 0.6300 - 4ms/epoch - 876us/step\n",
      "Epoch 47/150\n",
      "4/4 - 0s - loss: 0.7930 - accuracy: 0.6400 - 4ms/epoch - 1ms/step\n",
      "Epoch 48/150\n",
      "4/4 - 0s - loss: 0.7889 - accuracy: 0.6400 - 4ms/epoch - 1ms/step\n",
      "Epoch 49/150\n",
      "4/4 - 0s - loss: 0.7851 - accuracy: 0.6700 - 4ms/epoch - 1ms/step\n",
      "Epoch 50/150\n",
      "4/4 - 0s - loss: 0.7814 - accuracy: 0.6800 - 4ms/epoch - 1ms/step\n",
      "Epoch 51/150\n",
      "4/4 - 0s - loss: 0.7776 - accuracy: 0.7000 - 5ms/epoch - 1ms/step\n",
      "Epoch 52/150\n",
      "4/4 - 0s - loss: 0.7744 - accuracy: 0.7400 - 6ms/epoch - 1ms/step\n",
      "Epoch 53/150\n",
      "4/4 - 0s - loss: 0.7705 - accuracy: 0.7400 - 4ms/epoch - 1ms/step\n",
      "Epoch 54/150\n",
      "4/4 - 0s - loss: 0.7654 - accuracy: 0.7000 - 4ms/epoch - 1ms/step\n",
      "Epoch 55/150\n",
      "4/4 - 0s - loss: 0.7618 - accuracy: 0.7000 - 4ms/epoch - 877us/step\n",
      "Epoch 56/150\n",
      "4/4 - 0s - loss: 0.7581 - accuracy: 0.7000 - 5ms/epoch - 1ms/step\n",
      "Epoch 57/150\n",
      "4/4 - 0s - loss: 0.7541 - accuracy: 0.7000 - 3ms/epoch - 792us/step\n",
      "Epoch 58/150\n",
      "4/4 - 0s - loss: 0.7508 - accuracy: 0.6800 - 4ms/epoch - 999us/step\n",
      "Epoch 59/150\n",
      "4/4 - 0s - loss: 0.7471 - accuracy: 0.6800 - 5ms/epoch - 1ms/step\n",
      "Epoch 60/150\n",
      "4/4 - 0s - loss: 0.7433 - accuracy: 0.6800 - 5ms/epoch - 1ms/step\n",
      "Epoch 61/150\n",
      "4/4 - 0s - loss: 0.7398 - accuracy: 0.6800 - 4ms/epoch - 879us/step\n",
      "Epoch 62/150\n",
      "4/4 - 0s - loss: 0.7360 - accuracy: 0.7000 - 3ms/epoch - 750us/step\n",
      "Epoch 63/150\n",
      "4/4 - 0s - loss: 0.7320 - accuracy: 0.7000 - 4ms/epoch - 1000us/step\n",
      "Epoch 64/150\n",
      "4/4 - 0s - loss: 0.7280 - accuracy: 0.7100 - 5ms/epoch - 1ms/step\n",
      "Epoch 65/150\n",
      "4/4 - 0s - loss: 0.7240 - accuracy: 0.7100 - 4ms/epoch - 1ms/step\n",
      "Epoch 66/150\n",
      "4/4 - 0s - loss: 0.7202 - accuracy: 0.7100 - 4ms/epoch - 879us/step\n",
      "Epoch 67/150\n",
      "4/4 - 0s - loss: 0.7161 - accuracy: 0.7100 - 4ms/epoch - 1000us/step\n",
      "Epoch 68/150\n",
      "4/4 - 0s - loss: 0.7125 - accuracy: 0.7300 - 5ms/epoch - 1ms/step\n",
      "Epoch 69/150\n",
      "4/4 - 0s - loss: 0.7078 - accuracy: 0.7500 - 4ms/epoch - 879us/step\n",
      "Epoch 70/150\n",
      "4/4 - 0s - loss: 0.7040 - accuracy: 0.7600 - 4ms/epoch - 880us/step\n",
      "Epoch 71/150\n",
      "4/4 - 0s - loss: 0.6996 - accuracy: 0.7400 - 5ms/epoch - 1ms/step\n",
      "Epoch 72/150\n",
      "4/4 - 0s - loss: 0.6955 - accuracy: 0.7400 - 4ms/epoch - 1000us/step\n",
      "Epoch 73/150\n",
      "4/4 - 0s - loss: 0.6915 - accuracy: 0.7600 - 4ms/epoch - 876us/step\n",
      "Epoch 74/150\n",
      "4/4 - 0s - loss: 0.6872 - accuracy: 0.7600 - 5ms/epoch - 1ms/step\n",
      "Epoch 75/150\n",
      "4/4 - 0s - loss: 0.6829 - accuracy: 0.7600 - 5ms/epoch - 1ms/step\n",
      "Epoch 76/150\n",
      "4/4 - 0s - loss: 0.6787 - accuracy: 0.7800 - 4ms/epoch - 1ms/step\n",
      "Epoch 77/150\n",
      "4/4 - 0s - loss: 0.6742 - accuracy: 0.8400 - 5ms/epoch - 1ms/step\n",
      "Epoch 78/150\n",
      "4/4 - 0s - loss: 0.6700 - accuracy: 0.8800 - 5ms/epoch - 1ms/step\n",
      "Epoch 79/150\n",
      "4/4 - 0s - loss: 0.6657 - accuracy: 0.8800 - 4ms/epoch - 1ms/step\n",
      "Epoch 80/150\n",
      "4/4 - 0s - loss: 0.6618 - accuracy: 0.9100 - 4ms/epoch - 1ms/step\n",
      "Epoch 81/150\n",
      "4/4 - 0s - loss: 0.6581 - accuracy: 0.9100 - 5ms/epoch - 1ms/step\n",
      "Epoch 82/150\n",
      "4/4 - 0s - loss: 0.6535 - accuracy: 0.9100 - 5ms/epoch - 1ms/step\n",
      "Epoch 83/150\n",
      "4/4 - 0s - loss: 0.6489 - accuracy: 0.9100 - 4ms/epoch - 1000us/step\n",
      "Epoch 84/150\n",
      "4/4 - 0s - loss: 0.6442 - accuracy: 0.8800 - 3ms/epoch - 805us/step\n",
      "Epoch 85/150\n",
      "4/4 - 0s - loss: 0.6399 - accuracy: 0.8800 - 4ms/epoch - 1000us/step\n",
      "Epoch 86/150\n",
      "4/4 - 0s - loss: 0.6356 - accuracy: 0.9100 - 4ms/epoch - 1ms/step\n",
      "Epoch 87/150\n",
      "4/4 - 0s - loss: 0.6317 - accuracy: 0.9100 - 4ms/epoch - 878us/step\n",
      "Epoch 88/150\n",
      "4/4 - 0s - loss: 0.6277 - accuracy: 0.9200 - 4ms/epoch - 1ms/step\n",
      "Epoch 89/150\n",
      "4/4 - 0s - loss: 0.6231 - accuracy: 0.9100 - 4ms/epoch - 999us/step\n",
      "Epoch 90/150\n",
      "4/4 - 0s - loss: 0.6190 - accuracy: 0.9100 - 5ms/epoch - 1ms/step\n",
      "Epoch 91/150\n",
      "4/4 - 0s - loss: 0.6142 - accuracy: 0.9100 - 5ms/epoch - 1ms/step\n",
      "Epoch 92/150\n",
      "4/4 - 0s - loss: 0.6099 - accuracy: 0.9100 - 4ms/epoch - 1ms/step\n",
      "Epoch 93/150\n",
      "4/4 - 0s - loss: 0.6053 - accuracy: 0.9100 - 3ms/epoch - 831us/step\n",
      "Epoch 94/150\n",
      "4/4 - 0s - loss: 0.6007 - accuracy: 0.9100 - 4ms/epoch - 999us/step\n",
      "Epoch 95/150\n",
      "4/4 - 0s - loss: 0.5961 - accuracy: 0.9100 - 4ms/epoch - 877us/step\n",
      "Epoch 96/150\n",
      "4/4 - 0s - loss: 0.5917 - accuracy: 0.9100 - 4ms/epoch - 999us/step\n",
      "Epoch 97/150\n",
      "4/4 - 0s - loss: 0.5865 - accuracy: 0.9100 - 4ms/epoch - 1ms/step\n",
      "Epoch 98/150\n",
      "4/4 - 0s - loss: 0.5820 - accuracy: 0.9200 - 4ms/epoch - 1000us/step\n",
      "Epoch 99/150\n",
      "4/4 - 0s - loss: 0.5765 - accuracy: 0.9200 - 6ms/epoch - 2ms/step\n",
      "Epoch 100/150\n",
      "4/4 - 0s - loss: 0.5744 - accuracy: 0.9400 - 6ms/epoch - 1ms/step\n",
      "Epoch 101/150\n",
      "4/4 - 0s - loss: 0.5715 - accuracy: 0.9600 - 4ms/epoch - 1ms/step\n",
      "Epoch 102/150\n",
      "4/4 - 0s - loss: 0.5666 - accuracy: 0.9600 - 4ms/epoch - 1ms/step\n",
      "Epoch 103/150\n",
      "4/4 - 0s - loss: 0.5616 - accuracy: 0.9500 - 4ms/epoch - 877us/step\n",
      "Epoch 104/150\n",
      "4/4 - 0s - loss: 0.5551 - accuracy: 0.9300 - 5ms/epoch - 1ms/step\n",
      "Epoch 105/150\n",
      "4/4 - 0s - loss: 0.5499 - accuracy: 0.9200 - 4ms/epoch - 878us/step\n",
      "Epoch 106/150\n",
      "4/4 - 0s - loss: 0.5453 - accuracy: 0.9200 - 4ms/epoch - 1000us/step\n",
      "Epoch 107/150\n",
      "4/4 - 0s - loss: 0.5404 - accuracy: 0.9200 - 5ms/epoch - 1ms/step\n",
      "Epoch 108/150\n",
      "4/4 - 0s - loss: 0.5365 - accuracy: 0.9200 - 4ms/epoch - 1000us/step\n",
      "Epoch 109/150\n",
      "4/4 - 0s - loss: 0.5319 - accuracy: 0.9200 - 5ms/epoch - 1ms/step\n",
      "Epoch 110/150\n",
      "4/4 - 0s - loss: 0.5276 - accuracy: 0.9200 - 5ms/epoch - 1ms/step\n",
      "Epoch 111/150\n",
      "4/4 - 0s - loss: 0.5230 - accuracy: 0.9200 - 5ms/epoch - 1ms/step\n",
      "Epoch 112/150\n",
      "4/4 - 0s - loss: 0.5181 - accuracy: 0.9200 - 5ms/epoch - 1ms/step\n",
      "Epoch 113/150\n",
      "4/4 - 0s - loss: 0.5137 - accuracy: 0.9200 - 4ms/epoch - 1000us/step\n",
      "Epoch 114/150\n",
      "4/4 - 0s - loss: 0.5092 - accuracy: 0.9200 - 4ms/epoch - 879us/step\n",
      "Epoch 115/150\n",
      "4/4 - 0s - loss: 0.5047 - accuracy: 0.9200 - 4ms/epoch - 1ms/step\n",
      "Epoch 116/150\n",
      "4/4 - 0s - loss: 0.5000 - accuracy: 0.9200 - 5ms/epoch - 1ms/step\n",
      "Epoch 117/150\n",
      "4/4 - 0s - loss: 0.4959 - accuracy: 0.9300 - 4ms/epoch - 999us/step\n",
      "Epoch 118/150\n",
      "4/4 - 0s - loss: 0.4911 - accuracy: 0.9500 - 4ms/epoch - 1ms/step\n",
      "Epoch 119/150\n",
      "4/4 - 0s - loss: 0.4874 - accuracy: 0.9500 - 4ms/epoch - 1ms/step\n",
      "Epoch 120/150\n",
      "4/4 - 0s - loss: 0.4836 - accuracy: 0.9600 - 4ms/epoch - 1000us/step\n",
      "Epoch 121/150\n",
      "4/4 - 0s - loss: 0.4796 - accuracy: 0.9600 - 5ms/epoch - 1ms/step\n",
      "Epoch 122/150\n",
      "4/4 - 0s - loss: 0.4749 - accuracy: 0.9600 - 4ms/epoch - 1000us/step\n",
      "Epoch 123/150\n",
      "4/4 - 0s - loss: 0.4697 - accuracy: 0.9400 - 4ms/epoch - 880us/step\n",
      "Epoch 124/150\n",
      "4/4 - 0s - loss: 0.4652 - accuracy: 0.9400 - 4ms/epoch - 1000us/step\n",
      "Epoch 125/150\n",
      "4/4 - 0s - loss: 0.4627 - accuracy: 0.9200 - 6ms/epoch - 1ms/step\n",
      "Epoch 126/150\n",
      "4/4 - 0s - loss: 0.4601 - accuracy: 0.9200 - 4ms/epoch - 1ms/step\n",
      "Epoch 127/150\n",
      "4/4 - 0s - loss: 0.4617 - accuracy: 0.8900 - 4ms/epoch - 1ms/step\n",
      "Epoch 128/150\n",
      "4/4 - 0s - loss: 0.4579 - accuracy: 0.8700 - 4ms/epoch - 877us/step\n",
      "Epoch 129/150\n",
      "4/4 - 0s - loss: 0.4510 - accuracy: 0.9000 - 3ms/epoch - 751us/step\n",
      "Epoch 130/150\n",
      "4/4 - 0s - loss: 0.4440 - accuracy: 0.9200 - 5ms/epoch - 1ms/step\n",
      "Epoch 131/150\n",
      "4/4 - 0s - loss: 0.4397 - accuracy: 0.9400 - 4ms/epoch - 1000us/step\n",
      "Epoch 132/150\n",
      "4/4 - 0s - loss: 0.4376 - accuracy: 0.9500 - 4ms/epoch - 880us/step\n",
      "Epoch 133/150\n",
      "4/4 - 0s - loss: 0.4354 - accuracy: 0.9600 - 4ms/epoch - 1ms/step\n",
      "Epoch 134/150\n",
      "4/4 - 0s - loss: 0.4322 - accuracy: 0.9600 - 4ms/epoch - 879us/step\n",
      "Epoch 135/150\n",
      "4/4 - 0s - loss: 0.4278 - accuracy: 0.9600 - 3ms/epoch - 750us/step\n",
      "Epoch 136/150\n",
      "4/4 - 0s - loss: 0.4217 - accuracy: 0.9600 - 4ms/epoch - 1000us/step\n",
      "Epoch 137/150\n",
      "4/4 - 0s - loss: 0.4166 - accuracy: 0.9400 - 4ms/epoch - 1ms/step\n",
      "Epoch 138/150\n",
      "4/4 - 0s - loss: 0.4151 - accuracy: 0.9200 - 4ms/epoch - 1ms/step\n",
      "Epoch 139/150\n",
      "4/4 - 0s - loss: 0.4135 - accuracy: 0.9200 - 5ms/epoch - 1ms/step\n",
      "Epoch 140/150\n",
      "4/4 - 0s - loss: 0.4104 - accuracy: 0.9200 - 5ms/epoch - 1ms/step\n",
      "Epoch 141/150\n",
      "4/4 - 0s - loss: 0.4054 - accuracy: 0.9200 - 3ms/epoch - 842us/step\n",
      "Epoch 142/150\n",
      "4/4 - 0s - loss: 0.4012 - accuracy: 0.9400 - 5ms/epoch - 1ms/step\n",
      "Epoch 143/150\n",
      "4/4 - 0s - loss: 0.3973 - accuracy: 0.9400 - 4ms/epoch - 1ms/step\n",
      "Epoch 144/150\n",
      "4/4 - 0s - loss: 0.3947 - accuracy: 0.9500 - 5ms/epoch - 1ms/step\n",
      "Epoch 145/150\n",
      "4/4 - 0s - loss: 0.3925 - accuracy: 0.9600 - 5ms/epoch - 1ms/step\n",
      "Epoch 146/150\n",
      "4/4 - 0s - loss: 0.3883 - accuracy: 0.9600 - 5ms/epoch - 1ms/step\n",
      "Epoch 147/150\n",
      "4/4 - 0s - loss: 0.3857 - accuracy: 0.9400 - 4ms/epoch - 1000us/step\n",
      "Epoch 148/150\n",
      "4/4 - 0s - loss: 0.3849 - accuracy: 0.9200 - 5ms/epoch - 1ms/step\n",
      "Epoch 149/150\n",
      "4/4 - 0s - loss: 0.3817 - accuracy: 0.9200 - 5ms/epoch - 1ms/step\n",
      "Epoch 150/150\n",
      "4/4 - 0s - loss: 0.3780 - accuracy: 0.9400 - 4ms/epoch - 1ms/step\n"
     ]
    },
    {
     "data": {
      "text/plain": [
       "<keras.callbacks.History at 0x23a538681c0>"
      ]
     },
     "execution_count": 32,
     "metadata": {},
     "output_type": "execute_result"
    }
   ],
   "source": [
    "# Play around with number of epochs as well!\n",
    "model.fit(scaled_X_train,y_train,epochs=150, verbose=2)"
   ]
  },
  {
   "cell_type": "markdown",
   "metadata": {},
   "source": [
    "## Prédire de nouvelles données non jamais vues\n",
    "\n",
    "Voyons ce que nous avons fait en prédisant sur de **nouvelles données**. N'oubliez pas que notre modèle n'a **jamais** vu les données de test que nous avons mises à l'échelle précédemment ! Ce processus est exactement le même que celui que vous utiliseriez sur des données totalement nouvelles. Par exemple, un tout nouveau billet de banque que vous venez d'analyser."
   ]
  },
  {
   "cell_type": "code",
   "execution_count": 33,
   "metadata": {},
   "outputs": [
    {
     "data": {
      "text/plain": [
       "array([[ 0.52941176,  0.36363636,  0.64285714,  0.45833333],\n",
       "       [ 0.41176471,  0.81818182,  0.10714286,  0.08333333],\n",
       "       [ 1.        ,  0.27272727,  1.03571429,  0.91666667],\n",
       "       [ 0.5       ,  0.40909091,  0.60714286,  0.58333333],\n",
       "       [ 0.73529412,  0.36363636,  0.66071429,  0.54166667],\n",
       "       [ 0.32352941,  0.63636364,  0.07142857,  0.125     ],\n",
       "       [ 0.38235294,  0.40909091,  0.44642857,  0.5       ],\n",
       "       [ 0.76470588,  0.5       ,  0.71428571,  0.91666667],\n",
       "       [ 0.55882353,  0.09090909,  0.60714286,  0.58333333],\n",
       "       [ 0.44117647,  0.31818182,  0.5       ,  0.45833333],\n",
       "       [ 0.64705882,  0.54545455,  0.71428571,  0.79166667],\n",
       "       [ 0.14705882,  0.45454545,  0.05357143,  0.        ],\n",
       "       [ 0.35294118,  0.68181818,  0.03571429,  0.04166667],\n",
       "       [ 0.17647059,  0.5       ,  0.07142857,  0.        ],\n",
       "       [ 0.23529412,  0.81818182,  0.07142857,  0.08333333],\n",
       "       [ 0.58823529,  0.59090909,  0.64285714,  0.625     ],\n",
       "       [ 0.64705882,  0.45454545,  0.83928571,  0.875     ],\n",
       "       [ 0.38235294,  0.22727273,  0.5       ,  0.41666667],\n",
       "       [ 0.41176471,  0.36363636,  0.60714286,  0.5       ],\n",
       "       [ 0.61764706,  0.36363636,  0.80357143,  0.875     ],\n",
       "       [ 0.11764706,  0.54545455,  0.08928571,  0.04166667],\n",
       "       [ 0.52941176,  0.45454545,  0.67857143,  0.70833333],\n",
       "       [ 0.20588235,  0.63636364,  0.08928571,  0.125     ],\n",
       "       [ 0.61764706,  0.36363636,  0.80357143,  0.83333333],\n",
       "       [ 1.05882353,  0.81818182,  0.94642857,  0.79166667],\n",
       "       [ 0.70588235,  0.45454545,  0.73214286,  0.91666667],\n",
       "       [ 0.70588235,  0.22727273,  0.83928571,  0.70833333],\n",
       "       [ 0.73529412,  0.54545455,  0.85714286,  0.91666667],\n",
       "       [ 0.14705882,  0.45454545,  0.05357143,  0.08333333],\n",
       "       [ 0.14705882,  0.5       ,  0.08928571,  0.04166667],\n",
       "       [ 0.08823529,  0.72727273, -0.01785714,  0.04166667],\n",
       "       [ 0.41176471,  1.09090909,  0.07142857,  0.125     ],\n",
       "       [ 0.70588235,  0.5       ,  0.58928571,  0.54166667],\n",
       "       [ 0.14705882,  0.63636364,  0.08928571,  0.04166667],\n",
       "       [ 0.02941176,  0.54545455,  0.03571429,  0.04166667],\n",
       "       [ 0.58823529,  0.22727273,  0.69642857,  0.75      ],\n",
       "       [ 0.61764706,  0.54545455,  0.60714286,  0.58333333],\n",
       "       [ 0.26470588,  0.68181818,  0.07142857,  0.04166667],\n",
       "       [ 0.20588235,  0.72727273,  0.05357143,  0.04166667],\n",
       "       [ 0.26470588,  0.95454545,  0.07142857,  0.        ],\n",
       "       [ 0.44117647,  0.31818182,  0.71428571,  0.75      ],\n",
       "       [ 0.5       ,  0.63636364,  0.60714286,  0.625     ],\n",
       "       [ 0.70588235,  0.5       ,  0.64285714,  0.58333333],\n",
       "       [ 0.32352941,  0.86363636,  0.03571429,  0.125     ],\n",
       "       [ 0.32352941,  0.77272727,  0.07142857,  0.04166667],\n",
       "       [ 0.35294118,  0.18181818,  0.46428571,  0.375     ],\n",
       "       [ 0.58823529,  0.36363636,  0.71428571,  0.58333333],\n",
       "       [ 0.61764706,  0.5       ,  0.78571429,  0.70833333],\n",
       "       [ 0.67647059,  0.45454545,  0.58928571,  0.54166667],\n",
       "       [ 0.85294118,  0.72727273,  0.89285714,  1.        ]])"
      ]
     },
     "execution_count": 33,
     "metadata": {},
     "output_type": "execute_result"
    }
   ],
   "source": [
    "scaled_X_test"
   ]
  },
  {
   "cell_type": "code",
   "execution_count": 34,
   "metadata": {},
   "outputs": [],
   "source": [
    "# Spits out probabilities by default.\n",
    "# model.predict(scaled_X_test)"
   ]
  },
  {
   "cell_type": "code",
   "execution_count": 35,
   "metadata": {},
   "outputs": [
    {
     "name": "stdout",
     "output_type": "stream",
     "text": [
      "2/2 [==============================] - 0s 2ms/step\n"
     ]
    },
    {
     "data": {
      "text/plain": [
       "array([1, 0, 2, 1, 2, 0, 1, 2, 2, 1, 2, 0, 0, 0, 0, 1, 2, 1, 1, 2, 0, 2,\n",
       "       0, 2, 2, 2, 2, 2, 0, 0, 0, 0, 1, 0, 0, 2, 1, 0, 0, 0, 2, 1, 1, 0,\n",
       "       0, 1, 2, 2, 1, 2], dtype=int64)"
      ]
     },
     "execution_count": 35,
     "metadata": {},
     "output_type": "execute_result"
    }
   ],
   "source": [
    "#model.predict_classes(scaled_X_test)\n",
    "\n",
    "# predict_x=model.predict(scaled_X_test) \n",
    "# classes_x=np.argmax(predict_x,axis=1)\n",
    "# classes_x\n",
    "\n",
    "y_predict = np.argmax(model.predict(scaled_X_test), axis=1)\n",
    "y_predict"
   ]
  },
  {
   "cell_type": "markdown",
   "metadata": {},
   "source": [
    "# Évaluer les performances du modèle\n",
    "\n",
    "Quelle a été notre performance ? Comment mesurer réellement la \"bonne\" performance ? Une précision de 95 % est-elle suffisante ? Tout dépend de la situation. Nous devons également prendre en compte des éléments tels que le rappel et la précision."
   ]
  },
  {
   "cell_type": "code",
   "execution_count": 36,
   "metadata": {},
   "outputs": [
    {
     "data": {
      "text/plain": [
       "['loss', 'accuracy']"
      ]
     },
     "execution_count": 36,
     "metadata": {},
     "output_type": "execute_result"
    }
   ],
   "source": [
    "model.metrics_names"
   ]
  },
  {
   "cell_type": "code",
   "execution_count": 37,
   "metadata": {},
   "outputs": [
    {
     "name": "stdout",
     "output_type": "stream",
     "text": [
      "2/2 [==============================] - 0s 2ms/step - loss: 0.3431 - accuracy: 0.9600\n"
     ]
    },
    {
     "data": {
      "text/plain": [
       "[0.3431349992752075, 0.9599999785423279]"
      ]
     },
     "execution_count": 37,
     "metadata": {},
     "output_type": "execute_result"
    }
   ],
   "source": [
    "model.evaluate(x=scaled_X_test,y=y_test)"
   ]
  },
  {
   "cell_type": "code",
   "execution_count": 38,
   "metadata": {},
   "outputs": [],
   "source": [
    "from sklearn.metrics import confusion_matrix,classification_report"
   ]
  },
  {
   "cell_type": "code",
   "execution_count": 39,
   "metadata": {},
   "outputs": [
    {
     "name": "stdout",
     "output_type": "stream",
     "text": [
      "2/2 [==============================] - 0s 2ms/step\n"
     ]
    }
   ],
   "source": [
    "# predictions = model.predict_classes(scaled_X_test)\n",
    "predictions =np.argmax(model.predict(scaled_X_test), axis=1)"
   ]
  },
  {
   "cell_type": "code",
   "execution_count": 40,
   "metadata": {},
   "outputs": [
    {
     "data": {
      "text/plain": [
       "array([1, 0, 2, 1, 2, 0, 1, 2, 2, 1, 2, 0, 0, 0, 0, 1, 2, 1, 1, 2, 0, 2,\n",
       "       0, 2, 2, 2, 2, 2, 0, 0, 0, 0, 1, 0, 0, 2, 1, 0, 0, 0, 2, 1, 1, 0,\n",
       "       0, 1, 2, 2, 1, 2], dtype=int64)"
      ]
     },
     "execution_count": 40,
     "metadata": {},
     "output_type": "execute_result"
    }
   ],
   "source": [
    "predictions"
   ]
  },
  {
   "cell_type": "code",
   "execution_count": 41,
   "metadata": {},
   "outputs": [
    {
     "data": {
      "text/plain": [
       "array([1, 0, 2, 1, 1, 0, 1, 2, 1, 1, 2, 0, 0, 0, 0, 1, 2, 1, 1, 2, 0, 2,\n",
       "       0, 2, 2, 2, 2, 2, 0, 0, 0, 0, 1, 0, 0, 2, 1, 0, 0, 0, 2, 1, 1, 0,\n",
       "       0, 1, 2, 2, 1, 2], dtype=int64)"
      ]
     },
     "execution_count": 41,
     "metadata": {},
     "output_type": "execute_result"
    }
   ],
   "source": [
    "y_test.argmax(axis=1)"
   ]
  },
  {
   "cell_type": "code",
   "execution_count": 42,
   "metadata": {},
   "outputs": [
    {
     "data": {
      "text/plain": [
       "array([[19,  0,  0],\n",
       "       [ 0, 13,  2],\n",
       "       [ 0,  0, 16]], dtype=int64)"
      ]
     },
     "execution_count": 42,
     "metadata": {},
     "output_type": "execute_result"
    }
   ],
   "source": [
    "confusion_matrix(y_test.argmax(axis=1),predictions)"
   ]
  },
  {
   "cell_type": "code",
   "execution_count": 43,
   "metadata": {},
   "outputs": [
    {
     "name": "stdout",
     "output_type": "stream",
     "text": [
      "              precision    recall  f1-score   support\n",
      "\n",
      "           0       1.00      1.00      1.00        19\n",
      "           1       1.00      0.87      0.93        15\n",
      "           2       0.89      1.00      0.94        16\n",
      "\n",
      "    accuracy                           0.96        50\n",
      "   macro avg       0.96      0.96      0.96        50\n",
      "weighted avg       0.96      0.96      0.96        50\n",
      "\n"
     ]
    }
   ],
   "source": [
    "print(classification_report(y_test.argmax(axis=1),predictions))"
   ]
  },
  {
   "cell_type": "markdown",
   "metadata": {},
   "source": [
    "## Sauvegarde et chargement des modèles\n",
    "\n",
    "Maintenant que nous avons formé un modèle, voyons comment le sauvegarder et le charger."
   ]
  },
  {
   "cell_type": "code",
   "execution_count": 44,
   "metadata": {},
   "outputs": [],
   "source": [
    "model.save('myfirstmodel.h5')"
   ]
  },
  {
   "cell_type": "code",
   "execution_count": 45,
   "metadata": {},
   "outputs": [],
   "source": [
    "from keras.models import load_model"
   ]
  },
  {
   "cell_type": "code",
   "execution_count": 46,
   "metadata": {},
   "outputs": [],
   "source": [
    "newmodel = load_model('myfirstmodel.h5')"
   ]
  },
  {
   "cell_type": "code",
   "execution_count": 47,
   "metadata": {},
   "outputs": [
    {
     "name": "stdout",
     "output_type": "stream",
     "text": [
      "2/2 [==============================] - 0s 2ms/step\n"
     ]
    },
    {
     "data": {
      "text/plain": [
       "array([[2.8063159e-15, 4.5689484e-04, 9.9954319e-01],\n",
       "       [1.2485200e-04, 5.0532019e-01, 4.9455497e-01],\n",
       "       [2.3671637e-26, 2.5427699e-08, 1.0000000e+00],\n",
       "       [1.2944025e-15, 2.7429196e-04, 9.9972564e-01],\n",
       "       [3.7459304e-17, 9.5309435e-05, 9.9990463e-01],\n",
       "       [8.6597523e-05, 4.3856394e-01, 5.6134951e-01],\n",
       "       [1.6573857e-12, 3.6491824e-03, 9.9635077e-01],\n",
       "       [1.5221589e-20, 3.3850936e-06, 9.9999666e-01],\n",
       "       [2.4130061e-17, 3.8369730e-05, 9.9996161e-01],\n",
       "       [1.9146715e-13, 1.6757869e-03, 9.9832422e-01],\n",
       "       [1.0459472e-18, 2.0238063e-05, 9.9997973e-01],\n",
       "       [9.9894602e-04, 6.0255134e-01, 3.9644971e-01],\n",
       "       [6.4580224e-04, 5.9585655e-01, 4.0349764e-01],\n",
       "       [7.3211762e-04, 5.9025657e-01, 4.0901136e-01],\n",
       "       [1.2236254e-03, 6.6986090e-01, 3.2891551e-01],\n",
       "       [5.8767691e-16, 2.8584668e-04, 9.9971408e-01],\n",
       "       [2.7702220e-21, 1.7904739e-06, 9.9999821e-01],\n",
       "       [3.1450873e-13, 1.7769623e-03, 9.9822301e-01],\n",
       "       [1.0813394e-14, 6.0758495e-04, 9.9939239e-01],\n",
       "       [3.7141011e-21, 1.6200859e-06, 9.9999833e-01],\n",
       "       [6.4779521e-04, 5.8983946e-01, 4.0951270e-01],\n",
       "       [1.8942454e-17, 5.2395473e-05, 9.9994755e-01],\n",
       "       [1.7229018e-04, 4.9570364e-01, 5.0412410e-01],\n",
       "       [8.5686953e-21, 2.3987525e-06, 9.9999762e-01],\n",
       "       [5.2559245e-22, 3.3271763e-06, 9.9999666e-01],\n",
       "       [1.0932760e-20, 2.6645314e-06, 9.9999738e-01],\n",
       "       [3.8218519e-21, 2.0067446e-06, 9.9999797e-01],\n",
       "       [7.7140257e-22, 1.3148306e-06, 9.9999869e-01],\n",
       "       [3.0719538e-04, 5.0625485e-01, 4.9343807e-01],\n",
       "       [3.6340326e-04, 5.3821534e-01, 4.6142125e-01],\n",
       "       [2.0858102e-02, 8.0917537e-01, 1.6996650e-01],\n",
       "       [9.6178398e-04, 6.8822253e-01, 3.1081569e-01],\n",
       "       [1.4230711e-15, 4.2735090e-04, 9.9957269e-01],\n",
       "       [9.3769981e-04, 6.3130891e-01, 3.6775336e-01],\n",
       "       [4.0927711e-03, 7.0941883e-01, 2.8648847e-01],\n",
       "       [2.4951172e-19, 7.0236438e-06, 9.9999297e-01],\n",
       "       [1.5790557e-15, 4.1401017e-04, 9.9958605e-01],\n",
       "       [6.6688226e-04, 6.0766321e-01, 3.9166993e-01],\n",
       "       [2.1566839e-03, 6.9501299e-01, 3.0283034e-01],\n",
       "       [7.0043835e-03, 7.9791087e-01, 1.9508463e-01],\n",
       "       [1.9210213e-18, 1.5537185e-05, 9.9998450e-01],\n",
       "       [6.1896725e-15, 6.6488283e-04, 9.9933511e-01],\n",
       "       [1.4990273e-16, 1.7796595e-04, 9.9982208e-01],\n",
       "       [9.1374764e-04, 6.4374387e-01, 3.5534236e-01],\n",
       "       [7.4720243e-04, 6.2961364e-01, 3.6963922e-01],\n",
       "       [1.5704946e-12, 3.0701784e-03, 9.9692982e-01],\n",
       "       [1.8628837e-17, 6.1856241e-05, 9.9993813e-01],\n",
       "       [7.1220597e-19, 1.9699155e-05, 9.9998033e-01],\n",
       "       [1.2009235e-15, 3.6169350e-04, 9.9963832e-01],\n",
       "       [1.1129489e-22, 8.4682296e-07, 9.9999917e-01]], dtype=float32)"
      ]
     },
     "execution_count": 47,
     "metadata": {},
     "output_type": "execute_result"
    }
   ],
   "source": [
    "newmodel.predict(X_test)"
   ]
  }
 ],
 "metadata": {
  "kernelspec": {
   "display_name": "Python 3 (ipykernel)",
   "language": "python",
   "name": "python3"
  },
  "language_info": {
   "codemirror_mode": {
    "name": "ipython",
    "version": 3
   },
   "file_extension": ".py",
   "mimetype": "text/x-python",
   "name": "python",
   "nbconvert_exporter": "python",
   "pygments_lexer": "ipython3",
   "version": "3.10.9"
  }
 },
 "nbformat": 4,
 "nbformat_minor": 2
}

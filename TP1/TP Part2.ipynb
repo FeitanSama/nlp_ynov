{
 "cells": [
  {
   "cell_type": "markdown",
   "id": "a71633a0",
   "metadata": {},
   "source": [
    "## PARTIE 1"
   ]
  },
  {
   "cell_type": "markdown",
   "id": "a66563ab",
   "metadata": {},
   "source": [
    "Exercice 0 : \n",
    "\n",
    "créer une expression qui reconnait un mail"
   ]
  },
  {
   "cell_type": "markdown",
   "id": "3bccfbd4",
   "metadata": {},
   "source": [
    "Exercice 1 :\n",
    "\n",
    "Écrivez un programme Python pour supprimer les parenthèses dans une chaîne de caractères.\n",
    "\n"
   ]
  },
  {
   "cell_type": "code",
   "execution_count": 12,
   "id": "0d3a09d1",
   "metadata": {},
   "outputs": [
    {
     "name": "stdout",
     "output_type": "stream",
     "text": [
      "1120.45663.789789+\n"
     ]
    }
   ],
   "source": [
    "test = '(1120).(45663).(789789)+'\n",
    "def suppr_chain(chain):\n",
    "    return chain.replace('(','').replace(')','')\n",
    "print(suppr_chain(test))"
   ]
  },
  {
   "cell_type": "markdown",
   "id": "199d5776",
   "metadata": {},
   "source": [
    "Exercice 2 :\n",
    "\n",
    "Écrivez un programme Python pour trouver l'occurrence et la position des sous-chaînes dans une chaîne.."
   ]
  },
  {
   "cell_type": "code",
   "execution_count": 21,
   "id": "10a228fb",
   "metadata": {},
   "outputs": [
    {
     "data": {
      "text/plain": [
       "(16, 19)"
      ]
     },
     "execution_count": 21,
     "metadata": {},
     "output_type": "execute_result"
    }
   ],
   "source": [
    "import re\n",
    "\n",
    "def occurence(chain,occr):\n",
    "    return re.search(occr, chain).span()\n",
    "\n",
    "occurence(test,'789')"
   ]
  },
  {
   "cell_type": "markdown",
   "id": "51f7f73a",
   "metadata": {},
   "source": [
    "Exercice 3 :\n",
    "\n",
    "Écrivez un programme Python pour rechercher les nombres (0-9) de longueur comprise entre 1 et 3 dans une chaîne donnée."
   ]
  },
  {
   "cell_type": "code",
   "execution_count": 23,
   "id": "d9b42f26",
   "metadata": {},
   "outputs": [
    {
     "name": "stdout",
     "output_type": "stream",
     "text": [
      "Nombres trouvés : ['42', '789']\n"
     ]
    }
   ],
   "source": [
    "import re\n",
    "\n",
    "def rechercher_nombres(chaine):\n",
    "    pattern = re.compile(r'\\b\\d{1,3}\\b')\n",
    "    return re.findall(pattern, chaine)\n",
    "\n",
    "# Exemple d'utilisation\n",
    "chaine_test = \"Il y a 42 pommes dans le panier et 789 dans l'arbre.\"\n",
    "nombres_trouves = rechercher_nombres(chaine_test)\n",
    "\n",
    "print(\"Nombres trouvés :\", nombres_trouves)"
   ]
  },
  {
   "cell_type": "markdown",
   "id": "68764bd6",
   "metadata": {},
   "source": [
    "Exercice 4  :\n",
    "\n",
    "Écrivez un programme Python pour supprimer les zéros non significatifs d'une adresse IP."
   ]
  },
  {
   "cell_type": "code",
   "execution_count": 24,
   "id": "9a6d8469",
   "metadata": {},
   "outputs": [
    {
     "name": "stdout",
     "output_type": "stream",
     "text": [
      "Adresse IP originale : 192.010.001.002\n",
      "Adresse IP modifiée  : 192.10.1.2\n"
     ]
    }
   ],
   "source": [
    "def supprimer_zeros_non_significatifs(ip):\n",
    "    octets = ip.split('.')\n",
    "    octets_modifies = []\n",
    "    for octet in octets:\n",
    "        octet_modifie = str(int(octet))\n",
    "        octets_modifies.append(octet_modifie)\n",
    "\n",
    "    ip_resultat = '.'.join(octets_modifies)\n",
    "\n",
    "    return ip_resultat\n",
    "\n",
    "ip_originale = \"192.010.001.002\"\n",
    "ip_modifiee = supprimer_zeros_non_significatifs(ip_originale)\n",
    "\n",
    "print(\"Adresse IP originale :\", ip_originale)\n",
    "print(\"Adresse IP modifiée  :\", ip_modifiee)"
   ]
  },
  {
   "cell_type": "markdown",
   "id": "86dd15cd",
   "metadata": {},
   "source": [
    "Exercice 5  :\n",
    "\n",
    "Écrivez un programme Python pour vérifier un nombre est décimale ou non avec une précision de 3."
   ]
  },
  {
   "cell_type": "code",
   "execution_count": 26,
   "id": "259f6595",
   "metadata": {},
   "outputs": [
    {
     "name": "stdout",
     "output_type": "stream",
     "text": [
      "True\n",
      "False\n",
      "False\n"
     ]
    }
   ],
   "source": [
    "def est_decimal_avec_precision(nombre):\n",
    "    if isinstance(nombre, float):\n",
    "        partie_entiere, partie_decimale = str(nombre).split('.')\n",
    "        if len(partie_decimale) <= 3:\n",
    "            return True\n",
    "        else:\n",
    "            return False\n",
    "    else:\n",
    "        return False\n",
    "\n",
    "nombre1 = 12.345  \n",
    "nombre2 = 7      \n",
    "nombre3 = 0.1234\n",
    "\n",
    "print(est_decimal_avec_precision(nombre1))\n",
    "print(est_decimal_avec_precision(nombre2))\n",
    "print(est_decimal_avec_precision(nombre3))"
   ]
  },
  {
   "cell_type": "markdown",
   "id": "9d35bd3f",
   "metadata": {},
   "source": [
    "## PARTIE 2"
   ]
  },
  {
   "cell_type": "markdown",
   "id": "f1ea388f",
   "metadata": {},
   "source": [
    "a) Vérifiez si les chaînes données contiennent 0xB0. Affichez un résultat booléen comme indiqué ci-dessous."
   ]
  },
  {
   "cell_type": "code",
   "execution_count": 28,
   "id": "0d8c408c",
   "metadata": {},
   "outputs": [
    {
     "name": "stdout",
     "output_type": "stream",
     "text": [
      "False\n",
      "True\n"
     ]
    }
   ],
   "source": [
    "import re\n",
    "line1 = 'start address: 0xA0, func1 address: 0xC0'\n",
    "line2 = 'end address: 0xFF, func2 address: 0xB0'\n",
    "\n",
    "print(bool(re.search(r'0xB0', line1)))     ##### add your solution here\n",
    "\n",
    "print(bool(re.search(r'0xB0', line2)))     ##### add your solution here"
   ]
  },
  {
   "cell_type": "markdown",
   "id": "9b4aa5be",
   "metadata": {},
   "source": [
    "b)Remplacer toutes les occurrences de 5 par cinq pour la chaîne donnée"
   ]
  },
  {
   "cell_type": "code",
   "execution_count": 29,
   "id": "b406d2e3",
   "metadata": {},
   "outputs": [
    {
     "name": "stdout",
     "output_type": "stream",
     "text": [
      "They ate cinq apples and cinq oranges\n"
     ]
    }
   ],
   "source": [
    "ip = 'They ate 5 apples and 5 oranges'\n",
    "\n",
    "print(re.sub('5','cinq',ip))        ##### add your solution here"
   ]
  },
  {
   "cell_type": "markdown",
   "id": "d0e1d375",
   "metadata": {},
   "source": [
    "c) Pour la liste donnée, filtrez tous les éléments qui ne contiennent pas e."
   ]
  },
  {
   "cell_type": "code",
   "execution_count": 31,
   "id": "6a7099c5",
   "metadata": {},
   "outputs": [
    {
     "data": {
      "text/plain": [
       "['goal', 'sit']"
      ]
     },
     "execution_count": 31,
     "metadata": {},
     "output_type": "execute_result"
    }
   ],
   "source": [
    "items = ['goal', 'new', 'user', 'sit', 'eat', 'dinner']\n",
    "\n",
    "##### add your solution here\n",
    "list(filter(lambda x: 'e' not in x,items))"
   ]
  },
  {
   "cell_type": "markdown",
   "id": "33f2f68a",
   "metadata": {},
   "source": [
    "d) Pour la liste donnée, filtrez tous les éléments qui contiennent à la fois e et n."
   ]
  },
  {
   "cell_type": "code",
   "execution_count": 32,
   "id": "44818110",
   "metadata": {},
   "outputs": [
    {
     "data": {
      "text/plain": [
       "['new', 'dinner']"
      ]
     },
     "execution_count": 32,
     "metadata": {},
     "output_type": "execute_result"
    }
   ],
   "source": [
    "items = ['goal', 'new', 'user', 'sit', 'eat', 'dinner']\n",
    "\n",
    "##### add your solution here\n",
    "list(filter(lambda x: 'e' and 'n' in x,items))"
   ]
  }
 ],
 "metadata": {
  "kernelspec": {
   "display_name": "Python 3 (ipykernel)",
   "language": "python",
   "name": "python3"
  },
  "language_info": {
   "codemirror_mode": {
    "name": "ipython",
    "version": 3
   },
   "file_extension": ".py",
   "mimetype": "text/x-python",
   "name": "python",
   "nbconvert_exporter": "python",
   "pygments_lexer": "ipython3",
   "version": "3.10.9"
  }
 },
 "nbformat": 4,
 "nbformat_minor": 5
}

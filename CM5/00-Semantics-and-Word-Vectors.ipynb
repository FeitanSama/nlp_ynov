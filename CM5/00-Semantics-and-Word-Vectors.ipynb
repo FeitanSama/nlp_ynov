{
 "cells": [
  {
   "cell_type": "markdown",
   "metadata": {},
   "source": [
    "# Sémantique et vecteurs de mots\n",
    "Parfois appelée \"opinion mining\", [Wikipedia] (https://en.wikipedia.org/wiki/Sentiment_analysis) définit l'analyse des sentiments comme suit\n",
    "<div class=\"alert alert-info\" style=\"margin: 20px\">\"l'utilisation du traitement du langage naturel ... pour identifier, extraire, quantifier et étudier systématiquement les états affectifs et les informations subjectives.\n",
    "D'une manière générale, l'analyse des sentiments vise à déterminer l'attitude d'un locuteur, d'un auteur ou d'un autre sujet par rapport à un thème donné, ou la polarité contextuelle globale ou la réaction émotionnelle à un document, à une interaction ou à un événement.\"</div>\n",
    "\n",
    "\n",
    "Jusqu'à présent, nous avons utilisé l'occurrence de mots spécifiques et de modèles de mots pour effectuer des classifications de tests. Dans cette section, nous allons pousser l'apprentissage automatique encore plus loin et tenter d'extraire le sens voulu de phrases complexes. Voici quelques exemples simples :\n",
    "* Python is relatively easy to learn.\n",
    "* That was the worst movie I've ever seen.\n",
    "\n",
    "Cependant, les choses se compliquent avec des phrases telles que :\n",
    "* I do not dislike green eggs and ham. (requires negation handling)\n",
    "\n",
    "Pour ce faire, on utilise des algorithmes complexes d'apprentissage automatique tels que [word2vec] (https://en.wikipedia.org/wiki/Word2vec). L'idée est de créer des tableaux numériques, ou *word embeddings*, pour chaque mot d'un grand corpus. Chaque mot se voit attribuer son propre vecteur de telle sorte que les mots qui apparaissent fréquemment ensemble dans le même contexte se voient attribuer des vecteurs proches les uns des autres. Le résultat est un modèle qui peut ne pas savoir qu'un \"lion\" est un animal, mais qui sait que \"lion\" est plus proche de \"chat\" que de \"dandelion\" dans le contexte.\n",
    "\n",
    "Il est important de noter que *construire* des modèles utiles prend beaucoup de temps - des heures ou des jours pour entraîner un grand corpus - et que pour nos besoins, il est préférable d'importer un modèle existant plutôt que de prendre le temps d'entraîner le nôtre."
   ]
  },
  {
   "cell_type": "markdown",
   "metadata": {},
   "source": [
    "___\n",
    "# Installation de plus grands modèles de spaCy\n",
    "Jusqu'à présent, nous avons utilisé le plus petit modèle de langue anglaise de spaCy, [**en_core_web_sm**](https://spacy.io/models/en#en_core_web_sm) (35MB), qui fournit le vocabulaire, la syntaxe et les entités, mais pas les vecteurs. Pour tirer parti des vecteurs de mots intégrés, nous aurons besoin d'une bibliothèque plus importante. Quelques options s'offrent à nous :\n",
    "> [**en_core_web_md**](https://spacy.io/models/en#en_core_web_md) (116MB) Vectors: 685k keys, 20k unique vectors (300 dimensions)\n",
    "> <br>or<br>\n",
    "> [**en_core_web_lg**](https://spacy.io/models/en#en_core_web_lg) (812MB) Vectors: 685k keys, 685k unique vectors (300 dimensions)\n",
    "\n",
    "Si vous avez l'intention de vous appuyer fortement sur des vecteurs de mots, envisagez d'utiliser la plus grande bibliothèque de vecteurs de spaCy, qui contient plus d'un million de vecteurs uniques :\n",
    "> [**en_vectors_web_lg**](https://spacy.io/models/en#en_vectors_web_lg) (631MB) Vectors: 1.1m keys, 1.1m unique vectors (300 dimensions)\n",
    "\n",
    "Pour nos besoins, **en_core_web_md** devrait suffire.\n",
    "\n",
    "### A partir de la ligne de commande (vous devez l'exécuter en tant qu'administrateur ou utiliser sudo) :\n",
    "\n",
    "> `activate spacyenv`&emsp;*si vous utilisez un environnement virtuel*   \n",
    "> \n",
    "> `python -m spacy download en_core_web_md`  \n",
    "> `python -m spacy download en_core_web_lg`&emsp;&emsp;&ensp;*bibliothèque facultative*  \n",
    "> `python -m spacy download en_vectors_web_lg`&emsp;*bibliothèque facultative*  \n",
    "\n",
    "> ### En cas de succès, vous devriez voir apparaître un message du type :\n",
    "> <tt><br>\n",
    "> **Linking successful**<br>\n",
    "> C:\\Anaconda3\\envs\\spacyenv\\lib\\site-packages\\en_core_web_md --><br>\n",
    "> C:\\Anaconda3\\envs\\spacyenv\\lib\\site-packages\\spacy\\data\\en_core_web_md<br>\n",
    "> <br>\n",
    "> You can now load the model via spacy.load('en_core_web_md')</tt>\n",
    "\n",
    "<font color=green>Bien sûr, nous avons une troisième option, qui consiste à former nos propres vecteurs à partir d'un vaste corpus de documents. Malheureusement, cela prendrait un temps et une puissance de traitement prohibitifs.</font> "
   ]
  },
  {
   "cell_type": "markdown",
   "metadata": {},
   "source": [
    "# Vecteurs de mots (Word Vectors)\n",
    "Les vecteurs de mots - également appelés \"word embeddings\" - sont des descriptions mathématiques de mots individuels, de sorte que les mots qui apparaissent fréquemment ensemble dans la langue auront des valeurs similaires. De cette manière, nous pouvons dériver mathématiquement le *contexte*. Comme mentionné ci-dessus, le vecteur de mots pour \"lion\" sera plus proche en valeur de \"chat\" que de \"dandelion\"."
   ]
  },
  {
   "cell_type": "markdown",
   "metadata": {},
   "source": [
    "## Valeurs vectorielles\n",
    "À quoi ressemble un vecteur de mots ? Étant donné que spaCy utilise 300 dimensions, les vecteurs de mots sont stockés sous forme de tableaux de 300 éléments.\n",
    "\n",
    "Notez que nous verrions le même ensemble de valeurs avec **en_core_web_md** et **en_core_web_lg**, car les deux ont été formés en utilisant la famille d'algorithmes [word2vec](https://en.wikipedia.org/wiki/Word2vec)."
   ]
  },
  {
   "cell_type": "code",
   "execution_count": 2,
   "metadata": {
    "collapsed": true
   },
   "outputs": [],
   "source": [
    "# Import spaCy and load the language library\n",
    "import spacy\n",
    "nlp = spacy.load('en_core_web_md')  # make sure to use a larger model!"
   ]
  },
  {
   "cell_type": "code",
   "execution_count": 3,
   "metadata": {
    "scrolled": true
   },
   "outputs": [
    {
     "data": {
      "text/plain": [
       "array([  1.2746  ,   0.46242 ,  -1.1829  ,  -5.2661  ,  -2.7128  ,\n",
       "         1.8521  ,  -0.94273 ,   2.1865  ,   6.503   ,   0.6704  ,\n",
       "         1.5361  ,   2.5992  ,  -0.36233 ,   4.3965  ,  -6.5644  ,\n",
       "         1.6141  ,  -1.2897  ,   2.1184  ,  -0.63654 ,  -3.4572  ,\n",
       "        -4.3771  ,   4.2074  ,  -3.6411  ,  -0.97214 ,   1.3253  ,\n",
       "        -2.3125  ,  -3.6531  ,  -2.8398  ,   2.7913  ,  -1.53    ,\n",
       "        -2.9984  ,  -2.6357  ,   0.50615 ,  -2.6925  ,   4.3401  ,\n",
       "        -5.6017  ,   0.045691,   4.3832  ,  -0.19535 ,  -1.0751  ,\n",
       "         0.32172 ,   2.4395  ,   4.6638  ,   3.4471  ,  -3.3847  ,\n",
       "        -1.8238  ,   0.70212 ,   0.58557 ,   5.0032  ,  -3.1072  ,\n",
       "         1.2364  ,   7.4595  ,   0.057368,   1.0111  ,  -1.0827  ,\n",
       "         0.69113 ,   2.8009  ,  -3.4383  ,  -1.0599  ,  -2.2627  ,\n",
       "        -5.149   ,  -5.0636  ,   3.1405  ,   1.0793  ,  -0.72892 ,\n",
       "        -3.9939  ,  -0.69551 ,  -0.55767 ,   3.2555  ,  -2.9449  ,\n",
       "         4.7114  ,   1.6388  ,   1.3828  ,   1.4255  ,  -3.2334  ,\n",
       "        -2.274   ,  -1.8136  ,   2.2966  ,   2.5462  ,   1.0722  ,\n",
       "        -0.73447 ,   1.2148  ,  -0.9196  ,  -0.065012,   2.088   ,\n",
       "         0.57002 ,   3.5746  ,   1.7192  ,  -8.335   ,   0.71079 ,\n",
       "         0.91314 ,  -5.0107  ,   1.899   ,  -4.4658  ,   4.7993  ,\n",
       "        -0.39899 ,  -2.673   ,  -2.9354  ,   4.304   ,   1.4336  ,\n",
       "         3.7121  ,   0.34882 ,   4.6512  ,  -4.5731  ,  -4.5665  ,\n",
       "         1.5988  ,  -0.50383 ,   0.95857 ,   0.68728 ,  -0.39976 ,\n",
       "        -3.1922  ,   4.4363  ,  -0.69479 ,  -1.9528  ,   4.9376  ,\n",
       "         2.7259  ,   2.2485  ,   5.5734  ,   2.5842  ,   4.7836  ,\n",
       "        -1.0274  ,   2.2703  ,  -2.0696  ,  -1.0642  ,  -4.932   ,\n",
       "        -2.274   ,   4.1409  ,   0.73313 ,   2.1889  ,  -0.098888,\n",
       "         1.6472  ,  -2.3985  ,   2.5911  ,   3.6026  ,   1.885   ,\n",
       "         5.7822  ,  -1.4481  ,   1.8914  , -10.044   ,  -5.7452  ,\n",
       "        -4.3224  ,  -3.854   ,   2.3084  ,  -0.84018 ,  -0.40526 ,\n",
       "         4.7741  ,  -2.3271  ,   7.064   ,   0.95753 ,  -2.356   ,\n",
       "         0.83953 ,   0.40004 ,   0.33743 ,   0.8376  ,   3.9285  ,\n",
       "         0.05955 ,   2.4422  ,   4.3492  ,   3.9861  ,   2.1043  ,\n",
       "        -1.0197  ,  -0.61752 ,  -0.42999 ,  -0.1014  ,  -5.9571  ,\n",
       "        -0.53818 ,  -1.7797  ,   1.7446  ,   2.3934  ,  -0.50263 ,\n",
       "        -1.6222  ,  -0.37372 ,  -6.8938  ,   0.55018 ,  -2.267   ,\n",
       "         0.64912 ,   3.1525  ,  -2.2541  ,  -4.0384  ,   3.206   ,\n",
       "         0.14962 ,  -2.6662  ,   0.18167 ,   5.0028  ,   2.1521  ,\n",
       "         0.92419 ,   5.4163  ,  -2.2408  ,   1.6585  ,  -5.1625  ,\n",
       "         5.029   ,   0.1026  ,  -0.44542 ,   2.0557  ,   3.7778  ,\n",
       "         3.8679  ,  -2.7135  ,   5.3242  ,  -3.2916  ,   5.6421  ,\n",
       "         5.0466  ,   1.6072  ,  -1.3206  ,   4.2044  ,  -0.33793 ,\n",
       "        -3.1139  ,   2.8841  ,  -3.1565  ,  -2.9832  ,  -0.23235 ,\n",
       "         2.3259  ,   3.5477  ,  -2.1299  ,  -1.8344  ,   2.7271  ,\n",
       "         1.5568  ,   5.6865  ,   0.9412  ,  -2.6412  ,  -5.3254  ,\n",
       "         1.3494  ,  -0.47159 ,   2.4979  ,  -1.5568  ,  -1.6911  ,\n",
       "        -2.1842  ,   6.0319  ,   0.022573,   2.3824  ,  -1.1002  ,\n",
       "         0.90216 ,  -1.9113  ,   1.5527  ,   5.7413  ,  -3.1956  ,\n",
       "         0.68655 ,  -1.6068  ,   1.7404  ,  -3.2142  ,   6.4783  ,\n",
       "         1.7548  ,  -2.9795  ,   0.97631 ,  -0.018354,  -0.6379  ,\n",
       "         0.80559 ,   3.1923  ,   3.3335  ,   4.3068  ,  -1.0819  ,\n",
       "        -1.3839  ,  -4.7626  ,  -4.6637  ,  -1.2201  ,  -3.2741  ,\n",
       "         1.5204  ,   0.78119 ,   8.7339  ,   1.6009  ,  -0.79332 ,\n",
       "         5.8416  ,  -1.485   ,   1.5978  ,   2.9746  ,  -0.30759 ,\n",
       "        -1.8023  ,  -4.8344  ,   1.2817  ,  -2.5469  ,   2.6517  ,\n",
       "         1.4881  ,   2.1952  ,  -0.12652 ,   1.2223  ,   0.44763 ,\n",
       "        -3.1445  ,  -2.2051  ,  -4.1785  ,  -3.6539  ,   5.1929  ,\n",
       "         0.78457 ,  -1.2312  ,   5.5624  ,  -1.8462  ,   6.1262  ,\n",
       "        -1.6653  ,  -2.7557  ,  -0.066465,  -3.6362  ,   5.2005  ,\n",
       "        -1.2865  ,   2.8855  ,   6.1219  ,   1.7824  ,   1.4264  ,\n",
       "        10.628   ,  -0.36028 ,   1.9268  ,  -7.835   ,   0.57865 ],\n",
       "      dtype=float32)"
      ]
     },
     "execution_count": 3,
     "metadata": {},
     "output_type": "execute_result"
    }
   ],
   "source": [
    "nlp(u'lion').vector"
   ]
  },
  {
   "cell_type": "markdown",
   "metadata": {},
   "source": [
    "Ce qui est intéressant, c'est que les objets Doc et Span ont eux-mêmes des vecteurs, dérivés des moyennes des vecteurs des tokens individuels. <br>Cela permet de comparer les similitudes entre des documents entiers."
   ]
  },
  {
   "cell_type": "code",
   "execution_count": 4,
   "metadata": {},
   "outputs": [
    {
     "data": {
      "text/plain": [
       "array([-1.7769655 ,  0.39714497, -1.695121  , -0.1089559 ,  3.861494  ,\n",
       "       -0.10778303, -0.02750097,  3.191314  ,  1.0857747 , -0.2615487 ,\n",
       "        4.0720797 ,  1.5932049 , -2.7569218 ,  0.70982707,  2.0976841 ,\n",
       "        0.08150103,  0.8847861 , -0.505237  ,  0.767067  , -2.88911   ,\n",
       "       -0.28514975, -0.331664  ,  0.306348  , -2.25347   ,  0.96798134,\n",
       "       -0.030282  , -3.765162  , -2.168157  ,  1.3985709 ,  2.175709  ,\n",
       "       -0.81103534, -0.55156004, -1.033463  , -2.3130198 , -2.892054  ,\n",
       "       -2.843568  , -0.33247897,  1.620013  ,  3.03307   , -0.42730814,\n",
       "        1.298548  ,  0.18969259,  1.234282  , -0.14263602, -1.427765  ,\n",
       "       -0.05807757,  0.33836406, -1.6987331 , -2.13661   ,  0.10412004,\n",
       "        0.62479395,  3.9712129 , -0.31110606, -1.9676571 , -0.11860895,\n",
       "        0.55582994, -0.660888  ,  1.947435  ,  1.6391805 ,  0.6569032 ,\n",
       "        0.054408  , -2.08993   ,  1.0370519 ,  0.5363236 ,  0.00807395,\n",
       "       -0.91060096, -3.3870788 , -1.4823462 ,  1.4170542 ,  0.32670596,\n",
       "        0.602952  , -1.047483  , -0.3633799 , -0.09132097,  0.722465  ,\n",
       "       -0.74786097, -1.8563267 ,  0.827946  , -0.99609107, -0.3298212 ,\n",
       "       -3.472247  , -0.94788504, -0.46503416,  0.6626488 ,  2.5601602 ,\n",
       "       -1.2395241 ,  0.61391175, -0.61511296, -1.459838  ,  0.14399411,\n",
       "       -1.1767578 , -0.10416207,  1.6930513 , -1.6688293 ,  0.26341552,\n",
       "       -0.84874   ,  1.5149789 ,  0.03238799,  1.768853  ,  0.42900094,\n",
       "        1.43253   , -0.53126115,  2.916109  ,  1.7515122 ,  0.62033385,\n",
       "        1.7113819 , -1.5602219 ,  1.0098228 , -1.277114  , -0.816329  ,\n",
       "       -0.28804332,  0.0696778 , -1.0609343 ,  0.960142  ,  1.765322  ,\n",
       "       -0.18756203,  0.75897396, -0.64144975,  1.7536061 ,  0.10283799,\n",
       "       -0.31856102, -1.091177  , -1.6496038 ,  1.657584  , -1.5179831 ,\n",
       "       -1.886636  ,  1.6479073 , -1.196546  ,  3.3722177 , -0.22696403,\n",
       "       -3.203148  , -1.708502  ,  2.9725442 , -0.320748  ,  0.466757  ,\n",
       "        1.6034908 , -1.6832211 , -2.80418   ,  1.4318919 , -1.0059    ,\n",
       "       -2.9437232 , -1.430186  , -1.3512889 , -0.09892895, -0.38347203,\n",
       "        1.071111  , -1.02584   ,  0.30393195,  1.5452302 ,  0.28571904,\n",
       "        0.10674398,  2.7844248 ,  0.43838865, -0.21123195, -0.69085443,\n",
       "        0.04283998,  2.3449368 , -0.8889019 , -0.2773927 ,  0.3125515 ,\n",
       "        0.264121  , -2.649219  ,  0.33148596,  0.39187098, -2.2444918 ,\n",
       "       -1.1317899 , -1.935579  ,  0.52987385,  0.303826  ,  1.681892  ,\n",
       "        1.0111669 ,  1.5380409 ,  1.7308229 , -0.080899  , -0.892347  ,\n",
       "       -0.23734598, -0.21603405, -0.69041294, -1.6095406 , -0.8730756 ,\n",
       "       -1.5468609 , -0.17627892, -0.1907803 ,  0.17952934, -0.803991  ,\n",
       "       -0.03223496, -1.9790027 , -1.6414549 ,  0.20527199, -1.104895  ,\n",
       "        0.24875899,  1.186315  , -0.8186741 , -2.410284  ,  0.5833171 ,\n",
       "       -0.784715  , -2.627035  , -0.15004005, -1.4183891 ,  0.442288  ,\n",
       "       -0.62965304, -1.113676  , -0.46552286, -1.651365  ,  1.8519121 ,\n",
       "        1.1279902 , -3.2509658 ,  0.04463506,  0.11902802,  0.68590844,\n",
       "        0.77328   ,  1.3373908 , -1.7096472 , -0.5530244 , -0.02548897,\n",
       "        1.19019   ,  0.10446696, -1.351313  , -1.7751659 , -0.44060117,\n",
       "       -1.4011772 ,  0.9672308 , -0.97586805,  1.2529299 , -1.9867659 ,\n",
       "       -0.7944795 ,  0.6362045 ,  2.010871  ,  3.6185539 ,  0.62658596,\n",
       "        0.9231445 , -3.4679253 ,  0.42413408,  1.219738  , -0.0507701 ,\n",
       "        2.0426223 , -1.5670619 ,  1.5156981 , -0.09616538,  1.6220791 ,\n",
       "        0.775658  , -1.8741112 ,  2.0503078 , -0.7602806 , -1.442644  ,\n",
       "        1.69713   , -1.6083733 , -0.278282  , -1.431804  ,  0.60193396,\n",
       "       -0.51194596, -2.1616828 , -4.4544115 , -0.3637256 , -0.98130643,\n",
       "       -2.1879544 ,  1.471617  ,  3.2054775 , -0.562816  , -1.099867  ,\n",
       "        2.353531  ,  1.6450421 ,  2.8005474 ,  1.1693535 ,  0.086842  ,\n",
       "       -2.5300715 , -1.5670309 ,  0.31365603, -2.450636  ,  1.4588621 ,\n",
       "        1.24279   ,  0.08502197,  1.06439   , -0.86917496,  0.32117197,\n",
       "       -0.909351  ,  0.52400905, -1.35512   , -0.72316396,  1.9528949 ,\n",
       "        0.49172202,  0.4663611 , -0.43013096, -0.09305   ,  1.265938  ,\n",
       "       -1.251461  , -0.85874796, -0.2679918 , -0.173774  ,  0.56781405,\n",
       "       -0.5377843 ,  0.871497  ,  2.4677212 ,  0.6728541 , -0.97043693,\n",
       "        2.501867  , -0.572828  ,  0.504657  , -3.4507267 ,  0.45634192],\n",
       "      dtype=float32)"
      ]
     },
     "execution_count": 4,
     "metadata": {},
     "output_type": "execute_result"
    }
   ],
   "source": [
    "doc = nlp(u'The quick brown fox jumped over the lazy dogs.')\n",
    "\n",
    "doc.vector"
   ]
  },
  {
   "cell_type": "markdown",
   "metadata": {},
   "source": [
    "## Identifier les vecteurs similaires\n",
    "La meilleure façon d'exposer les relations vectorielles est d'utiliser la méthode `.similarity()` de Doc tokens."
   ]
  },
  {
   "cell_type": "code",
   "execution_count": 5,
   "metadata": {
    "scrolled": true
   },
   "outputs": [
    {
     "name": "stdout",
     "output_type": "stream",
     "text": [
      "lion lion 1.0\n",
      "lion cat 0.3854507803916931\n",
      "lion pet 0.20031584799289703\n",
      "cat lion 0.3854507803916931\n",
      "cat cat 1.0\n",
      "cat pet 0.732966423034668\n",
      "pet lion 0.20031584799289703\n",
      "pet cat 0.732966423034668\n",
      "pet pet 1.0\n"
     ]
    }
   ],
   "source": [
    "# Create a three-token Doc object:\n",
    "tokens = nlp(u'lion cat pet')\n",
    "\n",
    "# Iterate through token combinations:\n",
    "for token1 in tokens:\n",
    "    for token2 in tokens:\n",
    "        print(token1.text, token2.text, token1.similarity(token2))"
   ]
  },
  {
   "cell_type": "markdown",
   "metadata": {},
   "source": [
    "<font color=green>Notez que l'ordre n'a pas d'importance. `token1.similarity(token2)` a la même valeur que `token2.similarity(token1)`.</font>\n",
    "#### Pour visualiser ce tableau :"
   ]
  },
  {
   "cell_type": "code",
   "execution_count": 6,
   "metadata": {},
   "outputs": [
    {
     "data": {
      "text/markdown": [
       "<table><tr><th></th><th>lion</th><th>cat</th><th>pet</th></tr><tr><td>**lion**</td><td>1.0</td><td>0.3855</td><td>0.2003</td></tr><tr><td>**cat**</td><td>0.3855</td><td>1.0</td><td>0.733</td></tr><tr><td>**pet**</td><td>0.2003</td><td>0.733</td><td>1.0</td></tr>"
      ],
      "text/plain": [
       "<IPython.core.display.Markdown object>"
      ]
     },
     "metadata": {},
     "output_type": "display_data"
    }
   ],
   "source": [
    "# For brevity, assign each token a name\n",
    "a,b,c = tokens\n",
    "\n",
    "# Display as a Markdown table (this only works in Jupyter!)\n",
    "from IPython.display import Markdown, display\n",
    "display(Markdown(f'<table><tr><th></th><th>{a.text}</th><th>{b.text}</th><th>{c.text}</th></tr>\\\n",
    "<tr><td>**{a.text}**</td><td>{a.similarity(a):{.4}}</td><td>{b.similarity(a):{.4}}</td><td>{c.similarity(a):{.4}}</td></tr>\\\n",
    "<tr><td>**{b.text}**</td><td>{a.similarity(b):{.4}}</td><td>{b.similarity(b):{.4}}</td><td>{c.similarity(b):{.4}}</td></tr>\\\n",
    "<tr><td>**{c.text}**</td><td>{a.similarity(c):{.4}}</td><td>{b.similarity(c):{.4}}</td><td>{c.similarity(c):{.4}}</td></tr>'))"
   ]
  },
  {
   "cell_type": "markdown",
   "metadata": {},
   "source": [
    "Comme prévu, nous observons la plus forte similarité entre \"cat\" et \"pet\", la plus faible entre \"lion\" et \"pet\", et une certaine similarité entre \"lion\" et \"cat\". Un mot aura une similitude parfaite (1,0) avec lui-même.\n",
    "\n",
    "Si vous êtes curieux, la similitude entre \"lion\" et \"dandelion\" est très faible :"
   ]
  },
  {
   "cell_type": "code",
   "execution_count": 7,
   "metadata": {},
   "outputs": [
    {
     "data": {
      "text/plain": [
       "0.14681951826673326"
      ]
     },
     "execution_count": 7,
     "metadata": {},
     "output_type": "execute_result"
    }
   ],
   "source": [
    "nlp(u'lion').similarity(nlp(u'dandelion'))"
   ]
  },
  {
   "cell_type": "markdown",
   "metadata": {},
   "source": [
    "### Les contraires ne sont pas nécessairement différents\n",
    "Les mots qui ont une signification opposée, mais qui apparaissent souvent dans le même *contexte* peuvent avoir des vecteurs similaires."
   ]
  },
  {
   "cell_type": "code",
   "execution_count": 8,
   "metadata": {},
   "outputs": [
    {
     "name": "stdout",
     "output_type": "stream",
     "text": [
      "like like 1.0\n",
      "like love 0.5212638974189758\n",
      "like hate 0.5065140724182129\n",
      "love like 0.5212638974189758\n",
      "love love 1.0\n",
      "love hate 0.5708349943161011\n",
      "hate like 0.5065140724182129\n",
      "hate love 0.5708349943161011\n",
      "hate hate 1.0\n"
     ]
    }
   ],
   "source": [
    "# Create a three-token Doc object:\n",
    "tokens = nlp(u'like love hate')\n",
    "\n",
    "# Iterate through token combinations:\n",
    "for token1 in tokens:\n",
    "    for token2 in tokens:\n",
    "        print(token1.text, token2.text, token1.similarity(token2))"
   ]
  },
  {
   "cell_type": "markdown",
   "metadata": {},
   "source": [
    "## Normes vectorielles\n",
    "Il est parfois utile de regrouper 300 dimensions dans une [norme euclidienne (L2)](https://en.wikipedia.org/wiki/Norm_%28mathematics%29#Euclidean_norm), calculée comme la racine carrée de la somme des vecteurs carrés. Ceci est accessible par l'attribut `.vector_norm`. D'autres attributs utiles sont `.has_vector` et `.is_oov` ou *out of vocabulary*.\n",
    "\n",
    "Par exemple, notre bibliothèque de vecteurs de 685k peut ne pas contenir le mot \"[nargle](https://en.wikibooks.org/wiki/Muggles%27_Guide_to_Harry_Potter/Magic/Nargle)\". Pour le vérifier :"
   ]
  },
  {
   "cell_type": "code",
   "execution_count": 9,
   "metadata": {},
   "outputs": [
    {
     "name": "stdout",
     "output_type": "stream",
     "text": [
      "dog True 75.254234 False\n",
      "cat True 63.188496 False\n",
      "nargle False 0.0 True\n"
     ]
    }
   ],
   "source": [
    "tokens = nlp(u'dog cat nargle')\n",
    "\n",
    "for token in tokens:\n",
    "    print(token.text, token.has_vector, token.vector_norm, token.is_oov)"
   ]
  },
  {
   "cell_type": "markdown",
   "metadata": {},
   "source": [
    "En effet, nous voyons que \"nargle\" n'a pas de vecteur, donc la valeur vector_norm est zéro, et il s'identifie comme *out of vocabulary*."
   ]
  },
  {
   "cell_type": "markdown",
   "metadata": {},
   "source": [
    "## Vector arithmetic\n",
    "Croyez-le ou non, nous pouvons calculer de nouveaux vecteurs en ajoutant et en soustrayant des vecteurs apparentés. Un exemple célèbre suggère\n",
    "<pre>\"king\" - \"man\" + \"woman\" = \"queen\"</pre>\n",
    "Essayons-le !"
   ]
  },
  {
   "cell_type": "code",
   "execution_count": 10,
   "metadata": {},
   "outputs": [
    {
     "name": "stdout",
     "output_type": "stream",
     "text": [
      "['king', 'the', 'and', 'that', 'havin', 'where', 'she', 'they', 'woman', 'somethin']\n"
     ]
    }
   ],
   "source": [
    "from scipy import spatial\n",
    "\n",
    "cosine_similarity = lambda x, y: 1 - spatial.distance.cosine(x, y)\n",
    "\n",
    "king = nlp.vocab['king'].vector\n",
    "man = nlp.vocab['man'].vector\n",
    "woman = nlp.vocab['woman'].vector\n",
    "\n",
    "# Now we find the closest vector in the vocabulary to the result of \"man\" - \"woman\" + \"queen\"\n",
    "new_vector = king - man + woman\n",
    "computed_similarities = []\n",
    "\n",
    "for word in nlp.vocab:\n",
    "    # Ignore words without vectors and mixed-case words:\n",
    "    if word.has_vector:\n",
    "        if word.is_lower:\n",
    "            if word.is_alpha:\n",
    "                similarity = cosine_similarity(new_vector, word.vector)\n",
    "                computed_similarities.append((word, similarity))\n",
    "\n",
    "computed_similarities = sorted(computed_similarities, key=lambda item: -item[1])\n",
    "\n",
    "print([w[0].text for w in computed_similarities[:10]])"
   ]
  },
  {
   "cell_type": "markdown",
   "metadata": {},
   "source": [
    "Dans ce cas, \"king\" était donc plus proche que \"queen\" de notre vecteur calculé, bien que \"queen\" soit apparu !"
   ]
  },
  {
   "cell_type": "markdown",
   "metadata": {},
   "source": [
    "## A suivre : L'analyse des sentiments"
   ]
  },
  {
   "cell_type": "code",
   "execution_count": null,
   "metadata": {},
   "outputs": [],
   "source": []
  }
 ],
 "metadata": {
  "kernelspec": {
   "display_name": "Python 3 (ipykernel)",
   "language": "python",
   "name": "python3"
  },
  "language_info": {
   "codemirror_mode": {
    "name": "ipython",
    "version": 3
   },
   "file_extension": ".py",
   "mimetype": "text/x-python",
   "name": "python",
   "nbconvert_exporter": "python",
   "pygments_lexer": "ipython3",
   "version": "3.10.9"
  }
 },
 "nbformat": 4,
 "nbformat_minor": 2
}

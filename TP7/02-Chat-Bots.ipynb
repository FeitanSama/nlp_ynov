{
 "cells": [
  {
   "cell_type": "markdown",
   "metadata": {},
   "source": [
    "# Question and Answer (QA) Chat Bots"
   ]
  },
  {
   "cell_type": "markdown",
   "metadata": {},
   "source": [
    "----\n",
    "\n",
    "------"
   ]
  },
  {
   "cell_type": "markdown",
   "metadata": {},
   "source": [
    "## Chargement des données\n",
    "\n",
    "Nous allons travailler avec le dataset Babi de Facebook Research.\n",
    "\n",
    "Détails complets: https://research.fb.com/downloads/babi/\n",
    "\n",
    "- Jason Weston, Antoine Bordes, Sumit Chopra, Tomas Mikolov, Alexander M. Rush,\n",
    "  \"Towards AI-Complete Question Answering: A Set of Prerequisite Toy Tasks\",\n",
    "  http://arxiv.org/abs/1502.05698\n"
   ]
  },
  {
   "cell_type": "code",
   "execution_count": 1,
   "metadata": {},
   "outputs": [],
   "source": [
    "import pickle\n",
    "import numpy as np"
   ]
  },
  {
   "cell_type": "code",
   "execution_count": 2,
   "metadata": {},
   "outputs": [],
   "source": [
    "with open(\"train_qa.txt\", \"rb\") as fp:   # Unpickling\n",
    "    train_data =  pickle.load(fp)"
   ]
  },
  {
   "cell_type": "code",
   "execution_count": 3,
   "metadata": {},
   "outputs": [],
   "source": [
    "with open(\"test_qa.txt\", \"rb\") as fp:   # Unpickling\n",
    "    test_data =  pickle.load(fp)"
   ]
  },
  {
   "cell_type": "markdown",
   "metadata": {},
   "source": [
    "----"
   ]
  },
  {
   "cell_type": "markdown",
   "metadata": {},
   "source": [
    "## Explorer le format des données"
   ]
  },
  {
   "cell_type": "code",
   "execution_count": 4,
   "metadata": {},
   "outputs": [
    {
     "data": {
      "text/plain": [
       "list"
      ]
     },
     "execution_count": 4,
     "metadata": {},
     "output_type": "execute_result"
    }
   ],
   "source": [
    "type(test_data)"
   ]
  },
  {
   "cell_type": "code",
   "execution_count": 5,
   "metadata": {},
   "outputs": [
    {
     "data": {
      "text/plain": [
       "list"
      ]
     },
     "execution_count": 5,
     "metadata": {},
     "output_type": "execute_result"
    }
   ],
   "source": [
    "type(train_data)"
   ]
  },
  {
   "cell_type": "code",
   "execution_count": 6,
   "metadata": {},
   "outputs": [
    {
     "data": {
      "text/plain": [
       "1000"
      ]
     },
     "execution_count": 6,
     "metadata": {},
     "output_type": "execute_result"
    }
   ],
   "source": [
    "len(test_data)"
   ]
  },
  {
   "cell_type": "code",
   "execution_count": 7,
   "metadata": {},
   "outputs": [
    {
     "data": {
      "text/plain": [
       "10000"
      ]
     },
     "execution_count": 7,
     "metadata": {},
     "output_type": "execute_result"
    }
   ],
   "source": [
    "len(train_data)"
   ]
  },
  {
   "cell_type": "code",
   "execution_count": 8,
   "metadata": {},
   "outputs": [
    {
     "data": {
      "text/plain": [
       "(['Mary',\n",
       "  'moved',\n",
       "  'to',\n",
       "  'the',\n",
       "  'bathroom',\n",
       "  '.',\n",
       "  'Sandra',\n",
       "  'journeyed',\n",
       "  'to',\n",
       "  'the',\n",
       "  'bedroom',\n",
       "  '.'],\n",
       " ['Is', 'Sandra', 'in', 'the', 'hallway', '?'],\n",
       " 'no')"
      ]
     },
     "execution_count": 8,
     "metadata": {},
     "output_type": "execute_result"
    }
   ],
   "source": [
    "train_data[0]"
   ]
  },
  {
   "cell_type": "code",
   "execution_count": 9,
   "metadata": {},
   "outputs": [
    {
     "data": {
      "text/plain": [
       "'Mary moved to the bathroom . Sandra journeyed to the bedroom .'"
      ]
     },
     "execution_count": 9,
     "metadata": {},
     "output_type": "execute_result"
    }
   ],
   "source": [
    "' '.join(train_data[0][0])"
   ]
  },
  {
   "cell_type": "code",
   "execution_count": 10,
   "metadata": {},
   "outputs": [
    {
     "data": {
      "text/plain": [
       "'Is Sandra in the hallway ?'"
      ]
     },
     "execution_count": 10,
     "metadata": {},
     "output_type": "execute_result"
    }
   ],
   "source": [
    "' '.join(train_data[0][1])"
   ]
  },
  {
   "cell_type": "code",
   "execution_count": 11,
   "metadata": {},
   "outputs": [
    {
     "data": {
      "text/plain": [
       "'no'"
      ]
     },
     "execution_count": 11,
     "metadata": {},
     "output_type": "execute_result"
    }
   ],
   "source": [
    "train_data[0][2]"
   ]
  },
  {
   "cell_type": "markdown",
   "metadata": {},
   "source": [
    "-----\n",
    "\n",
    "## Mise en place d'un vocabulaire de tous les mots"
   ]
  },
  {
   "cell_type": "code",
   "execution_count": 12,
   "metadata": {},
   "outputs": [],
   "source": [
    "# Create a set that holds the vocab words\n",
    "vocab = set()"
   ]
  },
  {
   "cell_type": "code",
   "execution_count": 13,
   "metadata": {},
   "outputs": [],
   "source": [
    "all_data = test_data + train_data"
   ]
  },
  {
   "cell_type": "code",
   "execution_count": 14,
   "metadata": {},
   "outputs": [],
   "source": [
    "for story, question , answer in all_data:\n",
    "    # In case you don't know what a union of sets is:\n",
    "    # https://www.programiz.com/python-programming/methods/set/union\n",
    "    vocab = vocab.union(set(story))\n",
    "    vocab = vocab.union(set(question))"
   ]
  },
  {
   "cell_type": "code",
   "execution_count": 15,
   "metadata": {},
   "outputs": [],
   "source": [
    "vocab.add('no')\n",
    "vocab.add('yes')"
   ]
  },
  {
   "cell_type": "code",
   "execution_count": 16,
   "metadata": {},
   "outputs": [
    {
     "data": {
      "text/plain": [
       "{'.',\n",
       " '?',\n",
       " 'Daniel',\n",
       " 'Is',\n",
       " 'John',\n",
       " 'Mary',\n",
       " 'Sandra',\n",
       " 'apple',\n",
       " 'back',\n",
       " 'bathroom',\n",
       " 'bedroom',\n",
       " 'discarded',\n",
       " 'down',\n",
       " 'dropped',\n",
       " 'football',\n",
       " 'garden',\n",
       " 'got',\n",
       " 'grabbed',\n",
       " 'hallway',\n",
       " 'in',\n",
       " 'journeyed',\n",
       " 'kitchen',\n",
       " 'left',\n",
       " 'milk',\n",
       " 'moved',\n",
       " 'no',\n",
       " 'office',\n",
       " 'picked',\n",
       " 'put',\n",
       " 'the',\n",
       " 'there',\n",
       " 'to',\n",
       " 'took',\n",
       " 'travelled',\n",
       " 'up',\n",
       " 'went',\n",
       " 'yes'}"
      ]
     },
     "execution_count": 16,
     "metadata": {},
     "output_type": "execute_result"
    }
   ],
   "source": [
    "vocab"
   ]
  },
  {
   "cell_type": "code",
   "execution_count": 17,
   "metadata": {},
   "outputs": [],
   "source": [
    "vocab_len = len(vocab) + 1 #we add an extra space to hold a 0 for Keras's pad_sequences"
   ]
  },
  {
   "cell_type": "code",
   "execution_count": 18,
   "metadata": {},
   "outputs": [],
   "source": [
    "max_story_len = max([len(data[0]) for data in all_data])"
   ]
  },
  {
   "cell_type": "code",
   "execution_count": 19,
   "metadata": {},
   "outputs": [
    {
     "data": {
      "text/plain": [
       "156"
      ]
     },
     "execution_count": 19,
     "metadata": {},
     "output_type": "execute_result"
    }
   ],
   "source": [
    "max_story_len"
   ]
  },
  {
   "cell_type": "code",
   "execution_count": 20,
   "metadata": {},
   "outputs": [],
   "source": [
    "max_question_len = max([len(data[1]) for data in all_data])"
   ]
  },
  {
   "cell_type": "code",
   "execution_count": 21,
   "metadata": {},
   "outputs": [
    {
     "data": {
      "text/plain": [
       "6"
      ]
     },
     "execution_count": 21,
     "metadata": {},
     "output_type": "execute_result"
    }
   ],
   "source": [
    "max_question_len"
   ]
  },
  {
   "cell_type": "markdown",
   "metadata": {},
   "source": [
    "## Vectorisation des données"
   ]
  },
  {
   "cell_type": "code",
   "execution_count": 22,
   "metadata": {},
   "outputs": [
    {
     "data": {
      "text/plain": [
       "{'.',\n",
       " '?',\n",
       " 'Daniel',\n",
       " 'Is',\n",
       " 'John',\n",
       " 'Mary',\n",
       " 'Sandra',\n",
       " 'apple',\n",
       " 'back',\n",
       " 'bathroom',\n",
       " 'bedroom',\n",
       " 'discarded',\n",
       " 'down',\n",
       " 'dropped',\n",
       " 'football',\n",
       " 'garden',\n",
       " 'got',\n",
       " 'grabbed',\n",
       " 'hallway',\n",
       " 'in',\n",
       " 'journeyed',\n",
       " 'kitchen',\n",
       " 'left',\n",
       " 'milk',\n",
       " 'moved',\n",
       " 'no',\n",
       " 'office',\n",
       " 'picked',\n",
       " 'put',\n",
       " 'the',\n",
       " 'there',\n",
       " 'to',\n",
       " 'took',\n",
       " 'travelled',\n",
       " 'up',\n",
       " 'went',\n",
       " 'yes'}"
      ]
     },
     "execution_count": 22,
     "metadata": {},
     "output_type": "execute_result"
    }
   ],
   "source": [
    "vocab"
   ]
  },
  {
   "cell_type": "code",
   "execution_count": 23,
   "metadata": {},
   "outputs": [],
   "source": [
    "# Reserve 0 for pad_sequences\n",
    "vocab_size = len(vocab) + 1"
   ]
  },
  {
   "cell_type": "markdown",
   "metadata": {},
   "source": [
    "-----------"
   ]
  },
  {
   "cell_type": "code",
   "execution_count": 24,
   "metadata": {},
   "outputs": [],
   "source": [
    "from keras_preprocessing.sequence import pad_sequences\n",
    "from keras_preprocessing.text import Tokenizer\n",
    "# from keras.utils.data_utils import pad_sequences"
   ]
  },
  {
   "cell_type": "code",
   "execution_count": 25,
   "metadata": {},
   "outputs": [],
   "source": [
    "# integer encode sequences of words\n",
    "tokenizer = Tokenizer(filters=[])\n",
    "tokenizer.fit_on_texts(vocab)"
   ]
  },
  {
   "cell_type": "code",
   "execution_count": 26,
   "metadata": {},
   "outputs": [
    {
     "data": {
      "text/plain": [
       "{'journeyed': 1,\n",
       " 'kitchen': 2,\n",
       " 'discarded': 3,\n",
       " 'travelled': 4,\n",
       " 'got': 5,\n",
       " 'milk': 6,\n",
       " 'took': 7,\n",
       " 'football': 8,\n",
       " 'dropped': 9,\n",
       " 'is': 10,\n",
       " 'daniel': 11,\n",
       " 'sandra': 12,\n",
       " 'john': 13,\n",
       " 'to': 14,\n",
       " 'the': 15,\n",
       " 'office': 16,\n",
       " '.': 17,\n",
       " 'no': 18,\n",
       " 'left': 19,\n",
       " 'moved': 20,\n",
       " 'bathroom': 21,\n",
       " 'put': 22,\n",
       " 'picked': 23,\n",
       " '?': 24,\n",
       " 'apple': 25,\n",
       " 'garden': 26,\n",
       " 'mary': 27,\n",
       " 'back': 28,\n",
       " 'bedroom': 29,\n",
       " 'yes': 30,\n",
       " 'there': 31,\n",
       " 'hallway': 32,\n",
       " 'up': 33,\n",
       " 'in': 34,\n",
       " 'down': 35,\n",
       " 'went': 36,\n",
       " 'grabbed': 37}"
      ]
     },
     "execution_count": 26,
     "metadata": {},
     "output_type": "execute_result"
    }
   ],
   "source": [
    "tokenizer.word_index"
   ]
  },
  {
   "cell_type": "code",
   "execution_count": 27,
   "metadata": {},
   "outputs": [],
   "source": [
    "train_story_text = []\n",
    "train_question_text = []\n",
    "train_answers = []\n",
    "\n",
    "for story,question,answer in train_data:\n",
    "    train_story_text.append(story)\n",
    "    train_question_text.append(question)"
   ]
  },
  {
   "cell_type": "code",
   "execution_count": 28,
   "metadata": {},
   "outputs": [],
   "source": [
    "train_story_seq = tokenizer.texts_to_sequences(train_story_text)"
   ]
  },
  {
   "cell_type": "code",
   "execution_count": 29,
   "metadata": {},
   "outputs": [
    {
     "data": {
      "text/plain": [
       "10000"
      ]
     },
     "execution_count": 29,
     "metadata": {},
     "output_type": "execute_result"
    }
   ],
   "source": [
    "len(train_story_text)"
   ]
  },
  {
   "cell_type": "code",
   "execution_count": 31,
   "metadata": {},
   "outputs": [
    {
     "data": {
      "text/plain": [
       "10000"
      ]
     },
     "execution_count": 31,
     "metadata": {},
     "output_type": "execute_result"
    }
   ],
   "source": [
    "len(train_story_seq)"
   ]
  },
  {
   "cell_type": "code",
   "execution_count": 32,
   "metadata": {},
   "outputs": [],
   "source": [
    "# word_index = tokenizer.word_index"
   ]
  },
  {
   "cell_type": "markdown",
   "metadata": {},
   "source": [
    "### Functionalize Vectorization"
   ]
  },
  {
   "cell_type": "code",
   "execution_count": 33,
   "metadata": {},
   "outputs": [],
   "source": [
    "def vectorize_stories(data, word_index=tokenizer.word_index, max_story_len=max_story_len,max_question_len=max_question_len):\n",
    "    '''\n",
    "    INPUT: \n",
    "    \n",
    "    data: consisting of Stories,Queries,and Answers\n",
    "    word_index: word index dictionary from tokenizer\n",
    "    max_story_len: the length of the longest story (used for pad_sequences function)\n",
    "    max_question_len: length of the longest question (used for pad_sequences function)\n",
    "\n",
    "\n",
    "    OUTPUT:\n",
    "    \n",
    "    Vectorizes the stories,questions, and answers into padded sequences. We first loop for every story, query , and\n",
    "    answer in the data. Then we convert the raw words to an word index value. Then we append each set to their appropriate\n",
    "    output list. Then once we have converted the words to numbers, we pad the sequences so they are all of equal length.\n",
    "    \n",
    "    Returns this in the form of a tuple (X,Xq,Y) (padded based on max lengths)\n",
    "    '''\n",
    "    \n",
    "    \n",
    "    # X = STORIES\n",
    "    X = []\n",
    "    # Xq = QUERY/QUESTION\n",
    "    Xq = []\n",
    "    # Y = CORRECT ANSWER\n",
    "    Y = []\n",
    "    \n",
    "    \n",
    "    for story, query, answer in data:\n",
    "        \n",
    "        # Grab the word index for every word in story\n",
    "        x = [word_index[word.lower()] for word in story]\n",
    "        # Grab the word index for every word in query\n",
    "        xq = [word_index[word.lower()] for word in query]\n",
    "        \n",
    "        # Grab the Answers (either Yes/No so we don't need to use list comprehension here)\n",
    "        # Index 0 is reserved so we're going to use + 1\n",
    "        y = np.zeros(len(word_index) + 1)\n",
    "        \n",
    "        # Now that y is all zeros and we know its just Yes/No , we can use numpy logic to create this assignment\n",
    "        #\n",
    "        y[word_index[answer]] = 1\n",
    "        \n",
    "        # Append each set of story,query, and answer to their respective holding lists\n",
    "        X.append(x)\n",
    "        Xq.append(xq)\n",
    "        Y.append(y)\n",
    "        \n",
    "    # Finally, pad the sequences based on their max length so the RNN can be trained on uniformly long sequences.\n",
    "        \n",
    "    # RETURN TUPLE FOR UNPACKING\n",
    "    return (pad_sequences(X, maxlen=max_story_len),pad_sequences(Xq, maxlen=max_question_len), np.array(Y))"
   ]
  },
  {
   "cell_type": "code",
   "execution_count": 34,
   "metadata": {},
   "outputs": [],
   "source": [
    "inputs_train, queries_train, answers_train = vectorize_stories(train_data)"
   ]
  },
  {
   "cell_type": "code",
   "execution_count": 35,
   "metadata": {},
   "outputs": [],
   "source": [
    "inputs_test, queries_test, answers_test = vectorize_stories(test_data)"
   ]
  },
  {
   "cell_type": "code",
   "execution_count": 36,
   "metadata": {},
   "outputs": [
    {
     "data": {
      "text/plain": [
       "array([[ 0,  0,  0, ..., 15, 29, 17],\n",
       "       [ 0,  0,  0, ..., 15, 26, 17],\n",
       "       [ 0,  0,  0, ..., 15, 26, 17],\n",
       "       ...,\n",
       "       [ 0,  0,  0, ..., 15, 25, 17],\n",
       "       [ 0,  0,  0, ..., 15, 26, 17],\n",
       "       [ 0,  0,  0, ..., 25, 31, 17]])"
      ]
     },
     "execution_count": 36,
     "metadata": {},
     "output_type": "execute_result"
    }
   ],
   "source": [
    "inputs_test"
   ]
  },
  {
   "cell_type": "code",
   "execution_count": 37,
   "metadata": {},
   "outputs": [
    {
     "data": {
      "text/plain": [
       "array([[10, 13, 34, 15,  2, 24],\n",
       "       [10, 13, 34, 15,  2, 24],\n",
       "       [10, 13, 34, 15, 26, 24],\n",
       "       ...,\n",
       "       [10, 27, 34, 15, 29, 24],\n",
       "       [10, 12, 34, 15, 26, 24],\n",
       "       [10, 27, 34, 15, 26, 24]])"
      ]
     },
     "execution_count": 37,
     "metadata": {},
     "output_type": "execute_result"
    }
   ],
   "source": [
    "queries_test"
   ]
  },
  {
   "cell_type": "code",
   "execution_count": 38,
   "metadata": {},
   "outputs": [
    {
     "data": {
      "text/plain": [
       "array([[0., 0., 0., ..., 0., 0., 0.],\n",
       "       [0., 0., 0., ..., 0., 0., 0.],\n",
       "       [0., 0., 0., ..., 0., 0., 0.],\n",
       "       ...,\n",
       "       [0., 0., 0., ..., 0., 0., 0.],\n",
       "       [0., 0., 0., ..., 0., 0., 0.],\n",
       "       [0., 0., 0., ..., 0., 0., 0.]])"
      ]
     },
     "execution_count": 38,
     "metadata": {},
     "output_type": "execute_result"
    }
   ],
   "source": [
    "answers_test"
   ]
  },
  {
   "cell_type": "code",
   "execution_count": 39,
   "metadata": {},
   "outputs": [
    {
     "data": {
      "text/plain": [
       "array([  0.,   0.,   0.,   0.,   0.,   0.,   0.,   0.,   0.,   0.,   0.,\n",
       "         0.,   0.,   0.,   0.,   0.,   0.,   0., 503.,   0.,   0.,   0.,\n",
       "         0.,   0.,   0.,   0.,   0.,   0.,   0.,   0., 497.,   0.,   0.,\n",
       "         0.,   0.,   0.,   0.,   0.])"
      ]
     },
     "execution_count": 39,
     "metadata": {},
     "output_type": "execute_result"
    }
   ],
   "source": [
    "sum(answers_test)"
   ]
  },
  {
   "cell_type": "code",
   "execution_count": 40,
   "metadata": {},
   "outputs": [
    {
     "data": {
      "text/plain": [
       "30"
      ]
     },
     "execution_count": 40,
     "metadata": {},
     "output_type": "execute_result"
    }
   ],
   "source": [
    "tokenizer.word_index['yes']"
   ]
  },
  {
   "cell_type": "code",
   "execution_count": 41,
   "metadata": {},
   "outputs": [
    {
     "data": {
      "text/plain": [
       "18"
      ]
     },
     "execution_count": 41,
     "metadata": {},
     "output_type": "execute_result"
    }
   ],
   "source": [
    "tokenizer.word_index['no']"
   ]
  },
  {
   "cell_type": "markdown",
   "metadata": {},
   "source": [
    "## Création du modèle"
   ]
  },
  {
   "cell_type": "code",
   "execution_count": 42,
   "metadata": {},
   "outputs": [],
   "source": [
    "from keras.layers import Embedding, Input, Activation, Dense, Permute, Dropout, add, dot, concatenate, LSTM\n",
    "from keras.models import Sequential, Model"
   ]
  },
  {
   "cell_type": "markdown",
   "metadata": {},
   "source": [
    "### Placeholders pour les Inputs\n",
    "\n",
    "Rappelons que nous avons techniquement deux entrées, les histoires et les questions. Nous avons donc besoin d'utiliser des placeholders. `Input()` est utilisé pour instancier un tenseur Keras.\n"
   ]
  },
  {
   "cell_type": "code",
   "execution_count": 43,
   "metadata": {},
   "outputs": [],
   "source": [
    "input_sequence = Input((max_story_len,))\n",
    "question = Input((max_question_len,))"
   ]
  },
  {
   "cell_type": "markdown",
   "metadata": {
    "collapsed": true
   },
   "source": [
    "### Building the Networks\n",
    "\n",
    "Pour comprendre pourquoi nous avons choisi cette configuration, lisez le document que nous utilisons :\n",
    "\n",
    "* Sainbayar Sukhbaatar, Arthur Szlam, Jason Weston, Rob Fergus,\n",
    "  \"End-To-End Memory Networks\",\n",
    "  http://arxiv.org/abs/1503.08895"
   ]
  },
  {
   "cell_type": "markdown",
   "metadata": {},
   "source": [
    "## Encoders\n",
    "\n",
    "### Input Encoder m"
   ]
  },
  {
   "cell_type": "code",
   "execution_count": 44,
   "metadata": {},
   "outputs": [],
   "source": [
    "# Input gets embedded to a sequence of vectors\n",
    "input_encoder_m = Sequential()\n",
    "input_encoder_m.add(Embedding(input_dim=vocab_size,output_dim=64))\n",
    "input_encoder_m.add(Dropout(0.3))\n",
    "\n",
    "# This encoder will output:\n",
    "# (samples, story_maxlen, embedding_dim)"
   ]
  },
  {
   "cell_type": "markdown",
   "metadata": {},
   "source": [
    "### Input Encoder c"
   ]
  },
  {
   "cell_type": "code",
   "execution_count": 45,
   "metadata": {},
   "outputs": [],
   "source": [
    "# embed the input into a sequence of vectors of size query_maxlen\n",
    "input_encoder_c = Sequential()\n",
    "input_encoder_c.add(Embedding(input_dim=vocab_size,output_dim=max_question_len))\n",
    "input_encoder_c.add(Dropout(0.3))\n",
    "# output: (samples, story_maxlen, query_maxlen)"
   ]
  },
  {
   "cell_type": "markdown",
   "metadata": {},
   "source": [
    "### Question Encoder"
   ]
  },
  {
   "cell_type": "code",
   "execution_count": 46,
   "metadata": {},
   "outputs": [],
   "source": [
    "# embed the question into a sequence of vectors\n",
    "question_encoder = Sequential()\n",
    "question_encoder.add(Embedding(input_dim=vocab_size,\n",
    "                               output_dim=64,\n",
    "                               input_length=max_question_len))\n",
    "question_encoder.add(Dropout(0.3))\n",
    "# output: (samples, query_maxlen, embedding_dim)"
   ]
  },
  {
   "cell_type": "markdown",
   "metadata": {},
   "source": [
    "### Encode the Sequences"
   ]
  },
  {
   "cell_type": "code",
   "execution_count": 47,
   "metadata": {},
   "outputs": [],
   "source": [
    "# encode input sequence and questions (which are indices)\n",
    "# to sequences of dense vectors\n",
    "input_encoded_m = input_encoder_m(input_sequence)\n",
    "input_encoded_c = input_encoder_c(input_sequence)\n",
    "question_encoded = question_encoder(question)"
   ]
  },
  {
   "cell_type": "markdown",
   "metadata": {},
   "source": [
    "##### Utiliser le produit (dot) pour calculer la correspondance entre le premier vecteur d'entrée seq et la requête."
   ]
  },
  {
   "cell_type": "code",
   "execution_count": 48,
   "metadata": {},
   "outputs": [],
   "source": [
    "# shape: `(samples, story_maxlen, query_maxlen)`\n",
    "match = dot([input_encoded_m, question_encoded], axes=(2, 2))\n",
    "match = Activation('softmax')(match)"
   ]
  },
  {
   "cell_type": "markdown",
   "metadata": {},
   "source": [
    "#### Ajouter cette matrice de correspondance à la deuxième séquence de vecteurs d'entrée"
   ]
  },
  {
   "cell_type": "code",
   "execution_count": 49,
   "metadata": {},
   "outputs": [],
   "source": [
    "# add the match matrix with the second input vector sequence\n",
    "response = add([match, input_encoded_c])  # (samples, story_maxlen, query_maxlen)\n",
    "response = Permute((2, 1))(response)  # (samples, query_maxlen, story_maxlen)"
   ]
  },
  {
   "cell_type": "markdown",
   "metadata": {},
   "source": [
    "#### Concatener"
   ]
  },
  {
   "cell_type": "code",
   "execution_count": 50,
   "metadata": {},
   "outputs": [],
   "source": [
    "# concatenate the match matrix with the question vector sequence\n",
    "answer = concatenate([response, question_encoded])"
   ]
  },
  {
   "cell_type": "code",
   "execution_count": 51,
   "metadata": {},
   "outputs": [
    {
     "data": {
      "text/plain": [
       "<KerasTensor: shape=(None, 6, 220) dtype=float32 (created by layer 'concatenate')>"
      ]
     },
     "execution_count": 51,
     "metadata": {},
     "output_type": "execute_result"
    }
   ],
   "source": [
    "answer"
   ]
  },
  {
   "cell_type": "code",
   "execution_count": 52,
   "metadata": {},
   "outputs": [],
   "source": [
    "# Reduce with RNN (LSTM)\n",
    "answer = LSTM(32)(answer)  # (samples, 32)"
   ]
  },
  {
   "cell_type": "code",
   "execution_count": 53,
   "metadata": {},
   "outputs": [],
   "source": [
    "# Regularization with Dropout\n",
    "answer = Dropout(0.5)(answer)\n",
    "answer = Dense(vocab_size)(answer)  # (samples, vocab_size)"
   ]
  },
  {
   "cell_type": "code",
   "execution_count": 54,
   "metadata": {},
   "outputs": [],
   "source": [
    "# we output a probability distribution over the vocabulary\n",
    "answer = Activation('softmax')(answer)\n",
    "\n",
    "# build the final model\n",
    "model = Model([input_sequence, question], answer)\n",
    "model.compile(optimizer='rmsprop', loss='categorical_crossentropy',\n",
    "              metrics=['accuracy'])"
   ]
  },
  {
   "cell_type": "code",
   "execution_count": 55,
   "metadata": {},
   "outputs": [
    {
     "name": "stdout",
     "output_type": "stream",
     "text": [
      "Model: \"model\"\n",
      "__________________________________________________________________________________________________\n",
      " Layer (type)                   Output Shape         Param #     Connected to                     \n",
      "==================================================================================================\n",
      " input_1 (InputLayer)           [(None, 156)]        0           []                               \n",
      "                                                                                                  \n",
      " input_2 (InputLayer)           [(None, 6)]          0           []                               \n",
      "                                                                                                  \n",
      " sequential (Sequential)        (None, None, 64)     2432        ['input_1[0][0]']                \n",
      "                                                                                                  \n",
      " sequential_2 (Sequential)      (None, 6, 64)        2432        ['input_2[0][0]']                \n",
      "                                                                                                  \n",
      " dot (Dot)                      (None, 156, 6)       0           ['sequential[0][0]',             \n",
      "                                                                  'sequential_2[0][0]']           \n",
      "                                                                                                  \n",
      " activation (Activation)        (None, 156, 6)       0           ['dot[0][0]']                    \n",
      "                                                                                                  \n",
      " sequential_1 (Sequential)      (None, None, 6)      228         ['input_1[0][0]']                \n",
      "                                                                                                  \n",
      " add (Add)                      (None, 156, 6)       0           ['activation[0][0]',             \n",
      "                                                                  'sequential_1[0][0]']           \n",
      "                                                                                                  \n",
      " permute (Permute)              (None, 6, 156)       0           ['add[0][0]']                    \n",
      "                                                                                                  \n",
      " concatenate (Concatenate)      (None, 6, 220)       0           ['permute[0][0]',                \n",
      "                                                                  'sequential_2[0][0]']           \n",
      "                                                                                                  \n",
      " lstm (LSTM)                    (None, 32)           32384       ['concatenate[0][0]']            \n",
      "                                                                                                  \n",
      " dropout_3 (Dropout)            (None, 32)           0           ['lstm[0][0]']                   \n",
      "                                                                                                  \n",
      " dense (Dense)                  (None, 38)           1254        ['dropout_3[0][0]']              \n",
      "                                                                                                  \n",
      " activation_1 (Activation)      (None, 38)           0           ['dense[0][0]']                  \n",
      "                                                                                                  \n",
      "==================================================================================================\n",
      "Total params: 38,730\n",
      "Trainable params: 38,730\n",
      "Non-trainable params: 0\n",
      "__________________________________________________________________________________________________\n"
     ]
    }
   ],
   "source": [
    "model.summary()"
   ]
  },
  {
   "cell_type": "code",
   "execution_count": 56,
   "metadata": {},
   "outputs": [
    {
     "name": "stdout",
     "output_type": "stream",
     "text": [
      "Epoch 1/120\n",
      "313/313 [==============================] - 4s 8ms/step - loss: 0.9427 - accuracy: 0.4896 - val_loss: 0.6951 - val_accuracy: 0.5030\n",
      "Epoch 2/120\n",
      "313/313 [==============================] - 2s 7ms/step - loss: 0.7054 - accuracy: 0.5022 - val_loss: 0.6936 - val_accuracy: 0.5030\n",
      "Epoch 3/120\n",
      "313/313 [==============================] - 2s 7ms/step - loss: 0.6970 - accuracy: 0.5000 - val_loss: 0.6938 - val_accuracy: 0.4970\n",
      "Epoch 4/120\n",
      "313/313 [==============================] - 2s 7ms/step - loss: 0.6954 - accuracy: 0.4948 - val_loss: 0.6931 - val_accuracy: 0.5030\n",
      "Epoch 5/120\n",
      "313/313 [==============================] - 2s 6ms/step - loss: 0.6950 - accuracy: 0.4930 - val_loss: 0.6933 - val_accuracy: 0.5030\n",
      "Epoch 6/120\n",
      "313/313 [==============================] - 2s 8ms/step - loss: 0.6945 - accuracy: 0.4927 - val_loss: 0.6935 - val_accuracy: 0.4970\n",
      "Epoch 7/120\n",
      "313/313 [==============================] - 2s 7ms/step - loss: 0.6948 - accuracy: 0.4921 - val_loss: 0.6941 - val_accuracy: 0.5030\n",
      "Epoch 8/120\n",
      "313/313 [==============================] - 2s 7ms/step - loss: 0.6948 - accuracy: 0.4955 - val_loss: 0.6933 - val_accuracy: 0.5030\n",
      "Epoch 9/120\n",
      "313/313 [==============================] - 2s 7ms/step - loss: 0.6944 - accuracy: 0.4960 - val_loss: 0.6934 - val_accuracy: 0.4970\n",
      "Epoch 10/120\n",
      "313/313 [==============================] - 2s 7ms/step - loss: 0.6943 - accuracy: 0.4995 - val_loss: 0.6934 - val_accuracy: 0.5030\n",
      "Epoch 11/120\n",
      "313/313 [==============================] - 2s 6ms/step - loss: 0.6944 - accuracy: 0.4926 - val_loss: 0.6935 - val_accuracy: 0.4790\n",
      "Epoch 12/120\n",
      "313/313 [==============================] - 2s 7ms/step - loss: 0.6940 - accuracy: 0.5028 - val_loss: 0.6945 - val_accuracy: 0.4970\n",
      "Epoch 13/120\n",
      "313/313 [==============================] - 2s 7ms/step - loss: 0.6931 - accuracy: 0.5187 - val_loss: 0.6940 - val_accuracy: 0.4760\n",
      "Epoch 14/120\n",
      "313/313 [==============================] - 2s 7ms/step - loss: 0.6922 - accuracy: 0.5184 - val_loss: 0.6930 - val_accuracy: 0.5200\n",
      "Epoch 15/120\n",
      "313/313 [==============================] - 2s 7ms/step - loss: 0.6762 - accuracy: 0.5692 - val_loss: 0.6488 - val_accuracy: 0.6300\n",
      "Epoch 16/120\n",
      "313/313 [==============================] - 2s 7ms/step - loss: 0.6346 - accuracy: 0.6457 - val_loss: 0.6178 - val_accuracy: 0.6610\n",
      "Epoch 17/120\n",
      "313/313 [==============================] - 2s 7ms/step - loss: 0.6198 - accuracy: 0.6582 - val_loss: 0.5997 - val_accuracy: 0.6880\n",
      "Epoch 18/120\n",
      "313/313 [==============================] - 2s 7ms/step - loss: 0.6047 - accuracy: 0.6770 - val_loss: 0.5797 - val_accuracy: 0.6960\n",
      "Epoch 19/120\n",
      "313/313 [==============================] - 2s 6ms/step - loss: 0.5825 - accuracy: 0.6942 - val_loss: 0.5444 - val_accuracy: 0.7320\n",
      "Epoch 20/120\n",
      "313/313 [==============================] - 2s 6ms/step - loss: 0.5555 - accuracy: 0.7164 - val_loss: 0.5203 - val_accuracy: 0.7490\n",
      "Epoch 21/120\n",
      "313/313 [==============================] - 2s 7ms/step - loss: 0.5329 - accuracy: 0.7362 - val_loss: 0.5063 - val_accuracy: 0.7660\n",
      "Epoch 22/120\n",
      "313/313 [==============================] - 2s 7ms/step - loss: 0.5114 - accuracy: 0.7518 - val_loss: 0.4911 - val_accuracy: 0.7680\n",
      "Epoch 23/120\n",
      "313/313 [==============================] - 2s 7ms/step - loss: 0.4957 - accuracy: 0.7680 - val_loss: 0.4999 - val_accuracy: 0.7710\n",
      "Epoch 24/120\n",
      "313/313 [==============================] - 2s 7ms/step - loss: 0.4859 - accuracy: 0.7800 - val_loss: 0.4565 - val_accuracy: 0.7920\n",
      "Epoch 25/120\n",
      "313/313 [==============================] - 2s 7ms/step - loss: 0.4593 - accuracy: 0.7944 - val_loss: 0.4370 - val_accuracy: 0.7940\n",
      "Epoch 26/120\n",
      "313/313 [==============================] - 2s 7ms/step - loss: 0.4448 - accuracy: 0.8064 - val_loss: 0.4372 - val_accuracy: 0.7970\n",
      "Epoch 27/120\n",
      "313/313 [==============================] - 2s 7ms/step - loss: 0.4290 - accuracy: 0.8190 - val_loss: 0.4211 - val_accuracy: 0.8220\n",
      "Epoch 28/120\n",
      "313/313 [==============================] - 2s 7ms/step - loss: 0.4172 - accuracy: 0.8226 - val_loss: 0.4150 - val_accuracy: 0.8220\n",
      "Epoch 29/120\n",
      "313/313 [==============================] - 2s 7ms/step - loss: 0.4055 - accuracy: 0.8293 - val_loss: 0.4098 - val_accuracy: 0.8270\n",
      "Epoch 30/120\n",
      "313/313 [==============================] - 2s 6ms/step - loss: 0.3997 - accuracy: 0.8282 - val_loss: 0.4182 - val_accuracy: 0.8240\n",
      "Epoch 31/120\n",
      "313/313 [==============================] - 2s 7ms/step - loss: 0.3918 - accuracy: 0.8327 - val_loss: 0.4038 - val_accuracy: 0.8300\n",
      "Epoch 32/120\n",
      "313/313 [==============================] - 2s 7ms/step - loss: 0.3850 - accuracy: 0.8351 - val_loss: 0.4151 - val_accuracy: 0.8230\n",
      "Epoch 33/120\n",
      "313/313 [==============================] - 2s 7ms/step - loss: 0.3839 - accuracy: 0.8361 - val_loss: 0.3908 - val_accuracy: 0.8330\n",
      "Epoch 34/120\n",
      "313/313 [==============================] - 3s 11ms/step - loss: 0.3756 - accuracy: 0.8397 - val_loss: 0.3943 - val_accuracy: 0.8290\n",
      "Epoch 35/120\n",
      "313/313 [==============================] - 2s 7ms/step - loss: 0.3696 - accuracy: 0.8446 - val_loss: 0.3866 - val_accuracy: 0.8340\n",
      "Epoch 36/120\n",
      "313/313 [==============================] - 2s 6ms/step - loss: 0.3614 - accuracy: 0.8480 - val_loss: 0.3806 - val_accuracy: 0.8360\n",
      "Epoch 37/120\n",
      "313/313 [==============================] - 2s 6ms/step - loss: 0.3617 - accuracy: 0.8432 - val_loss: 0.3816 - val_accuracy: 0.8320\n",
      "Epoch 38/120\n",
      "313/313 [==============================] - 2s 6ms/step - loss: 0.3539 - accuracy: 0.8478 - val_loss: 0.3861 - val_accuracy: 0.8340\n",
      "Epoch 39/120\n",
      "313/313 [==============================] - 2s 7ms/step - loss: 0.3601 - accuracy: 0.8457 - val_loss: 0.3810 - val_accuracy: 0.8290\n",
      "Epoch 40/120\n",
      "313/313 [==============================] - 2s 6ms/step - loss: 0.3521 - accuracy: 0.8501 - val_loss: 0.3848 - val_accuracy: 0.8360\n",
      "Epoch 41/120\n",
      "313/313 [==============================] - 2s 6ms/step - loss: 0.3464 - accuracy: 0.8506 - val_loss: 0.4029 - val_accuracy: 0.8310\n",
      "Epoch 42/120\n",
      "313/313 [==============================] - 2s 7ms/step - loss: 0.3456 - accuracy: 0.8529 - val_loss: 0.3735 - val_accuracy: 0.8330\n",
      "Epoch 43/120\n",
      "313/313 [==============================] - 2s 6ms/step - loss: 0.3420 - accuracy: 0.8530 - val_loss: 0.3726 - val_accuracy: 0.8350\n",
      "Epoch 44/120\n",
      "313/313 [==============================] - 2s 6ms/step - loss: 0.3400 - accuracy: 0.8554 - val_loss: 0.3811 - val_accuracy: 0.8320\n",
      "Epoch 45/120\n",
      "313/313 [==============================] - 2s 6ms/step - loss: 0.3375 - accuracy: 0.8591 - val_loss: 0.3960 - val_accuracy: 0.8330\n",
      "Epoch 46/120\n",
      "313/313 [==============================] - 2s 7ms/step - loss: 0.3367 - accuracy: 0.8551 - val_loss: 0.3878 - val_accuracy: 0.8240\n",
      "Epoch 47/120\n",
      "313/313 [==============================] - 2s 7ms/step - loss: 0.3336 - accuracy: 0.8576 - val_loss: 0.3740 - val_accuracy: 0.8320\n",
      "Epoch 48/120\n",
      "313/313 [==============================] - 2s 6ms/step - loss: 0.3309 - accuracy: 0.8604 - val_loss: 0.3841 - val_accuracy: 0.8220\n",
      "Epoch 49/120\n",
      "313/313 [==============================] - 2s 6ms/step - loss: 0.3306 - accuracy: 0.8565 - val_loss: 0.3960 - val_accuracy: 0.8270\n",
      "Epoch 50/120\n",
      "313/313 [==============================] - 2s 7ms/step - loss: 0.3326 - accuracy: 0.8534 - val_loss: 0.3803 - val_accuracy: 0.8320\n",
      "Epoch 51/120\n",
      "313/313 [==============================] - 2s 6ms/step - loss: 0.3276 - accuracy: 0.8613 - val_loss: 0.3711 - val_accuracy: 0.8350\n",
      "Epoch 52/120\n",
      "313/313 [==============================] - 2s 6ms/step - loss: 0.3272 - accuracy: 0.8595 - val_loss: 0.3828 - val_accuracy: 0.8310\n",
      "Epoch 53/120\n",
      "313/313 [==============================] - 2s 6ms/step - loss: 0.3259 - accuracy: 0.8641 - val_loss: 0.4173 - val_accuracy: 0.8110\n",
      "Epoch 54/120\n",
      "313/313 [==============================] - 2s 7ms/step - loss: 0.3242 - accuracy: 0.8634 - val_loss: 0.3710 - val_accuracy: 0.8390\n",
      "Epoch 55/120\n",
      "313/313 [==============================] - 2s 7ms/step - loss: 0.3187 - accuracy: 0.8610 - val_loss: 0.3609 - val_accuracy: 0.8310\n",
      "Epoch 56/120\n",
      "313/313 [==============================] - 2s 6ms/step - loss: 0.3174 - accuracy: 0.8646 - val_loss: 0.3794 - val_accuracy: 0.8370\n",
      "Epoch 57/120\n",
      "313/313 [==============================] - 2s 6ms/step - loss: 0.3195 - accuracy: 0.8637 - val_loss: 0.3796 - val_accuracy: 0.8200\n",
      "Epoch 58/120\n",
      "313/313 [==============================] - 2s 7ms/step - loss: 0.3171 - accuracy: 0.8623 - val_loss: 0.3895 - val_accuracy: 0.8300\n",
      "Epoch 59/120\n",
      "313/313 [==============================] - 2s 7ms/step - loss: 0.3155 - accuracy: 0.8663 - val_loss: 0.3817 - val_accuracy: 0.8390\n",
      "Epoch 60/120\n",
      "313/313 [==============================] - 2s 7ms/step - loss: 0.3128 - accuracy: 0.8662 - val_loss: 0.3869 - val_accuracy: 0.8350\n",
      "Epoch 61/120\n",
      "313/313 [==============================] - 2s 7ms/step - loss: 0.3105 - accuracy: 0.8663 - val_loss: 0.3905 - val_accuracy: 0.8290\n",
      "Epoch 62/120\n",
      "313/313 [==============================] - 2s 7ms/step - loss: 0.3091 - accuracy: 0.8698 - val_loss: 0.3873 - val_accuracy: 0.8260\n",
      "Epoch 63/120\n",
      "313/313 [==============================] - 2s 7ms/step - loss: 0.3132 - accuracy: 0.8695 - val_loss: 0.3830 - val_accuracy: 0.8280\n",
      "Epoch 64/120\n",
      "313/313 [==============================] - 2s 7ms/step - loss: 0.3044 - accuracy: 0.8662 - val_loss: 0.3897 - val_accuracy: 0.8300\n",
      "Epoch 65/120\n",
      "313/313 [==============================] - 2s 7ms/step - loss: 0.3008 - accuracy: 0.8733 - val_loss: 0.3798 - val_accuracy: 0.8310\n",
      "Epoch 66/120\n",
      "313/313 [==============================] - 2s 7ms/step - loss: 0.3073 - accuracy: 0.8645 - val_loss: 0.3847 - val_accuracy: 0.8350\n",
      "Epoch 67/120\n",
      "313/313 [==============================] - 2s 7ms/step - loss: 0.3045 - accuracy: 0.8682 - val_loss: 0.3898 - val_accuracy: 0.8370\n",
      "Epoch 68/120\n",
      "313/313 [==============================] - 2s 7ms/step - loss: 0.3001 - accuracy: 0.8711 - val_loss: 0.4377 - val_accuracy: 0.8330\n",
      "Epoch 69/120\n",
      "313/313 [==============================] - 2s 7ms/step - loss: 0.2988 - accuracy: 0.8718 - val_loss: 0.3815 - val_accuracy: 0.8310\n",
      "Epoch 70/120\n",
      "313/313 [==============================] - 2s 7ms/step - loss: 0.2977 - accuracy: 0.8715 - val_loss: 0.3925 - val_accuracy: 0.8400\n",
      "Epoch 71/120\n",
      "313/313 [==============================] - 2s 7ms/step - loss: 0.2929 - accuracy: 0.8760 - val_loss: 0.3942 - val_accuracy: 0.8320\n",
      "Epoch 72/120\n",
      "313/313 [==============================] - 2s 7ms/step - loss: 0.2949 - accuracy: 0.8769 - val_loss: 0.4061 - val_accuracy: 0.8360\n",
      "Epoch 73/120\n",
      "313/313 [==============================] - 2s 7ms/step - loss: 0.2944 - accuracy: 0.8737 - val_loss: 0.3863 - val_accuracy: 0.8330\n",
      "Epoch 74/120\n",
      "313/313 [==============================] - 2s 7ms/step - loss: 0.2975 - accuracy: 0.8741 - val_loss: 0.4017 - val_accuracy: 0.8340\n",
      "Epoch 75/120\n",
      "313/313 [==============================] - 2s 7ms/step - loss: 0.2907 - accuracy: 0.8738 - val_loss: 0.4174 - val_accuracy: 0.8350\n",
      "Epoch 76/120\n",
      "313/313 [==============================] - 2s 7ms/step - loss: 0.2898 - accuracy: 0.8752 - val_loss: 0.4167 - val_accuracy: 0.8360\n",
      "Epoch 77/120\n",
      "313/313 [==============================] - 2s 7ms/step - loss: 0.2912 - accuracy: 0.8760 - val_loss: 0.4609 - val_accuracy: 0.8220\n",
      "Epoch 78/120\n",
      "313/313 [==============================] - 2s 7ms/step - loss: 0.2841 - accuracy: 0.8762 - val_loss: 0.4246 - val_accuracy: 0.8280\n",
      "Epoch 79/120\n",
      "313/313 [==============================] - 2s 7ms/step - loss: 0.2874 - accuracy: 0.8785 - val_loss: 0.4171 - val_accuracy: 0.8330\n",
      "Epoch 80/120\n",
      "313/313 [==============================] - 2s 7ms/step - loss: 0.2848 - accuracy: 0.8806 - val_loss: 0.4143 - val_accuracy: 0.8440\n",
      "Epoch 81/120\n",
      "313/313 [==============================] - 2s 7ms/step - loss: 0.2833 - accuracy: 0.8807 - val_loss: 0.4417 - val_accuracy: 0.8230\n",
      "Epoch 82/120\n",
      "313/313 [==============================] - 2s 7ms/step - loss: 0.2851 - accuracy: 0.8789 - val_loss: 0.4254 - val_accuracy: 0.8270\n",
      "Epoch 83/120\n",
      "313/313 [==============================] - 2s 7ms/step - loss: 0.2848 - accuracy: 0.8765 - val_loss: 0.4322 - val_accuracy: 0.8240\n",
      "Epoch 84/120\n",
      "313/313 [==============================] - 2s 7ms/step - loss: 0.2828 - accuracy: 0.8811 - val_loss: 0.4243 - val_accuracy: 0.8350\n",
      "Epoch 85/120\n",
      "313/313 [==============================] - 2s 7ms/step - loss: 0.2739 - accuracy: 0.8863 - val_loss: 0.4309 - val_accuracy: 0.8350\n",
      "Epoch 86/120\n",
      "313/313 [==============================] - 2s 7ms/step - loss: 0.2766 - accuracy: 0.8830 - val_loss: 0.4043 - val_accuracy: 0.8290\n",
      "Epoch 87/120\n",
      "313/313 [==============================] - 2s 7ms/step - loss: 0.2817 - accuracy: 0.8820 - val_loss: 0.4349 - val_accuracy: 0.8350\n",
      "Epoch 88/120\n",
      "313/313 [==============================] - 2s 7ms/step - loss: 0.2680 - accuracy: 0.8864 - val_loss: 0.4337 - val_accuracy: 0.8370\n",
      "Epoch 89/120\n",
      "313/313 [==============================] - 2s 7ms/step - loss: 0.2770 - accuracy: 0.8807 - val_loss: 0.4255 - val_accuracy: 0.8400\n",
      "Epoch 90/120\n",
      "313/313 [==============================] - 2s 7ms/step - loss: 0.2773 - accuracy: 0.8818 - val_loss: 0.4079 - val_accuracy: 0.8420\n",
      "Epoch 91/120\n",
      "313/313 [==============================] - 2s 7ms/step - loss: 0.2731 - accuracy: 0.8831 - val_loss: 0.4398 - val_accuracy: 0.8250\n",
      "Epoch 92/120\n",
      "313/313 [==============================] - 2s 7ms/step - loss: 0.2709 - accuracy: 0.8867 - val_loss: 0.4128 - val_accuracy: 0.8380\n",
      "Epoch 93/120\n",
      "313/313 [==============================] - 2s 7ms/step - loss: 0.2647 - accuracy: 0.8886 - val_loss: 0.4476 - val_accuracy: 0.8330\n",
      "Epoch 94/120\n",
      "313/313 [==============================] - 2s 7ms/step - loss: 0.2652 - accuracy: 0.8885 - val_loss: 0.4668 - val_accuracy: 0.8310\n",
      "Epoch 95/120\n",
      "313/313 [==============================] - 2s 7ms/step - loss: 0.2634 - accuracy: 0.8922 - val_loss: 0.4634 - val_accuracy: 0.8160\n",
      "Epoch 96/120\n",
      "313/313 [==============================] - 2s 7ms/step - loss: 0.2642 - accuracy: 0.8883 - val_loss: 0.4369 - val_accuracy: 0.8280\n",
      "Epoch 97/120\n",
      "313/313 [==============================] - 2s 7ms/step - loss: 0.2584 - accuracy: 0.8925 - val_loss: 0.4493 - val_accuracy: 0.8250\n",
      "Epoch 98/120\n",
      "313/313 [==============================] - 2s 7ms/step - loss: 0.2652 - accuracy: 0.8917 - val_loss: 0.4447 - val_accuracy: 0.8320\n",
      "Epoch 99/120\n",
      "313/313 [==============================] - 2s 7ms/step - loss: 0.2608 - accuracy: 0.8906 - val_loss: 0.4738 - val_accuracy: 0.8290\n",
      "Epoch 100/120\n",
      "313/313 [==============================] - 2s 7ms/step - loss: 0.2539 - accuracy: 0.8918 - val_loss: 0.4668 - val_accuracy: 0.8320\n",
      "Epoch 101/120\n",
      "313/313 [==============================] - 2s 7ms/step - loss: 0.2537 - accuracy: 0.8912 - val_loss: 0.4590 - val_accuracy: 0.8260\n",
      "Epoch 102/120\n",
      "313/313 [==============================] - 2s 7ms/step - loss: 0.2591 - accuracy: 0.8921 - val_loss: 0.4664 - val_accuracy: 0.8280\n",
      "Epoch 103/120\n",
      "313/313 [==============================] - 2s 7ms/step - loss: 0.2532 - accuracy: 0.8936 - val_loss: 0.4735 - val_accuracy: 0.8300\n",
      "Epoch 104/120\n",
      "313/313 [==============================] - 2s 7ms/step - loss: 0.2530 - accuracy: 0.8938 - val_loss: 0.4698 - val_accuracy: 0.8320\n",
      "Epoch 105/120\n",
      "313/313 [==============================] - 2s 7ms/step - loss: 0.2607 - accuracy: 0.8918 - val_loss: 0.4572 - val_accuracy: 0.8280\n",
      "Epoch 106/120\n",
      "313/313 [==============================] - 2s 7ms/step - loss: 0.2507 - accuracy: 0.8955 - val_loss: 0.4780 - val_accuracy: 0.8220\n",
      "Epoch 107/120\n",
      "313/313 [==============================] - 2s 7ms/step - loss: 0.2474 - accuracy: 0.8980 - val_loss: 0.4622 - val_accuracy: 0.8310\n",
      "Epoch 108/120\n",
      "313/313 [==============================] - 2s 7ms/step - loss: 0.2521 - accuracy: 0.8951 - val_loss: 0.4910 - val_accuracy: 0.8300\n",
      "Epoch 109/120\n",
      "313/313 [==============================] - 2s 7ms/step - loss: 0.2495 - accuracy: 0.8948 - val_loss: 0.5404 - val_accuracy: 0.8160\n",
      "Epoch 110/120\n",
      "313/313 [==============================] - 2s 7ms/step - loss: 0.2487 - accuracy: 0.8936 - val_loss: 0.4941 - val_accuracy: 0.8260\n",
      "Epoch 111/120\n",
      "313/313 [==============================] - 2s 7ms/step - loss: 0.2464 - accuracy: 0.8962 - val_loss: 0.5088 - val_accuracy: 0.8280\n",
      "Epoch 112/120\n",
      "313/313 [==============================] - 2s 7ms/step - loss: 0.2453 - accuracy: 0.8994 - val_loss: 0.4706 - val_accuracy: 0.8340\n",
      "Epoch 113/120\n",
      "313/313 [==============================] - 2s 7ms/step - loss: 0.2463 - accuracy: 0.8987 - val_loss: 0.4827 - val_accuracy: 0.8260\n",
      "Epoch 114/120\n",
      "313/313 [==============================] - 2s 7ms/step - loss: 0.2409 - accuracy: 0.8985 - val_loss: 0.5060 - val_accuracy: 0.8270\n",
      "Epoch 115/120\n",
      "313/313 [==============================] - 2s 7ms/step - loss: 0.2434 - accuracy: 0.9004 - val_loss: 0.4557 - val_accuracy: 0.8260\n",
      "Epoch 116/120\n",
      "313/313 [==============================] - 2s 7ms/step - loss: 0.2450 - accuracy: 0.8985 - val_loss: 0.5038 - val_accuracy: 0.8270\n",
      "Epoch 117/120\n",
      "313/313 [==============================] - 2s 7ms/step - loss: 0.2406 - accuracy: 0.8997 - val_loss: 0.4945 - val_accuracy: 0.8290\n",
      "Epoch 118/120\n",
      "313/313 [==============================] - 2s 7ms/step - loss: 0.2443 - accuracy: 0.8991 - val_loss: 0.4811 - val_accuracy: 0.8330\n",
      "Epoch 119/120\n",
      "313/313 [==============================] - 2s 7ms/step - loss: 0.2405 - accuracy: 0.9019 - val_loss: 0.4903 - val_accuracy: 0.8300\n",
      "Epoch 120/120\n",
      "313/313 [==============================] - 2s 7ms/step - loss: 0.2409 - accuracy: 0.8993 - val_loss: 0.5105 - val_accuracy: 0.8220\n"
     ]
    }
   ],
   "source": [
    "# train\n",
    "history = model.fit([inputs_train, queries_train], answers_train,batch_size=32,epochs=120,validation_data=([inputs_test, queries_test], answers_test))"
   ]
  },
  {
   "cell_type": "markdown",
   "metadata": {},
   "source": [
    "### Sauvegarder le Modèle"
   ]
  },
  {
   "cell_type": "code",
   "execution_count": 62,
   "metadata": {},
   "outputs": [],
   "source": [
    "filename = 'chatbot_120_epochs.h5'\n",
    "model.save(filename)"
   ]
  },
  {
   "cell_type": "markdown",
   "metadata": {},
   "source": [
    "## Evaluer le Modèle\n",
    "\n",
    "### Tracer l'historique de l'entrainement"
   ]
  },
  {
   "cell_type": "code",
   "execution_count": 63,
   "metadata": {},
   "outputs": [
    {
     "data": {
      "text/plain": [
       "[0.4948999881744385,\n",
       " 0.5004000067710876,\n",
       " 0.4975000023841858,\n",
       " 0.5026000142097473,\n",
       " 0.5042999982833862,\n",
       " 0.49540001153945923,\n",
       " 0.4959999918937683,\n",
       " 0.5012999773025513,\n",
       " 0.49959999322891235,\n",
       " 0.498199999332428,\n",
       " 0.5074999928474426,\n",
       " 0.5245000123977661,\n",
       " 0.5400999784469604,\n",
       " 0.5950999855995178,\n",
       " 0.6328999996185303,\n",
       " 0.661899983882904,\n",
       " 0.6877999901771545,\n",
       " 0.7132999897003174,\n",
       " 0.7257000207901001,\n",
       " 0.7412999868392944,\n",
       " 0.7455999851226807,\n",
       " 0.753600001335144,\n",
       " 0.7613999843597412,\n",
       " 0.766700029373169,\n",
       " 0.7695000171661377,\n",
       " 0.776199996471405,\n",
       " 0.782800018787384,\n",
       " 0.7954999804496765,\n",
       " 0.7910000085830688,\n",
       " 0.7961999773979187,\n",
       " 0.8066999912261963,\n",
       " 0.805400013923645,\n",
       " 0.8122000098228455,\n",
       " 0.8105000257492065,\n",
       " 0.8227999806404114,\n",
       " 0.8240000009536743,\n",
       " 0.8217999935150146,\n",
       " 0.8238000273704529,\n",
       " 0.8271999955177307,\n",
       " 0.8349999785423279,\n",
       " 0.833299994468689,\n",
       " 0.8363000154495239,\n",
       " 0.8391000032424927,\n",
       " 0.8393999934196472,\n",
       " 0.8432999849319458,\n",
       " 0.8422999978065491,\n",
       " 0.8442999720573425,\n",
       " 0.8490999937057495,\n",
       " 0.8533999919891357,\n",
       " 0.8525999784469604,\n",
       " 0.8564000129699707,\n",
       " 0.8544999957084656,\n",
       " 0.8550000190734863,\n",
       " 0.8518000245094299,\n",
       " 0.8597000241279602,\n",
       " 0.8616999983787537,\n",
       " 0.8641999959945679,\n",
       " 0.8626999855041504,\n",
       " 0.8658999800682068,\n",
       " 0.8689000010490417,\n",
       " 0.8676999807357788,\n",
       " 0.8647000193595886,\n",
       " 0.8686000108718872,\n",
       " 0.8718000054359436,\n",
       " 0.8687000274658203,\n",
       " 0.8708000183105469,\n",
       " 0.8729000091552734,\n",
       " 0.8676000237464905,\n",
       " 0.8791000247001648,\n",
       " 0.8745999932289124,\n",
       " 0.8772000074386597,\n",
       " 0.8745999932289124,\n",
       " 0.8792999982833862,\n",
       " 0.8761000037193298,\n",
       " 0.8804000020027161,\n",
       " 0.8823000192642212,\n",
       " 0.8823999762535095,\n",
       " 0.8838000297546387,\n",
       " 0.8823999762535095,\n",
       " 0.8866000175476074,\n",
       " 0.8855999708175659,\n",
       " 0.8881999850273132,\n",
       " 0.8895999789237976,\n",
       " 0.8888999819755554,\n",
       " 0.8859000205993652,\n",
       " 0.8910999894142151,\n",
       " 0.890999972820282,\n",
       " 0.8910999894142151,\n",
       " 0.8892999887466431,\n",
       " 0.8899000287055969,\n",
       " 0.8920000195503235,\n",
       " 0.8935999870300293,\n",
       " 0.8949999809265137,\n",
       " 0.8945000171661377,\n",
       " 0.8949999809265137,\n",
       " 0.8968999981880188,\n",
       " 0.9009000062942505,\n",
       " 0.8981000185012817,\n",
       " 0.8985999822616577,\n",
       " 0.8977000117301941,\n",
       " 0.9017999768257141,\n",
       " 0.9017000198364258,\n",
       " 0.9014000296592712,\n",
       " 0.9017999768257141,\n",
       " 0.9041000008583069,\n",
       " 0.9061999917030334,\n",
       " 0.9021000266075134,\n",
       " 0.9021999835968018,\n",
       " 0.9053999781608582,\n",
       " 0.9072999954223633,\n",
       " 0.9054999947547913,\n",
       " 0.9072999954223633,\n",
       " 0.9068999886512756,\n",
       " 0.9089000225067139,\n",
       " 0.9097999930381775,\n",
       " 0.9092000126838684,\n",
       " 0.9063000082969666,\n",
       " 0.9111999869346619,\n",
       " 0.9108999967575073,\n",
       " 0.9136999845504761]"
      ]
     },
     "execution_count": 63,
     "metadata": {},
     "output_type": "execute_result"
    }
   ],
   "source": [
    "history.history['accuracy']"
   ]
  },
  {
   "cell_type": "code",
   "execution_count": 64,
   "metadata": {},
   "outputs": [
    {
     "name": "stdout",
     "output_type": "stream",
     "text": [
      "dict_keys(['loss', 'accuracy', 'val_loss', 'val_accuracy'])\n"
     ]
    },
    {
     "data": {
      "image/png": "[encoded data removed]",
      "text/plain": [
       "<Figure size 640x480 with 1 Axes>"
      ]
     },
     "metadata": {},
     "output_type": "display_data"
    }
   ],
   "source": [
    "import matplotlib.pyplot as plt\n",
    "%matplotlib inline\n",
    "print(history.history.keys())\n",
    "# summarize history for accuracy\n",
    "plt.plot(history.history['accuracy'])\n",
    "plt.plot(history.history['val_accuracy'])\n",
    "plt.title('model accuracy')\n",
    "plt.ylabel('accuracy')\n",
    "plt.xlabel('epoch')\n",
    "plt.legend(['train', 'test'], loc='upper left')\n",
    "plt.show()"
   ]
  },
  {
   "cell_type": "markdown",
   "metadata": {},
   "source": [
    "### Evaluer sur un test set donné"
   ]
  },
  {
   "cell_type": "code",
   "execution_count": 65,
   "metadata": {},
   "outputs": [
    {
     "name": "stdout",
     "output_type": "stream",
     "text": [
      "32/32 [==============================] - 0s 2ms/step\n"
     ]
    }
   ],
   "source": [
    "model.load_weights(filename)\n",
    "pred_results = model.predict(([inputs_test, queries_test]))"
   ]
  },
  {
   "cell_type": "code",
   "execution_count": 66,
   "metadata": {},
   "outputs": [
    {
     "data": {
      "text/plain": [
       "['Mary',\n",
       " 'got',\n",
       " 'the',\n",
       " 'milk',\n",
       " 'there',\n",
       " '.',\n",
       " 'John',\n",
       " 'moved',\n",
       " 'to',\n",
       " 'the',\n",
       " 'bedroom',\n",
       " '.']"
      ]
     },
     "execution_count": 66,
     "metadata": {},
     "output_type": "execute_result"
    }
   ],
   "source": [
    "test_data[0][0]"
   ]
  },
  {
   "cell_type": "code",
   "execution_count": 67,
   "metadata": {},
   "outputs": [
    {
     "name": "stdout",
     "output_type": "stream",
     "text": [
      "Mary got the milk there . John moved to the bedroom .\n"
     ]
    }
   ],
   "source": [
    "story =' '.join(word for word in test_data[0][0])\n",
    "print(story)"
   ]
  },
  {
   "cell_type": "code",
   "execution_count": 68,
   "metadata": {},
   "outputs": [
    {
     "name": "stdout",
     "output_type": "stream",
     "text": [
      "Is John in the kitchen ?\n"
     ]
    }
   ],
   "source": [
    "query = ' '.join(word for word in test_data[0][1])\n",
    "print(query)"
   ]
  },
  {
   "cell_type": "code",
   "execution_count": 69,
   "metadata": {},
   "outputs": [
    {
     "name": "stdout",
     "output_type": "stream",
     "text": [
      "True Test Answer from Data is: no\n"
     ]
    }
   ],
   "source": [
    "print(\"True Test Answer from Data is:\",test_data[0][2])"
   ]
  },
  {
   "cell_type": "code",
   "execution_count": 70,
   "metadata": {},
   "outputs": [
    {
     "name": "stdout",
     "output_type": "stream",
     "text": [
      "Predicted answer is:  no\n",
      "Probability of certainty was:  0.9999527\n"
     ]
    }
   ],
   "source": [
    "#Generate prediction from model\n",
    "val_max = np.argmax(pred_results[0])\n",
    "\n",
    "for key, val in tokenizer.word_index.items():\n",
    "    if val == val_max:\n",
    "        k = key\n",
    "\n",
    "print(\"Predicted answer is: \", k)\n",
    "print(\"Probability of certainty was: \", pred_results[0][val_max])"
   ]
  },
  {
   "cell_type": "markdown",
   "metadata": {},
   "source": [
    "## Rédiger vos propres histoires et questions\n",
    "\n",
    "N'oubliez pas que vous ne pouvez utiliser que des mots du vocabulaire existant."
   ]
  },
  {
   "cell_type": "code",
   "execution_count": 71,
   "metadata": {},
   "outputs": [
    {
     "data": {
      "text/plain": [
       "{'.',\n",
       " '?',\n",
       " 'Daniel',\n",
       " 'Is',\n",
       " 'John',\n",
       " 'Mary',\n",
       " 'Sandra',\n",
       " 'apple',\n",
       " 'back',\n",
       " 'bathroom',\n",
       " 'bedroom',\n",
       " 'discarded',\n",
       " 'down',\n",
       " 'dropped',\n",
       " 'football',\n",
       " 'garden',\n",
       " 'got',\n",
       " 'grabbed',\n",
       " 'hallway',\n",
       " 'in',\n",
       " 'journeyed',\n",
       " 'kitchen',\n",
       " 'left',\n",
       " 'milk',\n",
       " 'moved',\n",
       " 'no',\n",
       " 'office',\n",
       " 'picked',\n",
       " 'put',\n",
       " 'the',\n",
       " 'there',\n",
       " 'to',\n",
       " 'took',\n",
       " 'travelled',\n",
       " 'up',\n",
       " 'went',\n",
       " 'yes'}"
      ]
     },
     "execution_count": 71,
     "metadata": {},
     "output_type": "execute_result"
    }
   ],
   "source": [
    "vocab"
   ]
  },
  {
   "cell_type": "code",
   "execution_count": 72,
   "metadata": {},
   "outputs": [
    {
     "data": {
      "text/plain": [
       "['John',\n",
       " 'left',\n",
       " 'the',\n",
       " 'kitchen',\n",
       " '.',\n",
       " 'Sandra',\n",
       " 'dropped',\n",
       " 'the',\n",
       " 'football',\n",
       " 'in',\n",
       " 'the',\n",
       " 'garden',\n",
       " '.']"
      ]
     },
     "execution_count": 72,
     "metadata": {},
     "output_type": "execute_result"
    }
   ],
   "source": [
    "# Note the whitespace of the periods\n",
    "my_story = \"John left the kitchen . Sandra dropped the football in the garden .\"\n",
    "my_story.split()"
   ]
  },
  {
   "cell_type": "code",
   "execution_count": 73,
   "metadata": {
    "collapsed": true
   },
   "outputs": [],
   "source": [
    "my_question = \"Is the football in the garden ?\""
   ]
  },
  {
   "cell_type": "code",
   "execution_count": 74,
   "metadata": {},
   "outputs": [
    {
     "data": {
      "text/plain": [
       "['Is', 'the', 'football', 'in', 'the', 'garden', '?']"
      ]
     },
     "execution_count": 74,
     "metadata": {},
     "output_type": "execute_result"
    }
   ],
   "source": [
    "my_question.split()"
   ]
  },
  {
   "cell_type": "code",
   "execution_count": 75,
   "metadata": {
    "collapsed": true
   },
   "outputs": [],
   "source": [
    "mydata = [(my_story.split(),my_question.split(),'yes')]"
   ]
  },
  {
   "cell_type": "code",
   "execution_count": 76,
   "metadata": {
    "collapsed": true
   },
   "outputs": [],
   "source": [
    "my_story,my_ques,my_ans = vectorize_stories(mydata)"
   ]
  },
  {
   "cell_type": "code",
   "execution_count": 77,
   "metadata": {
    "collapsed": true
   },
   "outputs": [
    {
     "name": "stdout",
     "output_type": "stream",
     "text": [
      "1/1 [==============================] - 0s 25ms/step\n"
     ]
    }
   ],
   "source": [
    "pred_results = model.predict(([ my_story, my_ques]))"
   ]
  },
  {
   "cell_type": "code",
   "execution_count": 78,
   "metadata": {},
   "outputs": [
    {
     "name": "stdout",
     "output_type": "stream",
     "text": [
      "Predicted answer is:  yes\n",
      "Probability of certainty was:  0.818155\n"
     ]
    }
   ],
   "source": [
    "#Generate prediction from model\n",
    "val_max = np.argmax(pred_results[0])\n",
    "\n",
    "for key, val in tokenizer.word_index.items():\n",
    "    if val == val_max:\n",
    "        k = key\n",
    "\n",
    "print(\"Predicted answer is: \", k)\n",
    "print(\"Probability of certainty was: \", pred_results[0][val_max])"
   ]
  }
 ],
 "metadata": {
  "kernelspec": {
   "display_name": "Python 3 (ipykernel)",
   "language": "python",
   "name": "python3"
  },
  "language_info": {
   "codemirror_mode": {
    "name": "ipython",
    "version": 3
   },
   "file_extension": ".py",
   "mimetype": "text/x-python",
   "name": "python",
   "nbconvert_exporter": "python",
   "pygments_lexer": "ipython3",
   "version": "3.9.19"
  }
 },
 "nbformat": 4,
 "nbformat_minor": 2
}

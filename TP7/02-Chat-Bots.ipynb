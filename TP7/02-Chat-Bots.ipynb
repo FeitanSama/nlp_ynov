{
 "cells": [
  {
   "cell_type": "markdown",
   "metadata": {},
   "source": [
    "# Question and Answer (QA) Chat Bots"
   ]
  },
  {
   "cell_type": "markdown",
   "metadata": {},
   "source": [
    "----\n",
    "\n",
    "------"
   ]
  },
  {
   "cell_type": "markdown",
   "metadata": {},
   "source": [
    "## Chargement des données\n",
    "\n",
    "Nous allons travailler avec le dataset Babi de Facebook Research.\n",
    "\n",
    "Détails complets: https://research.fb.com/downloads/babi/\n",
    "\n",
    "- Jason Weston, Antoine Bordes, Sumit Chopra, Tomas Mikolov, Alexander M. Rush,\n",
    "  \"Towards AI-Complete Question Answering: A Set of Prerequisite Toy Tasks\",\n",
    "  http://arxiv.org/abs/1502.05698\n"
   ]
  },
  {
   "cell_type": "code",
   "execution_count": 7,
   "metadata": {},
   "outputs": [],
   "source": [
    "import pickle\n",
    "import numpy as np"
   ]
  },
  {
   "cell_type": "code",
   "execution_count": 8,
   "metadata": {},
   "outputs": [],
   "source": [
    "with open(\"train_qa.txt\", \"rb\") as fp:   # Unpickling\n",
    "    train_data =  pickle.load(fp)"
   ]
  },
  {
   "cell_type": "code",
   "execution_count": 9,
   "metadata": {},
   "outputs": [],
   "source": [
    "with open(\"test_qa.txt\", \"rb\") as fp:   # Unpickling\n",
    "    test_data =  pickle.load(fp)"
   ]
  },
  {
   "cell_type": "markdown",
   "metadata": {},
   "source": [
    "----"
   ]
  },
  {
   "cell_type": "markdown",
   "metadata": {},
   "source": [
    "## Explorer le format des données"
   ]
  },
  {
   "cell_type": "code",
   "execution_count": 4,
   "metadata": {},
   "outputs": [
    {
     "data": {
      "text/plain": [
       "list"
      ]
     },
     "execution_count": 4,
     "metadata": {},
     "output_type": "execute_result"
    }
   ],
   "source": [
    "type(test_data)"
   ]
  },
  {
   "cell_type": "code",
   "execution_count": 5,
   "metadata": {},
   "outputs": [
    {
     "data": {
      "text/plain": [
       "list"
      ]
     },
     "execution_count": 5,
     "metadata": {},
     "output_type": "execute_result"
    }
   ],
   "source": [
    "type(train_data)"
   ]
  },
  {
   "cell_type": "code",
   "execution_count": 6,
   "metadata": {},
   "outputs": [
    {
     "data": {
      "text/plain": [
       "1000"
      ]
     },
     "execution_count": 6,
     "metadata": {},
     "output_type": "execute_result"
    }
   ],
   "source": [
    "len(test_data)"
   ]
  },
  {
   "cell_type": "code",
   "execution_count": 7,
   "metadata": {},
   "outputs": [
    {
     "data": {
      "text/plain": [
       "10000"
      ]
     },
     "execution_count": 7,
     "metadata": {},
     "output_type": "execute_result"
    }
   ],
   "source": [
    "len(train_data)"
   ]
  },
  {
   "cell_type": "code",
   "execution_count": 8,
   "metadata": {},
   "outputs": [
    {
     "data": {
      "text/plain": [
       "(['Mary',\n",
       "  'moved',\n",
       "  'to',\n",
       "  'the',\n",
       "  'bathroom',\n",
       "  '.',\n",
       "  'Sandra',\n",
       "  'journeyed',\n",
       "  'to',\n",
       "  'the',\n",
       "  'bedroom',\n",
       "  '.'],\n",
       " ['Is', 'Sandra', 'in', 'the', 'hallway', '?'],\n",
       " 'no')"
      ]
     },
     "execution_count": 8,
     "metadata": {},
     "output_type": "execute_result"
    }
   ],
   "source": [
    "train_data[0]"
   ]
  },
  {
   "cell_type": "code",
   "execution_count": 9,
   "metadata": {},
   "outputs": [
    {
     "data": {
      "text/plain": [
       "'Mary moved to the bathroom . Sandra journeyed to the bedroom .'"
      ]
     },
     "execution_count": 9,
     "metadata": {},
     "output_type": "execute_result"
    }
   ],
   "source": [
    "' '.join(train_data[0][0])"
   ]
  },
  {
   "cell_type": "code",
   "execution_count": 10,
   "metadata": {},
   "outputs": [
    {
     "data": {
      "text/plain": [
       "'Is Sandra in the hallway ?'"
      ]
     },
     "execution_count": 10,
     "metadata": {},
     "output_type": "execute_result"
    }
   ],
   "source": [
    "' '.join(train_data[0][1])"
   ]
  },
  {
   "cell_type": "code",
   "execution_count": 11,
   "metadata": {},
   "outputs": [
    {
     "data": {
      "text/plain": [
       "'no'"
      ]
     },
     "execution_count": 11,
     "metadata": {},
     "output_type": "execute_result"
    }
   ],
   "source": [
    "train_data[0][2]"
   ]
  },
  {
   "cell_type": "markdown",
   "metadata": {},
   "source": [
    "-----\n",
    "\n",
    "## Mise en place d'un vocabulaire de tous les mots"
   ]
  },
  {
   "cell_type": "code",
   "execution_count": 12,
   "metadata": {},
   "outputs": [],
   "source": [
    "# Create a set that holds the vocab words\n",
    "vocab = set()"
   ]
  },
  {
   "cell_type": "code",
   "execution_count": 13,
   "metadata": {},
   "outputs": [],
   "source": [
    "all_data = test_data + train_data"
   ]
  },
  {
   "cell_type": "code",
   "execution_count": 14,
   "metadata": {},
   "outputs": [],
   "source": [
    "for story, question , answer in all_data:\n",
    "    # In case you don't know what a union of sets is:\n",
    "    # https://www.programiz.com/python-programming/methods/set/union\n",
    "    vocab = vocab.union(set(story))\n",
    "    vocab = vocab.union(set(question))"
   ]
  },
  {
   "cell_type": "code",
   "execution_count": 15,
   "metadata": {},
   "outputs": [],
   "source": [
    "vocab.add('no')\n",
    "vocab.add('yes')"
   ]
  },
  {
   "cell_type": "code",
   "execution_count": 16,
   "metadata": {},
   "outputs": [
    {
     "data": {
      "text/plain": [
       "{'.',\n",
       " '?',\n",
       " 'Daniel',\n",
       " 'Is',\n",
       " 'John',\n",
       " 'Mary',\n",
       " 'Sandra',\n",
       " 'apple',\n",
       " 'back',\n",
       " 'bathroom',\n",
       " 'bedroom',\n",
       " 'discarded',\n",
       " 'down',\n",
       " 'dropped',\n",
       " 'football',\n",
       " 'garden',\n",
       " 'got',\n",
       " 'grabbed',\n",
       " 'hallway',\n",
       " 'in',\n",
       " 'journeyed',\n",
       " 'kitchen',\n",
       " 'left',\n",
       " 'milk',\n",
       " 'moved',\n",
       " 'no',\n",
       " 'office',\n",
       " 'picked',\n",
       " 'put',\n",
       " 'the',\n",
       " 'there',\n",
       " 'to',\n",
       " 'took',\n",
       " 'travelled',\n",
       " 'up',\n",
       " 'went',\n",
       " 'yes'}"
      ]
     },
     "execution_count": 16,
     "metadata": {},
     "output_type": "execute_result"
    }
   ],
   "source": [
    "vocab"
   ]
  },
  {
   "cell_type": "code",
   "execution_count": 17,
   "metadata": {},
   "outputs": [],
   "source": [
    "vocab_len = len(vocab) + 1 #we add an extra space to hold a 0 for Keras's pad_sequences"
   ]
  },
  {
   "cell_type": "code",
   "execution_count": 18,
   "metadata": {},
   "outputs": [],
   "source": [
    "max_story_len = max([len(data[0]) for data in all_data])"
   ]
  },
  {
   "cell_type": "code",
   "execution_count": 19,
   "metadata": {},
   "outputs": [
    {
     "data": {
      "text/plain": [
       "156"
      ]
     },
     "execution_count": 19,
     "metadata": {},
     "output_type": "execute_result"
    }
   ],
   "source": [
    "max_story_len"
   ]
  },
  {
   "cell_type": "code",
   "execution_count": 20,
   "metadata": {},
   "outputs": [],
   "source": [
    "max_question_len = max([len(data[1]) for data in all_data])"
   ]
  },
  {
   "cell_type": "code",
   "execution_count": 21,
   "metadata": {},
   "outputs": [
    {
     "data": {
      "text/plain": [
       "6"
      ]
     },
     "execution_count": 21,
     "metadata": {},
     "output_type": "execute_result"
    }
   ],
   "source": [
    "max_question_len"
   ]
  },
  {
   "cell_type": "markdown",
   "metadata": {},
   "source": [
    "## Vectorisation des données"
   ]
  },
  {
   "cell_type": "code",
   "execution_count": 22,
   "metadata": {},
   "outputs": [
    {
     "data": {
      "text/plain": [
       "{'.',\n",
       " '?',\n",
       " 'Daniel',\n",
       " 'Is',\n",
       " 'John',\n",
       " 'Mary',\n",
       " 'Sandra',\n",
       " 'apple',\n",
       " 'back',\n",
       " 'bathroom',\n",
       " 'bedroom',\n",
       " 'discarded',\n",
       " 'down',\n",
       " 'dropped',\n",
       " 'football',\n",
       " 'garden',\n",
       " 'got',\n",
       " 'grabbed',\n",
       " 'hallway',\n",
       " 'in',\n",
       " 'journeyed',\n",
       " 'kitchen',\n",
       " 'left',\n",
       " 'milk',\n",
       " 'moved',\n",
       " 'no',\n",
       " 'office',\n",
       " 'picked',\n",
       " 'put',\n",
       " 'the',\n",
       " 'there',\n",
       " 'to',\n",
       " 'took',\n",
       " 'travelled',\n",
       " 'up',\n",
       " 'went',\n",
       " 'yes'}"
      ]
     },
     "execution_count": 22,
     "metadata": {},
     "output_type": "execute_result"
    }
   ],
   "source": [
    "vocab"
   ]
  },
  {
   "cell_type": "code",
   "execution_count": 23,
   "metadata": {},
   "outputs": [],
   "source": [
    "# Reserve 0 for pad_sequences\n",
    "vocab_size = len(vocab) + 1"
   ]
  },
  {
   "cell_type": "markdown",
   "metadata": {},
   "source": [
    "-----------"
   ]
  },
  {
   "cell_type": "code",
   "execution_count": 24,
   "metadata": {},
   "outputs": [],
   "source": [
    "#from keras.preprocessing.sequence import pad_sequences\n",
    "from keras.preprocessing.text import Tokenizer\n",
    "from keras.utils import pad_sequences"
   ]
  },
  {
   "cell_type": "code",
   "execution_count": 25,
   "metadata": {},
   "outputs": [],
   "source": [
    "# integer encode sequences of words\n",
    "tokenizer = Tokenizer(filters=[])\n",
    "tokenizer.fit_on_texts(vocab)"
   ]
  },
  {
   "cell_type": "code",
   "execution_count": 26,
   "metadata": {},
   "outputs": [
    {
     "data": {
      "text/plain": [
       "{'went': 1,\n",
       " 'travelled': 2,\n",
       " 'discarded': 3,\n",
       " 'to': 4,\n",
       " 'yes': 5,\n",
       " 'got': 6,\n",
       " 'up': 7,\n",
       " '?': 8,\n",
       " 'picked': 9,\n",
       " 'apple': 10,\n",
       " 'in': 11,\n",
       " 'no': 12,\n",
       " 'moved': 13,\n",
       " '.': 14,\n",
       " 'sandra': 15,\n",
       " 'back': 16,\n",
       " 'the': 17,\n",
       " 'bedroom': 18,\n",
       " 'is': 19,\n",
       " 'took': 20,\n",
       " 'dropped': 21,\n",
       " 'down': 22,\n",
       " 'garden': 23,\n",
       " 'mary': 24,\n",
       " 'there': 25,\n",
       " 'daniel': 26,\n",
       " 'journeyed': 27,\n",
       " 'football': 28,\n",
       " 'milk': 29,\n",
       " 'put': 30,\n",
       " 'john': 31,\n",
       " 'bathroom': 32,\n",
       " 'grabbed': 33,\n",
       " 'kitchen': 34,\n",
       " 'left': 35,\n",
       " 'hallway': 36,\n",
       " 'office': 37}"
      ]
     },
     "execution_count": 26,
     "metadata": {},
     "output_type": "execute_result"
    }
   ],
   "source": [
    "tokenizer.word_index"
   ]
  },
  {
   "cell_type": "code",
   "execution_count": 27,
   "metadata": {},
   "outputs": [],
   "source": [
    "train_story_text = []\n",
    "train_question_text = []\n",
    "train_answers = []\n",
    "\n",
    "for story,question,answer in train_data:\n",
    "    train_story_text.append(story)\n",
    "    train_question_text.append(question)"
   ]
  },
  {
   "cell_type": "code",
   "execution_count": 28,
   "metadata": {},
   "outputs": [],
   "source": [
    "train_story_seq = tokenizer.texts_to_sequences(train_story_text)"
   ]
  },
  {
   "cell_type": "code",
   "execution_count": 29,
   "metadata": {},
   "outputs": [
    {
     "data": {
      "text/plain": [
       "10000"
      ]
     },
     "execution_count": 29,
     "metadata": {},
     "output_type": "execute_result"
    }
   ],
   "source": [
    "len(train_story_text)"
   ]
  },
  {
   "cell_type": "code",
   "execution_count": 30,
   "metadata": {},
   "outputs": [
    {
     "data": {
      "text/plain": [
       "10000"
      ]
     },
     "execution_count": 30,
     "metadata": {},
     "output_type": "execute_result"
    }
   ],
   "source": [
    "len(train_story_seq)"
   ]
  },
  {
   "cell_type": "code",
   "execution_count": 31,
   "metadata": {},
   "outputs": [],
   "source": [
    "# word_index = tokenizer.word_index"
   ]
  },
  {
   "cell_type": "markdown",
   "metadata": {},
   "source": [
    "### Functionalize Vectorization"
   ]
  },
  {
   "cell_type": "code",
   "execution_count": 32,
   "metadata": {},
   "outputs": [],
   "source": [
    "def vectorize_stories(data, word_index=tokenizer.word_index, max_story_len=max_story_len,max_question_len=max_question_len):\n",
    "    '''\n",
    "    INPUT: \n",
    "    \n",
    "    data: consisting of Stories,Queries,and Answers\n",
    "    word_index: word index dictionary from tokenizer\n",
    "    max_story_len: the length of the longest story (used for pad_sequences function)\n",
    "    max_question_len: length of the longest question (used for pad_sequences function)\n",
    "\n",
    "\n",
    "    OUTPUT:\n",
    "    \n",
    "    Vectorizes the stories,questions, and answers into padded sequences. We first loop for every story, query , and\n",
    "    answer in the data. Then we convert the raw words to an word index value. Then we append each set to their appropriate\n",
    "    output list. Then once we have converted the words to numbers, we pad the sequences so they are all of equal length.\n",
    "    \n",
    "    Returns this in the form of a tuple (X,Xq,Y) (padded based on max lengths)\n",
    "    '''\n",
    "    \n",
    "    \n",
    "    # X = STORIES\n",
    "    X = []\n",
    "    # Xq = QUERY/QUESTION\n",
    "    Xq = []\n",
    "    # Y = CORRECT ANSWER\n",
    "    Y = []\n",
    "    \n",
    "    \n",
    "    for story, query, answer in data:\n",
    "        \n",
    "        # Grab the word index for every word in story\n",
    "        x = [word_index[word.lower()] for word in story]\n",
    "        # Grab the word index for every word in query\n",
    "        xq = [word_index[word.lower()] for word in query]\n",
    "        \n",
    "        # Grab the Answers (either Yes/No so we don't need to use list comprehension here)\n",
    "        # Index 0 is reserved so we're going to use + 1\n",
    "        y = np.zeros(len(word_index) + 1)\n",
    "        \n",
    "        # Now that y is all zeros and we know its just Yes/No , we can use numpy logic to create this assignment\n",
    "        #\n",
    "        y[word_index[answer]] = 1\n",
    "        \n",
    "        # Append each set of story,query, and answer to their respective holding lists\n",
    "        X.append(x)\n",
    "        Xq.append(xq)\n",
    "        Y.append(y)\n",
    "        \n",
    "    # Finally, pad the sequences based on their max length so the RNN can be trained on uniformly long sequences.\n",
    "        \n",
    "    # RETURN TUPLE FOR UNPACKING\n",
    "    return (pad_sequences(X, maxlen=max_story_len),pad_sequences(Xq, maxlen=max_question_len), np.array(Y))"
   ]
  },
  {
   "cell_type": "code",
   "execution_count": 33,
   "metadata": {},
   "outputs": [],
   "source": [
    "inputs_train, queries_train, answers_train = vectorize_stories(train_data)"
   ]
  },
  {
   "cell_type": "code",
   "execution_count": 34,
   "metadata": {},
   "outputs": [],
   "source": [
    "inputs_test, queries_test, answers_test = vectorize_stories(test_data)"
   ]
  },
  {
   "cell_type": "code",
   "execution_count": 35,
   "metadata": {},
   "outputs": [
    {
     "data": {
      "text/plain": [
       "array([[ 0,  0,  0, ..., 17, 18, 14],\n",
       "       [ 0,  0,  0, ..., 17, 23, 14],\n",
       "       [ 0,  0,  0, ..., 17, 23, 14],\n",
       "       ...,\n",
       "       [ 0,  0,  0, ..., 17, 10, 14],\n",
       "       [ 0,  0,  0, ..., 17, 23, 14],\n",
       "       [ 0,  0,  0, ..., 10, 25, 14]])"
      ]
     },
     "execution_count": 35,
     "metadata": {},
     "output_type": "execute_result"
    }
   ],
   "source": [
    "inputs_test"
   ]
  },
  {
   "cell_type": "code",
   "execution_count": 36,
   "metadata": {},
   "outputs": [
    {
     "data": {
      "text/plain": [
       "array([[19, 31, 11, 17, 34,  8],\n",
       "       [19, 31, 11, 17, 34,  8],\n",
       "       [19, 31, 11, 17, 23,  8],\n",
       "       ...,\n",
       "       [19, 24, 11, 17, 18,  8],\n",
       "       [19, 15, 11, 17, 23,  8],\n",
       "       [19, 24, 11, 17, 23,  8]])"
      ]
     },
     "execution_count": 36,
     "metadata": {},
     "output_type": "execute_result"
    }
   ],
   "source": [
    "queries_test"
   ]
  },
  {
   "cell_type": "code",
   "execution_count": 37,
   "metadata": {},
   "outputs": [
    {
     "data": {
      "text/plain": [
       "array([[0., 0., 0., ..., 0., 0., 0.],\n",
       "       [0., 0., 0., ..., 0., 0., 0.],\n",
       "       [0., 0., 0., ..., 0., 0., 0.],\n",
       "       ...,\n",
       "       [0., 0., 0., ..., 0., 0., 0.],\n",
       "       [0., 0., 0., ..., 0., 0., 0.],\n",
       "       [0., 0., 0., ..., 0., 0., 0.]])"
      ]
     },
     "execution_count": 37,
     "metadata": {},
     "output_type": "execute_result"
    }
   ],
   "source": [
    "answers_test"
   ]
  },
  {
   "cell_type": "code",
   "execution_count": 38,
   "metadata": {},
   "outputs": [
    {
     "data": {
      "text/plain": [
       "array([  0.,   0.,   0.,   0.,   0., 497.,   0.,   0.,   0.,   0.,   0.,\n",
       "         0., 503.,   0.,   0.,   0.,   0.,   0.,   0.,   0.,   0.,   0.,\n",
       "         0.,   0.,   0.,   0.,   0.,   0.,   0.,   0.,   0.,   0.,   0.,\n",
       "         0.,   0.,   0.,   0.,   0.])"
      ]
     },
     "execution_count": 38,
     "metadata": {},
     "output_type": "execute_result"
    }
   ],
   "source": [
    "sum(answers_test)"
   ]
  },
  {
   "cell_type": "code",
   "execution_count": 39,
   "metadata": {},
   "outputs": [
    {
     "data": {
      "text/plain": [
       "5"
      ]
     },
     "execution_count": 39,
     "metadata": {},
     "output_type": "execute_result"
    }
   ],
   "source": [
    "tokenizer.word_index['yes']"
   ]
  },
  {
   "cell_type": "code",
   "execution_count": 40,
   "metadata": {},
   "outputs": [
    {
     "data": {
      "text/plain": [
       "12"
      ]
     },
     "execution_count": 40,
     "metadata": {},
     "output_type": "execute_result"
    }
   ],
   "source": [
    "tokenizer.word_index['no']"
   ]
  },
  {
   "cell_type": "markdown",
   "metadata": {},
   "source": [
    "## Création du modèle"
   ]
  },
  {
   "cell_type": "code",
   "execution_count": 44,
   "metadata": {},
   "outputs": [],
   "source": [
    "from keras.models import Sequential, Model\n",
    "#from keras.layers.embeddings import Embedding\n",
    "from keras.layers import Embedding\n",
    "from keras.layers import Input, Activation, Dense, Permute, Dropout\n",
    "from keras.layers import add, dot, concatenate\n",
    "from keras.layers import LSTM"
   ]
  },
  {
   "cell_type": "markdown",
   "metadata": {},
   "source": [
    "### Placeholders pour les Inputs\n",
    "\n",
    "Rappelons que nous avons techniquement deux entrées, les histoires et les questions. Nous avons donc besoin d'utiliser des placeholders. `Input()` est utilisé pour instancier un tenseur Keras.\n"
   ]
  },
  {
   "cell_type": "code",
   "execution_count": 45,
   "metadata": {},
   "outputs": [],
   "source": [
    "input_sequence = Input((max_story_len,))\n",
    "question = Input((max_question_len,))"
   ]
  },
  {
   "cell_type": "markdown",
   "metadata": {
    "collapsed": true
   },
   "source": [
    "### Building the Networks\n",
    "\n",
    "Pour comprendre pourquoi nous avons choisi cette configuration, lisez le document que nous utilisons :\n",
    "\n",
    "* Sainbayar Sukhbaatar, Arthur Szlam, Jason Weston, Rob Fergus,\n",
    "  \"End-To-End Memory Networks\",\n",
    "  http://arxiv.org/abs/1503.08895"
   ]
  },
  {
   "cell_type": "markdown",
   "metadata": {},
   "source": [
    "## Encoders\n",
    "\n",
    "### Input Encoder m"
   ]
  },
  {
   "cell_type": "code",
   "execution_count": 46,
   "metadata": {},
   "outputs": [],
   "source": [
    "# Input gets embedded to a sequence of vectors\n",
    "input_encoder_m = Sequential()\n",
    "input_encoder_m.add(Embedding(input_dim=vocab_size,output_dim=64))\n",
    "input_encoder_m.add(Dropout(0.3))\n",
    "\n",
    "# This encoder will output:\n",
    "# (samples, story_maxlen, embedding_dim)"
   ]
  },
  {
   "cell_type": "markdown",
   "metadata": {},
   "source": [
    "### Input Encoder c"
   ]
  },
  {
   "cell_type": "code",
   "execution_count": 47,
   "metadata": {},
   "outputs": [],
   "source": [
    "# embed the input into a sequence of vectors of size query_maxlen\n",
    "input_encoder_c = Sequential()\n",
    "input_encoder_c.add(Embedding(input_dim=vocab_size,output_dim=max_question_len))\n",
    "input_encoder_c.add(Dropout(0.3))\n",
    "# output: (samples, story_maxlen, query_maxlen)"
   ]
  },
  {
   "cell_type": "markdown",
   "metadata": {},
   "source": [
    "### Question Encoder"
   ]
  },
  {
   "cell_type": "code",
   "execution_count": 48,
   "metadata": {},
   "outputs": [],
   "source": [
    "# embed the question into a sequence of vectors\n",
    "question_encoder = Sequential()\n",
    "question_encoder.add(Embedding(input_dim=vocab_size,\n",
    "                               output_dim=64,\n",
    "                               input_length=max_question_len))\n",
    "question_encoder.add(Dropout(0.3))\n",
    "# output: (samples, query_maxlen, embedding_dim)"
   ]
  },
  {
   "cell_type": "markdown",
   "metadata": {},
   "source": [
    "### Encode the Sequences"
   ]
  },
  {
   "cell_type": "code",
   "execution_count": 49,
   "metadata": {},
   "outputs": [],
   "source": [
    "# encode input sequence and questions (which are indices)\n",
    "# to sequences of dense vectors\n",
    "input_encoded_m = input_encoder_m(input_sequence)\n",
    "input_encoded_c = input_encoder_c(input_sequence)\n",
    "question_encoded = question_encoder(question)"
   ]
  },
  {
   "cell_type": "markdown",
   "metadata": {},
   "source": [
    "##### Utiliser le produit (dot) pour calculer la correspondance entre le premier vecteur d'entrée seq et la requête."
   ]
  },
  {
   "cell_type": "code",
   "execution_count": 50,
   "metadata": {},
   "outputs": [],
   "source": [
    "# shape: `(samples, story_maxlen, query_maxlen)`\n",
    "match = dot([input_encoded_m, question_encoded], axes=(2, 2))\n",
    "match = Activation('softmax')(match)"
   ]
  },
  {
   "cell_type": "markdown",
   "metadata": {},
   "source": [
    "#### Ajouter cette matrice de correspondance à la deuxième séquence de vecteurs d'entrée"
   ]
  },
  {
   "cell_type": "code",
   "execution_count": 51,
   "metadata": {},
   "outputs": [],
   "source": [
    "# add the match matrix with the second input vector sequence\n",
    "response = add([match, input_encoded_c])  # (samples, story_maxlen, query_maxlen)\n",
    "response = Permute((2, 1))(response)  # (samples, query_maxlen, story_maxlen)"
   ]
  },
  {
   "cell_type": "markdown",
   "metadata": {},
   "source": [
    "#### Concatener"
   ]
  },
  {
   "cell_type": "code",
   "execution_count": 52,
   "metadata": {},
   "outputs": [],
   "source": [
    "# concatenate the match matrix with the question vector sequence\n",
    "answer = concatenate([response, question_encoded])"
   ]
  },
  {
   "cell_type": "code",
   "execution_count": 53,
   "metadata": {},
   "outputs": [
    {
     "data": {
      "text/plain": [
       "<KerasTensor: shape=(None, 6, 220) dtype=float32 (created by layer 'concatenate')>"
      ]
     },
     "execution_count": 53,
     "metadata": {},
     "output_type": "execute_result"
    }
   ],
   "source": [
    "answer"
   ]
  },
  {
   "cell_type": "code",
   "execution_count": 54,
   "metadata": {},
   "outputs": [],
   "source": [
    "# Reduce with RNN (LSTM)\n",
    "answer = LSTM(32)(answer)  # (samples, 32)"
   ]
  },
  {
   "cell_type": "code",
   "execution_count": 55,
   "metadata": {},
   "outputs": [],
   "source": [
    "# Regularization with Dropout\n",
    "answer = Dropout(0.5)(answer)\n",
    "answer = Dense(vocab_size)(answer)  # (samples, vocab_size)"
   ]
  },
  {
   "cell_type": "code",
   "execution_count": 56,
   "metadata": {},
   "outputs": [],
   "source": [
    "# we output a probability distribution over the vocabulary\n",
    "answer = Activation('softmax')(answer)\n",
    "\n",
    "# build the final model\n",
    "model = Model([input_sequence, question], answer)\n",
    "model.compile(optimizer='rmsprop', loss='categorical_crossentropy',\n",
    "              metrics=['accuracy'])"
   ]
  },
  {
   "cell_type": "code",
   "execution_count": 57,
   "metadata": {},
   "outputs": [
    {
     "name": "stdout",
     "output_type": "stream",
     "text": [
      "Model: \"model\"\n",
      "__________________________________________________________________________________________________\n",
      " Layer (type)                   Output Shape         Param #     Connected to                     \n",
      "==================================================================================================\n",
      " input_3 (InputLayer)           [(None, 156)]        0           []                               \n",
      "                                                                                                  \n",
      " input_4 (InputLayer)           [(None, 6)]          0           []                               \n",
      "                                                                                                  \n",
      " sequential (Sequential)        (None, None, 64)     2432        ['input_3[0][0]']                \n",
      "                                                                                                  \n",
      " sequential_2 (Sequential)      (None, 6, 64)        2432        ['input_4[0][0]']                \n",
      "                                                                                                  \n",
      " dot (Dot)                      (None, 156, 6)       0           ['sequential[0][0]',             \n",
      "                                                                  'sequential_2[0][0]']           \n",
      "                                                                                                  \n",
      " activation (Activation)        (None, 156, 6)       0           ['dot[0][0]']                    \n",
      "                                                                                                  \n",
      " sequential_1 (Sequential)      (None, None, 6)      228         ['input_3[0][0]']                \n",
      "                                                                                                  \n",
      " add (Add)                      (None, 156, 6)       0           ['activation[0][0]',             \n",
      "                                                                  'sequential_1[0][0]']           \n",
      "                                                                                                  \n",
      " permute (Permute)              (None, 6, 156)       0           ['add[0][0]']                    \n",
      "                                                                                                  \n",
      " concatenate (Concatenate)      (None, 6, 220)       0           ['permute[0][0]',                \n",
      "                                                                  'sequential_2[0][0]']           \n",
      "                                                                                                  \n",
      " lstm (LSTM)                    (None, 32)           32384       ['concatenate[0][0]']            \n",
      "                                                                                                  \n",
      " dropout_3 (Dropout)            (None, 32)           0           ['lstm[0][0]']                   \n",
      "                                                                                                  \n",
      " dense (Dense)                  (None, 38)           1254        ['dropout_3[0][0]']              \n",
      "                                                                                                  \n",
      " activation_1 (Activation)      (None, 38)           0           ['dense[0][0]']                  \n",
      "                                                                                                  \n",
      "==================================================================================================\n",
      "Total params: 38,730\n",
      "Trainable params: 38,730\n",
      "Non-trainable params: 0\n",
      "__________________________________________________________________________________________________\n"
     ]
    }
   ],
   "source": [
    "model.summary()"
   ]
  },
  {
   "cell_type": "code",
   "execution_count": 58,
   "metadata": {},
   "outputs": [
    {
     "name": "stdout",
     "output_type": "stream",
     "text": [
      "Epoch 1/120\n",
      "313/313 [==============================] - 6s 14ms/step - loss: 0.9374 - accuracy: 0.4878 - val_loss: 0.7008 - val_accuracy: 0.5030\n",
      "Epoch 2/120\n",
      "313/313 [==============================] - 4s 13ms/step - loss: 0.7099 - accuracy: 0.4988 - val_loss: 0.6949 - val_accuracy: 0.4970\n",
      "Epoch 3/120\n",
      "313/313 [==============================] - 4s 14ms/step - loss: 0.6979 - accuracy: 0.5000 - val_loss: 0.6959 - val_accuracy: 0.4970\n",
      "Epoch 4/120\n",
      "313/313 [==============================] - 5s 16ms/step - loss: 0.6967 - accuracy: 0.4976 - val_loss: 0.6941 - val_accuracy: 0.5030\n",
      "Epoch 5/120\n",
      "313/313 [==============================] - 5s 17ms/step - loss: 0.6951 - accuracy: 0.5051 - val_loss: 0.6932 - val_accuracy: 0.5030\n",
      "Epoch 6/120\n",
      "313/313 [==============================] - 5s 16ms/step - loss: 0.6950 - accuracy: 0.5098 - val_loss: 0.6933 - val_accuracy: 0.5030\n",
      "Epoch 7/120\n",
      "313/313 [==============================] - 5s 15ms/step - loss: 0.6951 - accuracy: 0.5028 - val_loss: 0.6939 - val_accuracy: 0.4970\n",
      "Epoch 8/120\n",
      "313/313 [==============================] - 5s 15ms/step - loss: 0.6954 - accuracy: 0.5040 - val_loss: 0.6932 - val_accuracy: 0.5030\n",
      "Epoch 9/120\n",
      "313/313 [==============================] - 5s 16ms/step - loss: 0.6955 - accuracy: 0.4992 - val_loss: 0.6940 - val_accuracy: 0.4970\n",
      "Epoch 10/120\n",
      "313/313 [==============================] - 5s 16ms/step - loss: 0.6955 - accuracy: 0.5009 - val_loss: 0.6966 - val_accuracy: 0.4970\n",
      "Epoch 11/120\n",
      "313/313 [==============================] - 5s 15ms/step - loss: 0.6953 - accuracy: 0.4977 - val_loss: 0.6940 - val_accuracy: 0.4970\n",
      "Epoch 12/120\n",
      "313/313 [==============================] - 5s 16ms/step - loss: 0.6950 - accuracy: 0.5040 - val_loss: 0.6938 - val_accuracy: 0.4970\n",
      "Epoch 13/120\n",
      "313/313 [==============================] - 5s 15ms/step - loss: 0.6948 - accuracy: 0.5023 - val_loss: 0.6937 - val_accuracy: 0.5030\n",
      "Epoch 14/120\n",
      "313/313 [==============================] - 5s 16ms/step - loss: 0.6945 - accuracy: 0.4964 - val_loss: 0.6983 - val_accuracy: 0.4970\n",
      "Epoch 15/120\n",
      "313/313 [==============================] - 5s 14ms/step - loss: 0.6955 - accuracy: 0.5050 - val_loss: 0.6936 - val_accuracy: 0.5030\n",
      "Epoch 16/120\n",
      "313/313 [==============================] - 4s 14ms/step - loss: 0.6945 - accuracy: 0.5044 - val_loss: 0.6997 - val_accuracy: 0.4970\n",
      "Epoch 17/120\n",
      "313/313 [==============================] - 4s 13ms/step - loss: 0.6947 - accuracy: 0.5005 - val_loss: 0.6938 - val_accuracy: 0.4970\n",
      "Epoch 18/120\n",
      "313/313 [==============================] - 4s 14ms/step - loss: 0.6950 - accuracy: 0.5000 - val_loss: 0.6932 - val_accuracy: 0.4970\n",
      "Epoch 19/120\n",
      "313/313 [==============================] - 4s 14ms/step - loss: 0.6945 - accuracy: 0.5034 - val_loss: 0.6936 - val_accuracy: 0.4970\n",
      "Epoch 20/120\n",
      "313/313 [==============================] - 5s 16ms/step - loss: 0.6949 - accuracy: 0.4992 - val_loss: 0.7002 - val_accuracy: 0.4970\n",
      "Epoch 21/120\n",
      "313/313 [==============================] - 4s 14ms/step - loss: 0.6950 - accuracy: 0.4995 - val_loss: 0.6932 - val_accuracy: 0.4970\n",
      "Epoch 22/120\n",
      "313/313 [==============================] - 4s 14ms/step - loss: 0.6952 - accuracy: 0.4937 - val_loss: 0.6932 - val_accuracy: 0.5030\n",
      "Epoch 23/120\n",
      "313/313 [==============================] - 5s 15ms/step - loss: 0.6952 - accuracy: 0.4918 - val_loss: 0.6933 - val_accuracy: 0.5030\n",
      "Epoch 24/120\n",
      "313/313 [==============================] - 4s 14ms/step - loss: 0.6949 - accuracy: 0.5016 - val_loss: 0.6935 - val_accuracy: 0.4970\n",
      "Epoch 25/120\n",
      "313/313 [==============================] - 4s 13ms/step - loss: 0.6950 - accuracy: 0.4967 - val_loss: 0.6958 - val_accuracy: 0.4970\n",
      "Epoch 26/120\n",
      "313/313 [==============================] - 4s 13ms/step - loss: 0.6948 - accuracy: 0.4988 - val_loss: 0.6932 - val_accuracy: 0.5030\n",
      "Epoch 27/120\n",
      "313/313 [==============================] - 5s 15ms/step - loss: 0.6948 - accuracy: 0.5056 - val_loss: 0.6934 - val_accuracy: 0.4970\n",
      "Epoch 28/120\n",
      "313/313 [==============================] - 5s 14ms/step - loss: 0.6951 - accuracy: 0.5001 - val_loss: 0.6953 - val_accuracy: 0.4970\n",
      "Epoch 29/120\n",
      "313/313 [==============================] - 5s 16ms/step - loss: 0.6949 - accuracy: 0.5046 - val_loss: 0.6940 - val_accuracy: 0.4970\n",
      "Epoch 30/120\n",
      "313/313 [==============================] - 5s 16ms/step - loss: 0.6952 - accuracy: 0.4973 - val_loss: 0.6933 - val_accuracy: 0.4970\n",
      "Epoch 31/120\n",
      "313/313 [==============================] - 4s 14ms/step - loss: 0.6939 - accuracy: 0.5154 - val_loss: 0.6940 - val_accuracy: 0.4970\n",
      "Epoch 32/120\n",
      "313/313 [==============================] - 5s 15ms/step - loss: 0.6953 - accuracy: 0.5041 - val_loss: 0.6937 - val_accuracy: 0.5030\n",
      "Epoch 33/120\n",
      "313/313 [==============================] - 4s 14ms/step - loss: 0.6950 - accuracy: 0.5021 - val_loss: 0.6938 - val_accuracy: 0.4820\n",
      "Epoch 34/120\n",
      "313/313 [==============================] - 5s 15ms/step - loss: 0.6945 - accuracy: 0.5077 - val_loss: 0.6937 - val_accuracy: 0.4540\n",
      "Epoch 35/120\n",
      "313/313 [==============================] - 4s 14ms/step - loss: 0.6952 - accuracy: 0.5001 - val_loss: 0.6937 - val_accuracy: 0.4980\n",
      "Epoch 36/120\n",
      "313/313 [==============================] - 4s 14ms/step - loss: 0.6944 - accuracy: 0.5085 - val_loss: 0.6970 - val_accuracy: 0.5030\n",
      "Epoch 37/120\n",
      "313/313 [==============================] - 4s 14ms/step - loss: 0.6940 - accuracy: 0.5121 - val_loss: 0.6995 - val_accuracy: 0.4990\n",
      "Epoch 38/120\n",
      "313/313 [==============================] - 5s 15ms/step - loss: 0.6933 - accuracy: 0.5167 - val_loss: 0.6982 - val_accuracy: 0.4900\n",
      "Epoch 39/120\n",
      "313/313 [==============================] - 5s 16ms/step - loss: 0.6942 - accuracy: 0.5105 - val_loss: 0.6964 - val_accuracy: 0.4620\n",
      "Epoch 40/120\n",
      "313/313 [==============================] - 4s 14ms/step - loss: 0.6942 - accuracy: 0.5102 - val_loss: 0.6993 - val_accuracy: 0.4890\n",
      "Epoch 41/120\n",
      "313/313 [==============================] - 5s 15ms/step - loss: 0.6931 - accuracy: 0.5192 - val_loss: 0.6963 - val_accuracy: 0.4880\n",
      "Epoch 42/120\n",
      "313/313 [==============================] - 5s 15ms/step - loss: 0.6934 - accuracy: 0.5177 - val_loss: 0.7004 - val_accuracy: 0.4900\n",
      "Epoch 43/120\n",
      "313/313 [==============================] - 5s 15ms/step - loss: 0.6929 - accuracy: 0.5228 - val_loss: 0.6956 - val_accuracy: 0.4690\n",
      "Epoch 44/120\n",
      "313/313 [==============================] - 5s 15ms/step - loss: 0.6913 - accuracy: 0.5258 - val_loss: 0.6976 - val_accuracy: 0.4730\n",
      "Epoch 45/120\n",
      "313/313 [==============================] - 5s 16ms/step - loss: 0.6913 - accuracy: 0.5254 - val_loss: 0.6964 - val_accuracy: 0.4750\n",
      "Epoch 46/120\n",
      "313/313 [==============================] - 5s 14ms/step - loss: 0.6882 - accuracy: 0.5336 - val_loss: 0.6943 - val_accuracy: 0.4840\n",
      "Epoch 47/120\n",
      "313/313 [==============================] - 5s 15ms/step - loss: 0.6834 - accuracy: 0.5482 - val_loss: 0.6877 - val_accuracy: 0.5280\n",
      "Epoch 48/120\n",
      "313/313 [==============================] - 5s 15ms/step - loss: 0.6752 - accuracy: 0.5689 - val_loss: 0.6759 - val_accuracy: 0.5640\n",
      "Epoch 49/120\n",
      "313/313 [==============================] - 4s 14ms/step - loss: 0.6613 - accuracy: 0.5838 - val_loss: 0.6631 - val_accuracy: 0.6160\n",
      "Epoch 50/120\n",
      "313/313 [==============================] - 5s 14ms/step - loss: 0.6593 - accuracy: 0.5960 - val_loss: 0.6537 - val_accuracy: 0.6380\n",
      "Epoch 51/120\n",
      "313/313 [==============================] - 4s 13ms/step - loss: 0.6543 - accuracy: 0.5975 - val_loss: 0.6477 - val_accuracy: 0.6560\n",
      "Epoch 52/120\n",
      "313/313 [==============================] - 5s 16ms/step - loss: 0.6496 - accuracy: 0.6190 - val_loss: 0.6497 - val_accuracy: 0.6200\n",
      "Epoch 53/120\n",
      "313/313 [==============================] - 5s 16ms/step - loss: 0.6424 - accuracy: 0.6228 - val_loss: 0.6304 - val_accuracy: 0.6670\n",
      "Epoch 54/120\n",
      "313/313 [==============================] - 5s 16ms/step - loss: 0.6349 - accuracy: 0.6363 - val_loss: 0.6241 - val_accuracy: 0.6730\n",
      "Epoch 55/120\n",
      "313/313 [==============================] - 5s 15ms/step - loss: 0.6318 - accuracy: 0.6406 - val_loss: 0.6191 - val_accuracy: 0.6720\n",
      "Epoch 56/120\n",
      "313/313 [==============================] - 5s 15ms/step - loss: 0.6160 - accuracy: 0.6575 - val_loss: 0.6026 - val_accuracy: 0.6830\n",
      "Epoch 57/120\n",
      "313/313 [==============================] - 5s 16ms/step - loss: 0.6074 - accuracy: 0.6743 - val_loss: 0.5925 - val_accuracy: 0.6890\n",
      "Epoch 58/120\n",
      "313/313 [==============================] - 5s 15ms/step - loss: 0.5893 - accuracy: 0.6843 - val_loss: 0.5736 - val_accuracy: 0.7000\n",
      "Epoch 59/120\n",
      "313/313 [==============================] - 5s 15ms/step - loss: 0.5786 - accuracy: 0.6975 - val_loss: 0.5542 - val_accuracy: 0.7100\n",
      "Epoch 60/120\n",
      "313/313 [==============================] - 5s 15ms/step - loss: 0.5597 - accuracy: 0.7149 - val_loss: 0.5446 - val_accuracy: 0.7250\n",
      "Epoch 61/120\n",
      "313/313 [==============================] - 4s 13ms/step - loss: 0.5417 - accuracy: 0.7220 - val_loss: 0.5435 - val_accuracy: 0.7310\n",
      "Epoch 62/120\n",
      "313/313 [==============================] - 5s 15ms/step - loss: 0.5229 - accuracy: 0.7462 - val_loss: 0.5039 - val_accuracy: 0.7660\n",
      "Epoch 63/120\n",
      "313/313 [==============================] - 5s 16ms/step - loss: 0.5079 - accuracy: 0.7570 - val_loss: 0.4977 - val_accuracy: 0.7720\n",
      "Epoch 64/120\n",
      "313/313 [==============================] - 5s 16ms/step - loss: 0.4935 - accuracy: 0.7677 - val_loss: 0.5053 - val_accuracy: 0.7600\n",
      "Epoch 65/120\n",
      "313/313 [==============================] - 5s 15ms/step - loss: 0.4834 - accuracy: 0.7702 - val_loss: 0.4865 - val_accuracy: 0.7650\n",
      "Epoch 66/120\n",
      "313/313 [==============================] - 5s 17ms/step - loss: 0.4639 - accuracy: 0.7834 - val_loss: 0.4716 - val_accuracy: 0.7830\n",
      "Epoch 67/120\n",
      "313/313 [==============================] - 5s 15ms/step - loss: 0.4635 - accuracy: 0.7828 - val_loss: 0.4580 - val_accuracy: 0.7840\n",
      "Epoch 68/120\n",
      "313/313 [==============================] - 5s 15ms/step - loss: 0.4567 - accuracy: 0.7880 - val_loss: 0.4730 - val_accuracy: 0.7700\n",
      "Epoch 69/120\n",
      "313/313 [==============================] - 4s 14ms/step - loss: 0.4522 - accuracy: 0.7893 - val_loss: 0.4553 - val_accuracy: 0.7820\n",
      "Epoch 70/120\n",
      "313/313 [==============================] - 4s 12ms/step - loss: 0.4334 - accuracy: 0.8054 - val_loss: 0.4323 - val_accuracy: 0.7910\n",
      "Epoch 71/120\n",
      "313/313 [==============================] - 5s 15ms/step - loss: 0.4327 - accuracy: 0.8046 - val_loss: 0.4255 - val_accuracy: 0.7940\n",
      "Epoch 72/120\n",
      "313/313 [==============================] - 5s 15ms/step - loss: 0.4245 - accuracy: 0.8104 - val_loss: 0.4143 - val_accuracy: 0.8060\n",
      "Epoch 73/120\n",
      "313/313 [==============================] - 5s 15ms/step - loss: 0.4176 - accuracy: 0.8141 - val_loss: 0.4156 - val_accuracy: 0.7880\n",
      "Epoch 74/120\n",
      "313/313 [==============================] - 4s 14ms/step - loss: 0.4072 - accuracy: 0.8158 - val_loss: 0.4238 - val_accuracy: 0.8050\n",
      "Epoch 75/120\n",
      "313/313 [==============================] - 5s 15ms/step - loss: 0.4115 - accuracy: 0.8140 - val_loss: 0.4105 - val_accuracy: 0.8000\n",
      "Epoch 76/120\n",
      "313/313 [==============================] - 5s 15ms/step - loss: 0.4007 - accuracy: 0.8201 - val_loss: 0.4179 - val_accuracy: 0.8020\n",
      "Epoch 77/120\n",
      "313/313 [==============================] - 5s 16ms/step - loss: 0.3989 - accuracy: 0.8277 - val_loss: 0.4350 - val_accuracy: 0.8030\n",
      "Epoch 78/120\n",
      "313/313 [==============================] - 5s 16ms/step - loss: 0.3953 - accuracy: 0.8232 - val_loss: 0.4177 - val_accuracy: 0.8090\n",
      "Epoch 79/120\n",
      "313/313 [==============================] - 5s 15ms/step - loss: 0.3929 - accuracy: 0.8254 - val_loss: 0.4397 - val_accuracy: 0.8040\n",
      "Epoch 80/120\n",
      "313/313 [==============================] - 5s 16ms/step - loss: 0.3925 - accuracy: 0.8284 - val_loss: 0.4118 - val_accuracy: 0.8130\n",
      "Epoch 81/120\n",
      "313/313 [==============================] - 5s 16ms/step - loss: 0.3831 - accuracy: 0.8340 - val_loss: 0.4202 - val_accuracy: 0.8090\n",
      "Epoch 82/120\n",
      "313/313 [==============================] - 5s 15ms/step - loss: 0.3877 - accuracy: 0.8319 - val_loss: 0.4109 - val_accuracy: 0.8100\n",
      "Epoch 83/120\n",
      "313/313 [==============================] - 5s 16ms/step - loss: 0.3880 - accuracy: 0.8295 - val_loss: 0.4051 - val_accuracy: 0.8070\n",
      "Epoch 84/120\n",
      "313/313 [==============================] - 4s 14ms/step - loss: 0.3823 - accuracy: 0.8302 - val_loss: 0.4045 - val_accuracy: 0.8160\n",
      "Epoch 85/120\n",
      "313/313 [==============================] - 5s 16ms/step - loss: 0.3779 - accuracy: 0.8361 - val_loss: 0.4076 - val_accuracy: 0.8080\n",
      "Epoch 86/120\n",
      "313/313 [==============================] - 5s 15ms/step - loss: 0.3748 - accuracy: 0.8384 - val_loss: 0.4199 - val_accuracy: 0.8170\n",
      "Epoch 87/120\n",
      "313/313 [==============================] - 5s 17ms/step - loss: 0.3743 - accuracy: 0.8382 - val_loss: 0.4077 - val_accuracy: 0.8170\n",
      "Epoch 88/120\n",
      "313/313 [==============================] - 5s 15ms/step - loss: 0.3734 - accuracy: 0.8365 - val_loss: 0.4130 - val_accuracy: 0.8230\n",
      "Epoch 89/120\n",
      "313/313 [==============================] - 5s 16ms/step - loss: 0.3737 - accuracy: 0.8382 - val_loss: 0.4030 - val_accuracy: 0.8070\n",
      "Epoch 90/120\n",
      "313/313 [==============================] - 5s 15ms/step - loss: 0.3696 - accuracy: 0.8359 - val_loss: 0.4086 - val_accuracy: 0.8080\n",
      "Epoch 91/120\n",
      "313/313 [==============================] - 5s 16ms/step - loss: 0.3650 - accuracy: 0.8418 - val_loss: 0.3996 - val_accuracy: 0.8120\n",
      "Epoch 92/120\n",
      "313/313 [==============================] - 4s 14ms/step - loss: 0.3666 - accuracy: 0.8430 - val_loss: 0.4200 - val_accuracy: 0.8110\n",
      "Epoch 93/120\n",
      "313/313 [==============================] - 5s 16ms/step - loss: 0.3611 - accuracy: 0.8425 - val_loss: 0.4166 - val_accuracy: 0.8120\n",
      "Epoch 94/120\n",
      "313/313 [==============================] - 5s 15ms/step - loss: 0.3540 - accuracy: 0.8436 - val_loss: 0.4178 - val_accuracy: 0.8110\n",
      "Epoch 95/120\n",
      "313/313 [==============================] - 4s 14ms/step - loss: 0.3561 - accuracy: 0.8450 - val_loss: 0.4490 - val_accuracy: 0.8110\n",
      "Epoch 96/120\n",
      "313/313 [==============================] - 4s 14ms/step - loss: 0.3584 - accuracy: 0.8444 - val_loss: 0.4447 - val_accuracy: 0.8020\n",
      "Epoch 97/120\n",
      "313/313 [==============================] - 5s 16ms/step - loss: 0.3482 - accuracy: 0.8479 - val_loss: 0.4266 - val_accuracy: 0.8150\n",
      "Epoch 98/120\n",
      "313/313 [==============================] - 5s 15ms/step - loss: 0.3539 - accuracy: 0.8492 - val_loss: 0.4027 - val_accuracy: 0.8090\n",
      "Epoch 99/120\n",
      "313/313 [==============================] - 5s 15ms/step - loss: 0.3533 - accuracy: 0.8473 - val_loss: 0.4146 - val_accuracy: 0.8060\n",
      "Epoch 100/120\n",
      "313/313 [==============================] - 5s 15ms/step - loss: 0.3507 - accuracy: 0.8474 - val_loss: 0.4262 - val_accuracy: 0.8130\n",
      "Epoch 101/120\n",
      "313/313 [==============================] - 5s 16ms/step - loss: 0.3485 - accuracy: 0.8472 - val_loss: 0.4112 - val_accuracy: 0.8090\n",
      "Epoch 102/120\n",
      "313/313 [==============================] - 5s 16ms/step - loss: 0.3478 - accuracy: 0.8496 - val_loss: 0.4318 - val_accuracy: 0.7940\n",
      "Epoch 103/120\n",
      "313/313 [==============================] - 5s 15ms/step - loss: 0.3397 - accuracy: 0.8550 - val_loss: 0.4175 - val_accuracy: 0.8130\n",
      "Epoch 104/120\n",
      "313/313 [==============================] - 5s 15ms/step - loss: 0.3438 - accuracy: 0.8484 - val_loss: 0.4176 - val_accuracy: 0.8150\n",
      "Epoch 105/120\n",
      "313/313 [==============================] - 5s 15ms/step - loss: 0.3440 - accuracy: 0.8511 - val_loss: 0.4093 - val_accuracy: 0.8100\n",
      "Epoch 106/120\n",
      "313/313 [==============================] - 4s 14ms/step - loss: 0.3441 - accuracy: 0.8532 - val_loss: 0.4024 - val_accuracy: 0.8150\n",
      "Epoch 107/120\n",
      "313/313 [==============================] - 5s 16ms/step - loss: 0.3442 - accuracy: 0.8524 - val_loss: 0.4149 - val_accuracy: 0.8070\n",
      "Epoch 108/120\n",
      "313/313 [==============================] - 5s 17ms/step - loss: 0.3380 - accuracy: 0.8559 - val_loss: 0.4399 - val_accuracy: 0.8090\n",
      "Epoch 109/120\n",
      "313/313 [==============================] - 5s 15ms/step - loss: 0.3371 - accuracy: 0.8541 - val_loss: 0.4156 - val_accuracy: 0.8080\n",
      "Epoch 110/120\n",
      "313/313 [==============================] - 4s 14ms/step - loss: 0.3360 - accuracy: 0.8526 - val_loss: 0.4178 - val_accuracy: 0.8070\n",
      "Epoch 111/120\n",
      "313/313 [==============================] - 5s 15ms/step - loss: 0.3259 - accuracy: 0.8583 - val_loss: 0.4424 - val_accuracy: 0.7930\n",
      "Epoch 112/120\n",
      "313/313 [==============================] - 5s 15ms/step - loss: 0.3351 - accuracy: 0.8518 - val_loss: 0.4346 - val_accuracy: 0.8030\n",
      "Epoch 113/120\n"
     ]
    },
    {
     "name": "stdout",
     "output_type": "stream",
     "text": [
      "313/313 [==============================] - 5s 15ms/step - loss: 0.3242 - accuracy: 0.8568 - val_loss: 0.4461 - val_accuracy: 0.8050\n",
      "Epoch 114/120\n",
      "313/313 [==============================] - 4s 14ms/step - loss: 0.3285 - accuracy: 0.8572 - val_loss: 0.4305 - val_accuracy: 0.8160\n",
      "Epoch 115/120\n",
      "313/313 [==============================] - 5s 14ms/step - loss: 0.3251 - accuracy: 0.8594 - val_loss: 0.4273 - val_accuracy: 0.8100\n",
      "Epoch 116/120\n",
      "313/313 [==============================] - 5s 16ms/step - loss: 0.3184 - accuracy: 0.8625 - val_loss: 0.4181 - val_accuracy: 0.8080\n",
      "Epoch 117/120\n",
      "313/313 [==============================] - 4s 14ms/step - loss: 0.3288 - accuracy: 0.8580 - val_loss: 0.4112 - val_accuracy: 0.8050\n",
      "Epoch 118/120\n",
      "313/313 [==============================] - 4s 14ms/step - loss: 0.3204 - accuracy: 0.8628 - val_loss: 0.4213 - val_accuracy: 0.8130\n",
      "Epoch 119/120\n",
      "313/313 [==============================] - 5s 15ms/step - loss: 0.3153 - accuracy: 0.8642 - val_loss: 0.4190 - val_accuracy: 0.8130\n",
      "Epoch 120/120\n",
      "313/313 [==============================] - 4s 14ms/step - loss: 0.3183 - accuracy: 0.8614 - val_loss: 0.4493 - val_accuracy: 0.8050\n"
     ]
    }
   ],
   "source": [
    "# train\n",
    "history = model.fit([inputs_train, queries_train], answers_train,batch_size=32,epochs=120,validation_data=([inputs_test, queries_test], answers_test))"
   ]
  },
  {
   "cell_type": "markdown",
   "metadata": {},
   "source": [
    "### Sauvegarder le Modèle"
   ]
  },
  {
   "cell_type": "code",
   "execution_count": 70,
   "metadata": {},
   "outputs": [],
   "source": [
    "filename = 'chatbot_120_epochs.h5'\n",
    "#model.save(filename)"
   ]
  },
  {
   "cell_type": "markdown",
   "metadata": {},
   "source": [
    "## Evaluer le Modèle\n",
    "\n",
    "### Tracer l'historique de l'entrainement"
   ]
  },
  {
   "cell_type": "code",
   "execution_count": 67,
   "metadata": {},
   "outputs": [
    {
     "data": {
      "text/plain": [
       "[0.4878000020980835,\n",
       " 0.49880000948905945,\n",
       " 0.5,\n",
       " 0.4975999891757965,\n",
       " 0.5051000118255615,\n",
       " 0.5098000168800354,\n",
       " 0.5027999877929688,\n",
       " 0.5040000081062317,\n",
       " 0.4991999864578247,\n",
       " 0.5008999705314636,\n",
       " 0.4977000057697296,\n",
       " 0.5040000081062317,\n",
       " 0.5023000240325928,\n",
       " 0.49639999866485596,\n",
       " 0.5049999952316284,\n",
       " 0.5044000148773193,\n",
       " 0.5005000233650208,\n",
       " 0.5,\n",
       " 0.5034000277519226,\n",
       " 0.4991999864578247,\n",
       " 0.49950000643730164,\n",
       " 0.4936999976634979,\n",
       " 0.4918000102043152,\n",
       " 0.5016000270843506,\n",
       " 0.4966999888420105,\n",
       " 0.49880000948905945,\n",
       " 0.5055999755859375,\n",
       " 0.5001000165939331,\n",
       " 0.5045999884605408,\n",
       " 0.49729999899864197,\n",
       " 0.5153999924659729,\n",
       " 0.5041000247001648,\n",
       " 0.5020999908447266,\n",
       " 0.5077000260353088,\n",
       " 0.5001000165939331,\n",
       " 0.5084999799728394,\n",
       " 0.5120999813079834,\n",
       " 0.516700029373169,\n",
       " 0.5105000138282776,\n",
       " 0.510200023651123,\n",
       " 0.5192000269889832,\n",
       " 0.5177000164985657,\n",
       " 0.5228000283241272,\n",
       " 0.5257999897003174,\n",
       " 0.5253999829292297,\n",
       " 0.5335999727249146,\n",
       " 0.5482000112533569,\n",
       " 0.5688999891281128,\n",
       " 0.5838000178337097,\n",
       " 0.5960000157356262,\n",
       " 0.5975000262260437,\n",
       " 0.6190000176429749,\n",
       " 0.6227999925613403,\n",
       " 0.6363000273704529,\n",
       " 0.6406000256538391,\n",
       " 0.6575000286102295,\n",
       " 0.6743000149726868,\n",
       " 0.6843000054359436,\n",
       " 0.6974999904632568,\n",
       " 0.714900016784668,\n",
       " 0.722000002861023,\n",
       " 0.7462000250816345,\n",
       " 0.7570000290870667,\n",
       " 0.7677000164985657,\n",
       " 0.7702000141143799,\n",
       " 0.7833999991416931,\n",
       " 0.782800018787384,\n",
       " 0.7879999876022339,\n",
       " 0.7893000245094299,\n",
       " 0.805400013923645,\n",
       " 0.8046000003814697,\n",
       " 0.8104000091552734,\n",
       " 0.8141000270843506,\n",
       " 0.8158000111579895,\n",
       " 0.8140000104904175,\n",
       " 0.8201000094413757,\n",
       " 0.8277000188827515,\n",
       " 0.823199987411499,\n",
       " 0.8253999948501587,\n",
       " 0.8284000158309937,\n",
       " 0.8339999914169312,\n",
       " 0.8319000005722046,\n",
       " 0.8295000195503235,\n",
       " 0.8302000164985657,\n",
       " 0.8360999822616577,\n",
       " 0.8384000062942505,\n",
       " 0.8381999731063843,\n",
       " 0.8364999890327454,\n",
       " 0.8381999731063843,\n",
       " 0.8359000086784363,\n",
       " 0.8417999744415283,\n",
       " 0.8429999947547913,\n",
       " 0.8424999713897705,\n",
       " 0.8435999751091003,\n",
       " 0.8450000286102295,\n",
       " 0.8443999886512756,\n",
       " 0.8478999733924866,\n",
       " 0.8492000102996826,\n",
       " 0.8472999930381775,\n",
       " 0.8474000096321106,\n",
       " 0.8471999764442444,\n",
       " 0.8496000170707703,\n",
       " 0.8550000190734863,\n",
       " 0.8483999967575073,\n",
       " 0.8511000275611877,\n",
       " 0.8532000184059143,\n",
       " 0.852400004863739,\n",
       " 0.85589998960495,\n",
       " 0.8540999889373779,\n",
       " 0.8525999784469604,\n",
       " 0.858299970626831,\n",
       " 0.8518000245094299,\n",
       " 0.8568000197410583,\n",
       " 0.857200026512146,\n",
       " 0.8593999743461609,\n",
       " 0.862500011920929,\n",
       " 0.8579999804496765,\n",
       " 0.8628000020980835,\n",
       " 0.8641999959945679,\n",
       " 0.8614000082015991]"
      ]
     },
     "execution_count": 67,
     "metadata": {},
     "output_type": "execute_result"
    }
   ],
   "source": [
    "history.history['accuracy']"
   ]
  },
  {
   "cell_type": "code",
   "execution_count": 68,
   "metadata": {},
   "outputs": [
    {
     "name": "stdout",
     "output_type": "stream",
     "text": [
      "dict_keys(['loss', 'accuracy', 'val_loss', 'val_accuracy'])\n"
     ]
    },
    {
     "data": {
      "image/png": "[encoded data removed]",
      "text/plain": [
       "<Figure size 640x480 with 1 Axes>"
      ]
     },
     "metadata": {},
     "output_type": "display_data"
    }
   ],
   "source": [
    "import matplotlib.pyplot as plt\n",
    "%matplotlib inline\n",
    "print(history.history.keys())\n",
    "# summarize history for accuracy\n",
    "plt.plot(history.history['accuracy'])\n",
    "plt.plot(history.history['val_accuracy'])\n",
    "plt.title('model accuracy')\n",
    "plt.ylabel('accuracy')\n",
    "plt.xlabel('epoch')\n",
    "plt.legend(['train', 'test'], loc='upper left')\n",
    "plt.show()"
   ]
  },
  {
   "cell_type": "markdown",
   "metadata": {},
   "source": [
    "### Evaluer sur un test set donné"
   ]
  },
  {
   "cell_type": "code",
   "execution_count": 71,
   "metadata": {},
   "outputs": [
    {
     "name": "stdout",
     "output_type": "stream",
     "text": [
      "32/32 [==============================] - 0s 2ms/step\n"
     ]
    }
   ],
   "source": [
    "model.load_weights(filename)\n",
    "pred_results = model.predict(([inputs_test, queries_test]))"
   ]
  },
  {
   "cell_type": "code",
   "execution_count": 73,
   "metadata": {},
   "outputs": [
    {
     "data": {
      "text/plain": [
       "['Mary',\n",
       " 'got',\n",
       " 'the',\n",
       " 'milk',\n",
       " 'there',\n",
       " '.',\n",
       " 'John',\n",
       " 'moved',\n",
       " 'to',\n",
       " 'the',\n",
       " 'bedroom',\n",
       " '.']"
      ]
     },
     "execution_count": 73,
     "metadata": {},
     "output_type": "execute_result"
    }
   ],
   "source": [
    "test_data[0][0]"
   ]
  },
  {
   "cell_type": "code",
   "execution_count": 74,
   "metadata": {},
   "outputs": [
    {
     "name": "stdout",
     "output_type": "stream",
     "text": [
      "Mary got the milk there . John moved to the bedroom .\n"
     ]
    }
   ],
   "source": [
    "story =' '.join(word for word in test_data[0][0])\n",
    "print(story)"
   ]
  },
  {
   "cell_type": "code",
   "execution_count": 75,
   "metadata": {},
   "outputs": [
    {
     "name": "stdout",
     "output_type": "stream",
     "text": [
      "Is John in the kitchen ?\n"
     ]
    }
   ],
   "source": [
    "query = ' '.join(word for word in test_data[0][1])\n",
    "print(query)"
   ]
  },
  {
   "cell_type": "code",
   "execution_count": 76,
   "metadata": {},
   "outputs": [
    {
     "name": "stdout",
     "output_type": "stream",
     "text": [
      "True Test Answer from Data is: no\n"
     ]
    }
   ],
   "source": [
    "print(\"True Test Answer from Data is:\",test_data[0][2])"
   ]
  },
  {
   "cell_type": "code",
   "execution_count": 78,
   "metadata": {},
   "outputs": [
    {
     "name": "stdout",
     "output_type": "stream",
     "text": [
      "Predicted answer is:  no\n",
      "Probability of certainty was:  0.9999999\n"
     ]
    }
   ],
   "source": [
    "#Generate prediction from model\n",
    "val_max = np.argmax(pred_results[0])\n",
    "\n",
    "for key, val in tokenizer.word_index.items():\n",
    "    if val == val_max:\n",
    "        k = key\n",
    "\n",
    "print(\"Predicted answer is: \", k)\n",
    "print(\"Probability of certainty was: \", pred_results[0][val_max])"
   ]
  },
  {
   "cell_type": "markdown",
   "metadata": {},
   "source": [
    "## Rédiger vos propres histoires et questions\n",
    "\n",
    "N'oubliez pas que vous ne pouvez utiliser que des mots du vocabulaire existant."
   ]
  },
  {
   "cell_type": "code",
   "execution_count": 59,
   "metadata": {},
   "outputs": [
    {
     "data": {
      "text/plain": [
       "{'.',\n",
       " '?',\n",
       " 'Daniel',\n",
       " 'Is',\n",
       " 'John',\n",
       " 'Mary',\n",
       " 'Sandra',\n",
       " 'apple',\n",
       " 'back',\n",
       " 'bathroom',\n",
       " 'bedroom',\n",
       " 'discarded',\n",
       " 'down',\n",
       " 'dropped',\n",
       " 'football',\n",
       " 'garden',\n",
       " 'got',\n",
       " 'grabbed',\n",
       " 'hallway',\n",
       " 'in',\n",
       " 'journeyed',\n",
       " 'kitchen',\n",
       " 'left',\n",
       " 'milk',\n",
       " 'moved',\n",
       " 'no',\n",
       " 'office',\n",
       " 'picked',\n",
       " 'put',\n",
       " 'the',\n",
       " 'there',\n",
       " 'to',\n",
       " 'took',\n",
       " 'travelled',\n",
       " 'up',\n",
       " 'went',\n",
       " 'yes'}"
      ]
     },
     "execution_count": 59,
     "metadata": {},
     "output_type": "execute_result"
    }
   ],
   "source": [
    "vocab"
   ]
  },
  {
   "cell_type": "code",
   "execution_count": 80,
   "metadata": {},
   "outputs": [
    {
     "data": {
      "text/plain": [
       "['John',\n",
       " 'left',\n",
       " 'the',\n",
       " 'kitchen',\n",
       " '.',\n",
       " 'Sandra',\n",
       " 'dropped',\n",
       " 'the',\n",
       " 'football',\n",
       " 'in',\n",
       " 'the',\n",
       " 'garden',\n",
       " '.']"
      ]
     },
     "execution_count": 80,
     "metadata": {},
     "output_type": "execute_result"
    }
   ],
   "source": [
    "# Note the whitespace of the periods\n",
    "my_story = \"John left the kitchen . Sandra dropped the football in the garden .\"\n",
    "my_story.split()"
   ]
  },
  {
   "cell_type": "code",
   "execution_count": 81,
   "metadata": {
    "collapsed": true
   },
   "outputs": [],
   "source": [
    "my_question = \"Is the football in the garden ?\""
   ]
  },
  {
   "cell_type": "code",
   "execution_count": 82,
   "metadata": {},
   "outputs": [
    {
     "data": {
      "text/plain": [
       "['Is', 'the', 'football', 'in', 'the', 'garden', '?']"
      ]
     },
     "execution_count": 82,
     "metadata": {},
     "output_type": "execute_result"
    }
   ],
   "source": [
    "my_question.split()"
   ]
  },
  {
   "cell_type": "code",
   "execution_count": 83,
   "metadata": {
    "collapsed": true
   },
   "outputs": [],
   "source": [
    "mydata = [(my_story.split(),my_question.split(),'yes')]"
   ]
  },
  {
   "cell_type": "code",
   "execution_count": 84,
   "metadata": {
    "collapsed": true
   },
   "outputs": [],
   "source": [
    "my_story,my_ques,my_ans = vectorize_stories(mydata)"
   ]
  },
  {
   "cell_type": "code",
   "execution_count": 85,
   "metadata": {
    "collapsed": true
   },
   "outputs": [],
   "source": [
    "pred_results = model.predict(([ my_story, my_ques]))"
   ]
  },
  {
   "cell_type": "code",
   "execution_count": 86,
   "metadata": {},
   "outputs": [
    {
     "name": "stdout",
     "output_type": "stream",
     "text": [
      "Predicted answer is:  yes\n",
      "Probability of certainty was:  0.97079676\n"
     ]
    }
   ],
   "source": [
    "#Generate prediction from model\n",
    "val_max = np.argmax(pred_results[0])\n",
    "\n",
    "for key, val in tokenizer.word_index.items():\n",
    "    if val == val_max:\n",
    "        k = key\n",
    "\n",
    "print(\"Predicted answer is: \", k)\n",
    "print(\"Probability of certainty was: \", pred_results[0][val_max])"
   ]
  }
 ],
 "metadata": {
  "kernelspec": {
   "display_name": "Python 3 (ipykernel)",
   "language": "python",
   "name": "python3"
  },
  "language_info": {
   "codemirror_mode": {
    "name": "ipython",
    "version": 3
   },
   "file_extension": ".py",
   "mimetype": "text/x-python",
   "name": "python",
   "nbconvert_exporter": "python",
   "pygments_lexer": "ipython3",
   "version": "3.7.16"
  }
 },
 "nbformat": 4,
 "nbformat_minor": 2
}

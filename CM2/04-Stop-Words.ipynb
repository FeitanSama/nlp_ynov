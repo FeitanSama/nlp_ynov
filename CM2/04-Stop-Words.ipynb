{
 "cells": [
  {
   "cell_type": "markdown",
   "metadata": {},
   "source": [
    "# Stop Words\n",
    "Des mots comme \"a\" et \"the\" apparaissent si fréquemment qu'ils ne nécessitent pas un balisage aussi complet que les noms, les verbes et les modificateurs. Nous les appelons *stop words*, et ils peuvent être filtrés du texte à traiter. spaCy contient une liste intégrée de quelque 305 stop words anglais."
   ]
  },
  {
   "cell_type": "code",
   "execution_count": 1,
   "metadata": {},
   "outputs": [],
   "source": [
    "# Perform standard imports:\n",
    "import spacy\n",
    "nlp = spacy.load('en_core_web_sm')"
   ]
  },
  {
   "cell_type": "code",
   "execution_count": 2,
   "metadata": {},
   "outputs": [
    {
     "name": "stdout",
     "output_type": "stream",
     "text": [
      "{'name', 'above', 'last', 'up', 'hundred', 'throughout', 'whither', 'whereby', 'himself', 'meanwhile', 'seemed', 'mine', 'whose', 'had', 'why', 'two', 'nothing', 'namely', 'those', 'forty', 'back', 'can', 'how', 'of', 'several', 'among', 'she', 'empty', 'fifty', 'onto', 'whereafter', 'alone', 'amongst', 'one', 'thereafter', 'more', 'down', 'four', 'hers', 'when', 'fifteen', 'used', 'every', 'everywhere', 'doing', 'enough', 'move', 'ours', 'due', 'their', 'them', 'other', 'he', 'whom', 'off', 'something', 'my', 'besides', 'still', 'rather', 'about', 're', 'somehow', 'twelve', 'during', 'less', 'moreover', 'herein', 'over', 'third', 'everyone', 'quite', 'all', 'a', 'in', 'indeed', 'three', 'ourselves', 'another', 'under', 'ever', 'using', 'either', 'never', 'this', 'thus', 'you', 'each', 'around', 'part', 'through', 'nobody', 'thereupon', 'eleven', 'into', 'only', 'full', 'do', 'further', 'hereby', 'least', 'take', 'themselves', 'please', 'serious', 'at', 'sixty', 'somewhere', 'therefore', 'via', 'by', 'very', 'there', 'five', 'anywhere', 'hereupon', 'noone', 'seem', 'so', 'whenever', 'nevertheless', 'some', 'became', 'any', 'because', 'have', 'both', 'hence', 'although', 'become', 'are', 'mostly', 'against', 'nine', 'ca', 'almost', 'to', 'twenty', 'whether', 'whole', 'even', 'our', 'thence', 'front', 'i', 'without', 'becomes', 'give', 'we', 'itself', 'afterwards', 'top', 'has', 'may', 'an', 'across', 'where', 'most', 'really', 'together', 'wherever', 'anything', 'being', 'as', 'often', 'yourself', 'its', 'again', 'seems', 'us', 'once', 'along', 'his', 'see', 'few', 'per', 'keep', 'same', 'eight', 'however', 'anyhow', 'anyone', 'though', 'otherwise', 'out', 'already', 'amount', 'anyway', 'sometimes', 'then', 'these', 'thru', 'others', 'sometime', 'that', 'thereby', 'yours', 'whoever', 'various', 'make', 'would', 'your', 'many', 'for', 'is', 'well', 'does', 'own', 'done', 'elsewhere', 'myself', 'between', 'herself', 'if', 'say', 'since', 'cannot', 'go', 'former', 'bottom', 'else', 'none', 'becoming', 'always', 'the', 'whereas', 'which', 'now', 'must', 'not', 'they', 'regarding', 'from', 'also', 'made', 'latter', 'while', 'nor', 'much', 'except', 'put', 'ten', 'call', 'too', 'been', 'should', 'on', 'side', 'latterly', 'beyond', 'were', 'such', 'within', 'me', 'wherein', 'who', 'neither', 'hereafter', 'therein', 'first', 'next', 'nowhere', 'behind', 'but', 'will', 'beside', 'could', 'get', 'toward', 'yet', 'seeming', 'whatever', 'everything', 'perhaps', 'six', 'am', 'did', 'here', 'beforehand', 'him', 'whence', 'formerly', 'might', 'someone', 'just', 'or', 'before', 'it', 'show', 'than', 'what', 'yourselves', 'her', 'until', 'be', 'no', 'and', 'towards', 'whereupon', 'after', 'was', 'with', 'below', 'upon', 'unless'}\n"
     ]
    }
   ],
   "source": [
    "# Print the set of spaCy's default stop words (remember that sets are unordered):\n",
    "print(nlp.Defaults.stop_words)"
   ]
  },
  {
   "cell_type": "code",
   "execution_count": 3,
   "metadata": {},
   "outputs": [
    {
     "data": {
      "text/plain": [
       "305"
      ]
     },
     "execution_count": 3,
     "metadata": {},
     "output_type": "execute_result"
    }
   ],
   "source": [
    "len(nlp.Defaults.stop_words)"
   ]
  },
  {
   "cell_type": "markdown",
   "metadata": {},
   "source": [
    "## Voir si un mot est un stop word"
   ]
  },
  {
   "cell_type": "code",
   "execution_count": 4,
   "metadata": {},
   "outputs": [
    {
     "data": {
      "text/plain": [
       "True"
      ]
     },
     "execution_count": 4,
     "metadata": {},
     "output_type": "execute_result"
    }
   ],
   "source": [
    "nlp.vocab['myself'].is_stop"
   ]
  },
  {
   "cell_type": "code",
   "execution_count": 5,
   "metadata": {},
   "outputs": [
    {
     "data": {
      "text/plain": [
       "False"
      ]
     },
     "execution_count": 5,
     "metadata": {},
     "output_type": "execute_result"
    }
   ],
   "source": [
    "nlp.vocab['mystery'].is_stop"
   ]
  },
  {
   "cell_type": "markdown",
   "metadata": {},
   "source": [
    "## To add a stop word\n",
    "Il peut arriver que vous souhaitiez ajouter un stop word à l'ensemble par défaut. Vous pouvez par exemple décider que `'btw'` (abréviation courante de \"by the way\") doit être considéré comme un stop word."
   ]
  },
  {
   "cell_type": "code",
   "execution_count": 6,
   "metadata": {},
   "outputs": [],
   "source": [
    "# Add the word to the set of stop words. Use lowercase!\n",
    "nlp.Defaults.stop_words.add('btw')\n",
    "\n",
    "# Set the stop_word tag on the lexeme\n",
    "nlp.vocab['btw'].is_stop = True"
   ]
  },
  {
   "cell_type": "code",
   "execution_count": 7,
   "metadata": {},
   "outputs": [
    {
     "data": {
      "text/plain": [
       "306"
      ]
     },
     "execution_count": 7,
     "metadata": {},
     "output_type": "execute_result"
    }
   ],
   "source": [
    "len(nlp.Defaults.stop_words)"
   ]
  },
  {
   "cell_type": "code",
   "execution_count": 8,
   "metadata": {},
   "outputs": [
    {
     "data": {
      "text/plain": [
       "True"
      ]
     },
     "execution_count": 8,
     "metadata": {},
     "output_type": "execute_result"
    }
   ],
   "source": [
    "nlp.vocab['btw'].is_stop"
   ]
  },
  {
   "cell_type": "markdown",
   "metadata": {},
   "source": [
    "<font color=green>Lorsque vous ajoutez des mots vides, utilisez toujours des minuscules. Les lexèmes sont convertis en minuscules avant d'être ajoutés à **vocab**.</font>"
   ]
  },
  {
   "cell_type": "markdown",
   "metadata": {},
   "source": [
    "## Pour supprimer un stop word\n",
    "Vous pouvez également décider que `'beyond'` ne doit pas être considéré comme un mot d'arrêt."
   ]
  },
  {
   "cell_type": "code",
   "execution_count": 9,
   "metadata": {},
   "outputs": [],
   "source": [
    "# Remove the word from the set of stop words\n",
    "nlp.Defaults.stop_words.remove('beyond')\n",
    "\n",
    "# Remove the stop_word tag from the lexeme\n",
    "nlp.vocab['beyond'].is_stop = False"
   ]
  },
  {
   "cell_type": "code",
   "execution_count": 10,
   "metadata": {},
   "outputs": [
    {
     "data": {
      "text/plain": [
       "305"
      ]
     },
     "execution_count": 10,
     "metadata": {},
     "output_type": "execute_result"
    }
   ],
   "source": [
    "len(nlp.Defaults.stop_words)"
   ]
  },
  {
   "cell_type": "code",
   "execution_count": 11,
   "metadata": {},
   "outputs": [
    {
     "data": {
      "text/plain": [
       "False"
      ]
     },
     "execution_count": 11,
     "metadata": {},
     "output_type": "execute_result"
    }
   ],
   "source": [
    "nlp.vocab['beyond'].is_stop"
   ]
  },
  {
   "cell_type": "markdown",
   "metadata": {},
   "source": [
    "C'est très bien ! Vous devriez maintenant être en mesure d'accéder à l'ensemble des mots-arrêts par défaut de spaCy, et d'ajouter ou de supprimer des mots-arrêts si nécessaire.\n",
    "## Suivant : Vocabulary and Matching"
   ]
  },
  {
   "cell_type": "code",
   "execution_count": null,
   "metadata": {},
   "outputs": [],
   "source": []
  }
 ],
 "metadata": {
  "kernelspec": {
   "display_name": "Python 3 (ipykernel)",
   "language": "python",
   "name": "python3"
  },
  "language_info": {
   "codemirror_mode": {
    "name": "ipython",
    "version": 3
   },
   "file_extension": ".py",
   "mimetype": "text/x-python",
   "name": "python",
   "nbconvert_exporter": "python",
   "pygments_lexer": "ipython3",
   "version": "3.7.16"
  }
 },
 "nbformat": 4,
 "nbformat_minor": 2
}
